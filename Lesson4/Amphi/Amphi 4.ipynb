{
 "cells": [
  {
   "cell_type": "markdown",
   "metadata": {},
   "source": [
    "# Amphi 4 - Convolutional Networks"
   ]
  },
  {
   "cell_type": "markdown",
   "metadata": {},
   "source": [
    "# 1. Convolution\n",
    "\n",
    "## 1.1 1D Discrete Convolution\n",
    "\n",
    "Let \n",
    "$$\n",
    "x: \\mathbf Z \\to \\mathbf R\n",
    "$$\n",
    "$$\n",
    "t \\mapsto x(t)\n",
    "$$\n",
    "\n",
    "and\n",
    "$$\n",
    "w: \\mathbf Z \\to \\mathbf R\n",
    "$$\n",
    "$$\n",
    "t \\mapsto w(t)\n",
    "$$\n",
    "\n",
    "be 2 functions \n",
    "\n",
    "The following function is called the **discrete convolution** of $x$ and $w$:\n",
    "\n",
    "$$\n",
    "s(t) = (x * w)(t) := \\sum_{a=-\\infty}^\\infty x(t-a) w(a)\n",
    "$$\n",
    "\n",
    "In neural network terminology, the first function $x$ is called the **input**, while the second is called the **kernel**. The output, i.e., the convolution is sometimes referred to as the **feature map**."
   ]
  },
  {
   "cell_type": "markdown",
   "metadata": {},
   "source": [
    "## 1.2 Discrete Convolution in Higher Dimension\n",
    "\n",
    "Let\n",
    "$$\n",
    "I: \\mathbf Z^D \\to \\mathbf R\n",
    "$$\n",
    "$$\n",
    "t = (t_1, \\ldots, t_D) \\mapsto I(t_1, \\ldots, t_D)\n",
    "$$\n",
    "\n",
    "and\n",
    "$$\n",
    "K: \\mathbf Z^D \\to \\mathbf R\n",
    "$$\n",
    "$$\n",
    "t = (t_1, \\ldots, t_D) \\mapsto K(t_1, \\ldots, t_D)\n",
    "$$\n",
    "\n",
    "The discrete convolution is defined as\n",
    "$$\n",
    "S(t) = (K * I)(t) = \\sum_{a_1\\in \\mathbf Z} \\ldots \\sum_{a_D \\in \\mathbf Z} I(t_1 - a_1, \\ldots, t_D - a_D) K(a_1, \\ldots, a_D) \n",
    "$$"
   ]
  },
  {
   "cell_type": "markdown",
   "metadata": {},
   "source": [
    "## 1.3 Confusion on Terminology\n",
    "\n",
    "The following quantity is called **cross-correlation** of the function $I$ and $K$ \n",
    "\n",
    "$$\n",
    "S(t) = (K \\star I)(t) = \\sum_{a_1\\in \\mathbf Z} \\ldots \\sum_{a_D \\in \\mathbf Z} I(t_1 + a_1, \\ldots, t_D + a_D) K(a_1, \\ldots, a_D) \n",
    "$$\n",
    "\n",
    "Many machine learning libraries implement **cross-correlation** and also call it convolution. They call this kind of operation $K \\star I$ the **convolution without kernel flipping** of $K$ and $I$, while $K * I$ the **convolution with kernel flipping**."
   ]
  },
  {
   "cell_type": "markdown",
   "metadata": {},
   "source": [
    "## 1.4 Examples\n",
    "\n",
    "### 1.4.1 Time series\n",
    "\n",
    "Suppose we observe a sequence $t_1, t_2, ...$ and modelize $t_N$ approximately by:\n",
    "\n",
    "$$\n",
    "\\hat{t}_N = a_1 t_{N-1} + a_2 t_{N-2} + \\ldots + a_r t_{N-r}\n",
    "$$\n",
    "\n",
    "for some $r > 0$. This can be rewritten under the form of convolution:\n",
    "\n",
    "$$\n",
    "\\hat{t}_N = (x * a)(N)\n",
    "$$\n",
    "\n",
    "where\n",
    "$$\n",
    "x(n) = \\begin{cases}\n",
    "t_n, \\qquad n=1, \\ldots, N-1\\\\\n",
    "0, \\qquad \\textrm{elsewhere}\n",
    "\\end{cases}\n",
    "$$\n",
    "\n",
    "and\n",
    "$$\n",
    "a(n) = \\begin{cases}\n",
    "a_n, \\qquad n=1, \\ldots, r\\\\\n",
    "0, \\qquad \\textrm{elsewhere}\n",
    "\\end{cases}\n",
    "$$\n",
    "\n",
    "In matrix form, we have\n",
    "$$\n",
    "\\begin{pmatrix}\n",
    "\\hat{t}_1 \\\\\n",
    "\\hat{t}_2 \\\\\n",
    "\\ldots \\\\\n",
    "\\hat{t}_{N}\n",
    "\\end{pmatrix} \n",
    "=\n",
    "\\begin{pmatrix}\n",
    "a_1 & 0 & \\ldots & 0 & 0 & 0 & \\ldots & 0 & 0 \\\\\n",
    "a_2 & a_1 & \\ldots & 0 & 0 & 0 & \\ldots & 0 & 0\\\\\n",
    "\\ldots \\\\\n",
    "0 & 0 & \\ldots & 0 & a_r & a_{r-1} & \\ldots & a_2 & a_1\n",
    "\\end{pmatrix}\n",
    "\\begin{pmatrix}\n",
    "t_0 \\\\\n",
    "t_1 \\\\\n",
    "\\ldots \\\\\n",
    "t_{N-1}\n",
    "\\end{pmatrix}\n",
    "$$\n",
    "\n",
    "The $N \\times N$ matrix in this formula follows this rule: each of its rows equals to the row above shifted by 1 element. This is known as a **Toeplitz matrix**. "
   ]
  },
  {
   "cell_type": "markdown",
   "metadata": {},
   "source": [
    "### 1.4.2 Convolution in 2D Images\n",
    "\n",
    "Suppose we have 2D images of size $M \\times N$.\n",
    "<table>\n",
    "    <tr>\n",
    "        <td>$t_{0,0}$</td>\n",
    "        <td>$t_{0,1}$</td>\n",
    "        <td>$\\ldots$</td>\n",
    "        <td>$t_{0,N-1}$</td>\n",
    "    </tr>\n",
    "    <tr>\n",
    "        <td>$t_{1,0}$</td>\n",
    "        <td>$t_{1,1}$</td>\n",
    "        <td>$\\ldots$</td>\n",
    "        <td>$t_{1,N-1}$</td>\n",
    "    </tr>\n",
    "    <tr>\n",
    "        <td>$\\ldots$</td>\n",
    "        <td>$\\ldots$</td>\n",
    "        <td>$\\ldots$</td>\n",
    "        <td>$\\ldots$</td>\n",
    "    </tr>\n",
    "    <tr>\n",
    "        <td>$t_{M-1,0}$</td>\n",
    "        <td>$t_{M-1,1}$</td>\n",
    "        <td>$\\ldots$</td>\n",
    "        <td>$t_{M-1,N-1}$</td>\n",
    "    </tr>\n",
    "</table>\n",
    "\n",
    "Suppose we create a smoother format of the image by using some weights associated to the neighbor pixels. For example, we have the convolution:\n",
    "\n",
    "$$\n",
    "u = (u_1, u_2) = (I*K)(t_1, t_2)\n",
    "$$\n",
    "\n",
    "where\n",
    "$$\n",
    "K(t_1, t_2) = \\begin{cases} a_{t_1, t_2}, \\qquad |t_1| \\leq 1, |t_2| \\leq 1\\\\\n",
    "0, \\qquad \\textrm{elsewhere}\n",
    "\\end{cases}\n",
    "$$\n",
    "\n",
    "(consider a linear combination of 9 pixels centered at $(t_1, t_2)$). The new image's pixel becomes:\n",
    "<table>\n",
    "    <tr>\n",
    "        <td>$\\ldots$</td>\n",
    "        <td>$\\ldots$</td>\n",
    "        <td>$\\ldots$</td>\n",
    "        <td>$\\ldots$</td>\n",
    "    </tr>\n",
    "    <tr>\n",
    "        <td>$\\ldots$</td>\n",
    "        <td>$\\sum_{i,j=-1}^1 t_{m-i, n-j} a_{i,j}$</td>\n",
    "        <td>$\\sum_{i,j=-1}^1 t_{m-i, n+1-j} a_{i,j}$</td>\n",
    "        <td>$\\ldots$</td>\n",
    "    </tr>\n",
    "    <tr>\n",
    "        <td>$\\ldots$</td>\n",
    "        <td>$\\sum_{i,j=-1}^1 t_{m+1-i, n-j} a_{i,j}$</td>\n",
    "        <td>$\\sum_{i,j=-1}^1 t_{m+1-i, n+1-j} a_{i,j}$</td>\n",
    "        <td>$\\ldots$</td>\n",
    "    </tr>\n",
    "    <tr>\n",
    "        <td>$\\ldots$</td>\n",
    "        <td>$\\ldots$</td>\n",
    "        <td>$\\ldots$</td>\n",
    "        <td>$\\ldots$</td>\n",
    "    </tr>\n",
    "</table>\n",
    "\n",
    "\n",
    "**Illustration**\n",
    "<img src=\"F1.png\" width=600></img>\n",
    "\n",
    "We can have a matrix representation of this transformation as in 1D case by flatten the 2D-image as a vector or using **doubly block circulant matrix**. Like in 1D case, the matrix is sparse."
   ]
  },
  {
   "cell_type": "markdown",
   "metadata": {},
   "source": [
    "# 2. Motivation for Convolutional Networks\n",
    "\n",
    "Convolutional networks are neural networks that use convolution in place of general matrix multiplication in at least one of their layers.\n",
    "\n",
    "<img src=\"F12.png\" width=600></img>\n",
    "\n",
    "Convolution Networks are motivated because:\n",
    "\n",
    "- **Some image processing/time series features can be represented by some convolution.**\n",
    "\n",
    "**Example: Horizontal edge detection**\n"
   ]
  },
  {
   "cell_type": "code",
   "execution_count": 1,
   "metadata": {},
   "outputs": [
    {
     "data": {
      "text/plain": [
       "<matplotlib.image.AxesImage at 0x1469e72c128>"
      ]
     },
     "execution_count": 1,
     "metadata": {},
     "output_type": "execute_result"
    },
    {
     "data": {
      "image/png": "[encoded data removed]",
      "text/plain": [
       "<Figure size 432x288 with 1 Axes>"
      ]
     },
     "metadata": {},
     "output_type": "display_data"
    }
   ],
   "source": [
    "import cv2\n",
    "import matplotlib.pyplot as plt\n",
    "%matplotlib inline\n",
    "\n",
    "img = cv2.imread(\"F2.png\", cv2.IMREAD_GRAYSCALE)\n",
    "plt.imshow(img, cmap='gray')"
   ]
  },
  {
   "cell_type": "code",
   "execution_count": 2,
   "metadata": {},
   "outputs": [
    {
     "name": "stderr",
     "output_type": "stream",
     "text": [
      "C:\\Users\\ndoannguyen\\AppData\\Local\\Continuum\\miniconda3\\envs\\py35\\lib\\site-packages\\h5py\\__init__.py:36: FutureWarning: Conversion of the second argument of issubdtype from `float` to `np.floating` is deprecated. In future, it will be treated as `np.float64 == np.dtype(float).type`.\n",
      "  from ._conv import register_converters as _register_converters\n",
      "Using TensorFlow backend.\n"
     ]
    },
    {
     "name": "stdout",
     "output_type": "stream",
     "text": [
      "(800, 800)\n",
      "_________________________________________________________________\n",
      "Layer (type)                 Output Shape              Param #   \n",
      "=================================================================\n",
      "conv2d_1 (Conv2D)            (None, 799, 800, 1)       2         \n",
      "=================================================================\n",
      "Total params: 2\n",
      "Trainable params: 2\n",
      "Non-trainable params: 0\n",
      "_________________________________________________________________\n"
     ]
    }
   ],
   "source": [
    "from keras import Sequential\n",
    "from keras.layers import Conv2D\n",
    "\n",
    "model = Sequential()\n",
    "shape = img.shape\n",
    "print(shape)\n",
    "model.add(Conv2D(1, (2, 1), input_shape=(shape[0], shape[1], 1), use_bias = False, padding = \"valid\"))\n",
    "model.summary()"
   ]
  },
  {
   "cell_type": "code",
   "execution_count": 3,
   "metadata": {},
   "outputs": [
    {
     "data": {
      "text/plain": [
       "array([[[[-0.26326895]]],\n",
       "\n",
       "\n",
       "       [[[-0.16357684]]]], dtype=float32)"
      ]
     },
     "execution_count": 3,
     "metadata": {},
     "output_type": "execute_result"
    }
   ],
   "source": [
    "model.get_layer(index = 0).get_weights()[0]"
   ]
  },
  {
   "cell_type": "code",
   "execution_count": 4,
   "metadata": {},
   "outputs": [
    {
     "data": {
      "text/plain": [
       "array([[[[ 1.]]],\n",
       "\n",
       "\n",
       "       [[[-1.]]]], dtype=float32)"
      ]
     },
     "execution_count": 4,
     "metadata": {},
     "output_type": "execute_result"
    }
   ],
   "source": [
    "import numpy as np\n",
    "model.get_layer(index = 0).set_weights([np.array([[[[1]]], [[[-1]]]])])\n",
    "model.get_layer(index = 0).get_weights()[0]"
   ]
  },
  {
   "cell_type": "code",
   "execution_count": 5,
   "metadata": {},
   "outputs": [],
   "source": [
    "res = model.predict(img.reshape((1, shape[0], shape[1], 1)))\n",
    "res = res.reshape(res.shape[1], res.shape[2])"
   ]
  },
  {
   "cell_type": "code",
   "execution_count": 6,
   "metadata": {},
   "outputs": [],
   "source": [
    "#model = Sequential()\n",
    "#shape = img.shape\n",
    "#model.add(Conv2D(1, (2, 1), input_shape=(2, 3, 1), use_bias = False, padding = \"valid\"))\n",
    "#model.get_layer(index = 0).set_weights([np.array([[[[1]]], [[[-1]]]])])\n",
    "#new = np.array([[1, 2, 3], [0, 0, 1]])\n",
    "#print(new.shape)\n",
    "#res2 = model.predict(new.reshape((1, 2, 3, 1)))\n",
    "#res2"
   ]
  },
  {
   "cell_type": "code",
   "execution_count": 7,
   "metadata": {},
   "outputs": [
    {
     "data": {
      "text/plain": [
       "<matplotlib.image.AxesImage at 0x146a545da58>"
      ]
     },
     "execution_count": 7,
     "metadata": {},
     "output_type": "execute_result"
    },
    {
     "data": {
      "image/png": "[encoded data removed]",
      "text/plain": [
       "<Figure size 432x288 with 1 Axes>"
      ]
     },
     "metadata": {},
     "output_type": "display_data"
    }
   ],
   "source": [
    "plt.imshow(res, cmap = \"gray\")"
   ]
  },
  {
   "cell_type": "markdown",
   "metadata": {},
   "source": [
    "**Other kernels that can be used to detect vertical edges**\n",
    "\n",
    "- A $3 \\times 3$ matrix:\n",
    "$$\n",
    "\\begin{pmatrix}\n",
    "1 & 0 &-1\\\\\n",
    "1 & 0 &-1\\\\\n",
    "1 & 0 &-1\\\\\n",
    "\\end{pmatrix}\n",
    "$$\n",
    "\n",
    "- The Solbel filter:\n",
    "$$\n",
    "\\begin{pmatrix}\n",
    "1 & 0 &-1\\\\\n",
    "2 & 0 &-2\\\\\n",
    "1 & 0 &-1\\\\\n",
    "\\end{pmatrix}\n",
    "$$\n",
    "\n",
    "- The Scharr filter\n",
    "$$\n",
    "\\begin{pmatrix}\n",
    "3 & 0 &-3\\\\\n",
    "10 & 0 &-10\\\\\n",
    "3 & 0 &-3\\\\\n",
    "\\end{pmatrix}\n",
    "$$"
   ]
  },
  {
   "cell_type": "code",
   "execution_count": 8,
   "metadata": {},
   "outputs": [
    {
     "name": "stdout",
     "output_type": "stream",
     "text": [
      "_________________________________________________________________\n",
      "Layer (type)                 Output Shape              Param #   \n",
      "=================================================================\n",
      "conv2d_2 (Conv2D)            (None, 798, 798, 1)       9         \n",
      "=================================================================\n",
      "Total params: 9\n",
      "Trainable params: 9\n",
      "Non-trainable params: 0\n",
      "_________________________________________________________________\n"
     ]
    }
   ],
   "source": [
    "model = Sequential()\n",
    "shape = img.shape\n",
    "model.add(Conv2D(1, (3, 3), input_shape=(shape[0], shape[1], 1), use_bias = False, padding = \"valid\"))\n",
    "model.summary()"
   ]
  },
  {
   "cell_type": "code",
   "execution_count": 9,
   "metadata": {},
   "outputs": [
    {
     "data": {
      "text/plain": [
       "(3, 3, 1, 1)"
      ]
     },
     "execution_count": 9,
     "metadata": {},
     "output_type": "execute_result"
    }
   ],
   "source": [
    "model.get_layer(index = 0).get_weights()[0].shape"
   ]
  },
  {
   "cell_type": "code",
   "execution_count": 10,
   "metadata": {},
   "outputs": [
    {
     "data": {
      "text/plain": [
       "<matplotlib.image.AxesImage at 0x146a5abf978>"
      ]
     },
     "execution_count": 10,
     "metadata": {},
     "output_type": "execute_result"
    },
    {
     "data": {
      "image/png": "[encoded data removed]",
      "text/plain": [
       "<Figure size 432x288 with 1 Axes>"
      ]
     },
     "metadata": {},
     "output_type": "display_data"
    }
   ],
   "source": [
    "model.get_layer(index = 0).set_weights([np.array([[[[3]], [[0]], [[-3]]], [[[10]], [[0]], [[-10]]], [[[3]], [[0]], [[-3]]]])])\n",
    "res = model.predict(img.reshape((1, shape[0], shape[1], 1)))\n",
    "plt.imshow(res.reshape(res.shape[1], res.shape[2]), cmap = \"gray\")"
   ]
  },
  {
   "cell_type": "markdown",
   "metadata": {},
   "source": [
    "- ** Sparse interactions **\n",
    "\n",
    "This can reduce the size of weight space (and hence time complexity) from $O(N \\times M)$ to $O(k \\times M)$ at each layer.\n",
    "<img src=\"F3.png\" width=600></img>\n",
    "<img src=\"F4.png\" width=600></img>\n",
    "\n",
    "Each unit in the input layer now has direct effect on only somes units in the output layer, but it can also have indirect effect when the model becomes deep.\n",
    "<img src=\"F5.png\" width=600></img>\n",
    "\n"
   ]
  },
  {
   "cell_type": "markdown",
   "metadata": {},
   "source": [
    "- **Parameter sharing** (**tied weight**)\n",
    "\n",
    "<img src=\"F6.png\" width=600></img>\n",
    "\n",
    "The number of parameters corresponding to a layer of $N$ inputs and $M$ outputs is now $k$ (size of the kernel's support) and not $O(M \\times N)$. It improves space complexity of the model.\n"
   ]
  },
  {
   "cell_type": "markdown",
   "metadata": {},
   "source": [
    "# 3. Parameters of the model\n",
    "\n",
    "## 3.1 Parameters required in `keras`\n",
    "\n",
    "Convolution is implemented in `keras` as `Conv1D`, `Conv2D` and `Conv3D` classes under the format of cross-correlation (without kernel flipping)\n",
    "\n",
    "Important parameters:\n",
    "\n",
    "- `filters`: number of kernels\n",
    "- `kernel_size`: for example, `3x3` for Solbel or Scharr filters.\n",
    "- `activation`: the activation function (like `relu`, `sigmoid`)\n",
    "- `use_bias`: if `True`, a bias will be added to the convolution\n",
    "- `kernel_initializer`, `bias_initializer`\n",
    "- `kernel_regularizer`, `bias_regularizer`\n",
    "- `input_shape`: \n",
    " - 3D tensor for `Conv1D`, under the format (`batch_size`, `input_dimension`, `channels`)\n",
    " - 4D tensor for `Conv2D`, under the format (`batch_size`, `input_dimension_1`, `input_dimension_2`, `channels`)\n",
    " - 5D tensor for `Conv3D`, under the format (`batch_size`, `input_dimension_1`, `input_dimension_2`, `input_dimension_3`, `channels`)\n",
    "`batch_size` is usually `None`\n",
    "- `stride`: (3.3)\n",
    "- `padding`: (3.2)"
   ]
  },
  {
   "cell_type": "markdown",
   "metadata": {},
   "source": [
    "## 3.2 Padding\n",
    "\n",
    "The `padding` parameter specifies how we compute the output dimension in terms of input dimension and kernel size.\n",
    "\n",
    "Suppose that the input dimension is $(N_1, N_2)$ and the kernel is $(k_1, k_2)$.\n",
    "\n",
    "- Using `padding = 'valid'` will let the output dimension to be $(M_1, M_2)$ where\n",
    "$$\n",
    "M_1 = N_1 - k_1 + 1, M_2 = N_2 - k_2 + 1\n",
    "$$\n",
    "\n",
    "In other words, the kernel will be apply at every submatrix (subtensor) of the input of size $k_1 \\times k_2$."
   ]
  },
  {
   "cell_type": "code",
   "execution_count": 11,
   "metadata": {},
   "outputs": [
    {
     "data": {
      "text/plain": [
       "array([[0., 0., 0., ..., 0., 0., 0.],\n",
       "       [0., 0., 0., ..., 0., 0., 0.],\n",
       "       [0., 0., 0., ..., 0., 0., 0.],\n",
       "       ...,\n",
       "       [0., 0., 0., ..., 0., 0., 0.],\n",
       "       [0., 0., 0., ..., 0., 0., 0.],\n",
       "       [0., 0., 0., ..., 0., 0., 0.]], dtype=float32)"
      ]
     },
     "execution_count": 11,
     "metadata": {},
     "output_type": "execute_result"
    }
   ],
   "source": [
    "model = Sequential()\n",
    "shape = img.shape\n",
    "model.add(Conv2D(1, (3, 3), input_shape=(shape[0], shape[1], 1), use_bias = False, padding = \"valid\"))\n",
    "model.get_layer(index = 0).set_weights([np.array([[[[1]], [[0]], [[-1]]], [[[1]], [[0]], [[-1]]], [[[1]], [[0]], [[-1]]]])])\n",
    "res = model.predict(img.reshape((1, shape[0], shape[1], 1)))\n",
    "res.reshape((res.shape[1], res.shape[2]))"
   ]
  },
  {
   "cell_type": "code",
   "execution_count": 12,
   "metadata": {},
   "outputs": [
    {
     "data": {
      "text/plain": [
       "((800, 800), (1, 798, 798, 1))"
      ]
     },
     "execution_count": 12,
     "metadata": {},
     "output_type": "execute_result"
    }
   ],
   "source": [
    "img.shape, res.shape"
   ]
  },
  {
   "cell_type": "markdown",
   "metadata": {},
   "source": [
    "- Using `padding = 'same'` will let the output dimension to be the same as the input's\n",
    "$$\n",
    "M_1 = N_1, M_2 = N_2\n",
    "$$\n",
    "\n",
    "In other words, at some boundary, virtual rows/columns containing zeros will be added. This is equivalent to padding new rows and columns around the original matrix. If some dimension of the kernel is even, new rows/columns will be add to the bottom/right.\n",
    "\n",
    "**Illustration**\n",
    "<img src=\"F8.png\" width=300></img>"
   ]
  },
  {
   "cell_type": "code",
   "execution_count": 13,
   "metadata": {},
   "outputs": [
    {
     "data": {
      "text/plain": [
       "array([[-510.,    0.,    0., ...,    0.,    0.,  510.],\n",
       "       [-765.,    0.,    0., ...,    0.,    0.,  765.],\n",
       "       [-765.,    0.,    0., ...,    0.,    0.,  765.],\n",
       "       ...,\n",
       "       [-765.,    0.,    0., ...,    0.,    0.,  765.],\n",
       "       [-765.,    0.,    0., ...,    0.,    0.,  765.],\n",
       "       [-510.,    0.,    0., ...,    0.,    0.,  510.]], dtype=float32)"
      ]
     },
     "execution_count": 13,
     "metadata": {},
     "output_type": "execute_result"
    }
   ],
   "source": [
    "model2 = Sequential()\n",
    "shape = img.shape\n",
    "model2.add(Conv2D(1, (3, 3), input_shape=(shape[0], shape[1], 1), use_bias = False, padding = \"same\"))\n",
    "model2.get_layer(index = 0).set_weights([np.array([[[[1]], [[0]], [[-1]]], [[[1]], [[0]], [[-1]]], [[[1]], [[0]], [[-1]]]])])\n",
    "res2 = model2.predict(img.reshape((1, shape[0], shape[1], 1)))\n",
    "res2.reshape((res2.shape[1], res2.shape[2]))"
   ]
  },
  {
   "cell_type": "code",
   "execution_count": 14,
   "metadata": {},
   "outputs": [
    {
     "data": {
      "text/plain": [
       "(1, 800, 800, 1)"
      ]
     },
     "execution_count": 14,
     "metadata": {},
     "output_type": "execute_result"
    }
   ],
   "source": [
    "res2.shape"
   ]
  },
  {
   "cell_type": "code",
   "execution_count": 15,
   "metadata": {},
   "outputs": [
    {
     "data": {
      "text/plain": [
       "array([[0., 0., 0., ..., 0., 0., 0.],\n",
       "       [0., 0., 0., ..., 0., 0., 0.],\n",
       "       [0., 0., 0., ..., 0., 0., 0.],\n",
       "       ...,\n",
       "       [0., 0., 0., ..., 0., 0., 0.],\n",
       "       [0., 0., 0., ..., 0., 0., 0.],\n",
       "       [0., 0., 0., ..., 0., 0., 0.]], dtype=float32)"
      ]
     },
     "execution_count": 15,
     "metadata": {},
     "output_type": "execute_result"
    }
   ],
   "source": [
    "res2.reshape((res2.shape[1], res2.shape[2]))[1:-1, 1:-1]"
   ]
  },
  {
   "cell_type": "markdown",
   "metadata": {},
   "source": [
    "## 3.3 Strided Convolutions\n",
    "\n",
    "We can compute convolution of **stride** $(s_1, s_2)$, i.e., we compute the convolution at $(\\alpha s_1, \\beta s_2)$, where $\\alpha, \\beta$ are integers. \n",
    "\n",
    "<img src=\"F9.png\"></img>\n",
    "\n",
    "This is called strided convolution. It can also be viewed as convolution followed by **downsampling**.\n",
    "\n",
    "If the input has dimension $(N_1, N_2)$, the kernel's dimension is $(k_1, k_2)$ and the stride is $(s_1, s_2)$, then the output's dimension is\n",
    "\n",
    "$$\n",
    "(\\lfloor \\frac{N_1 - k_1 }{s_1} + 1 \\rfloor, \\lfloor \\frac{N_2 - k_2}{s_2} + 1 \\rfloor)\n",
    "$$\n",
    "\n",
    "In keras, we can specify `strides = s` or `strides = (s1, s2)`."
   ]
  },
  {
   "cell_type": "code",
   "execution_count": 16,
   "metadata": {},
   "outputs": [],
   "source": [
    "model3 = Sequential()\n",
    "shape = img.shape\n",
    "model3.add(Conv2D(1, (3, 3), input_shape=(shape[0], shape[1], 1), use_bias = False, padding = \"valid\", strides=(2, 2)))\n",
    "model3.get_layer(index = 0).set_weights([np.array([[[[1]], [[0]], [[-1]]], [[[1]], [[0]], [[-1]]], [[[1]], [[0]], [[-1]]]])])\n",
    "res3 = model3.predict(img.reshape((1, shape[0], shape[1], 1)))\n",
    "res3 = res3.reshape((res3.shape[1], res3.shape[2]))"
   ]
  },
  {
   "cell_type": "code",
   "execution_count": 17,
   "metadata": {},
   "outputs": [
    {
     "data": {
      "text/plain": [
       "(399, 399)"
      ]
     },
     "execution_count": 17,
     "metadata": {},
     "output_type": "execute_result"
    }
   ],
   "source": [
    "res3.shape"
   ]
  },
  {
   "cell_type": "code",
   "execution_count": 18,
   "metadata": {},
   "outputs": [
    {
     "data": {
      "text/plain": [
       "<matplotlib.image.AxesImage at 0x146a5b12a58>"
      ]
     },
     "execution_count": 18,
     "metadata": {},
     "output_type": "execute_result"
    },
    {
     "data": {
      "image/png": "[encoded data removed]",
      "text/plain": [
       "<Figure size 432x288 with 1 Axes>"
      ]
     },
     "metadata": {},
     "output_type": "display_data"
    }
   ],
   "source": [
    "plt.imshow(res3, cmap = \"gray\")"
   ]
  },
  {
   "cell_type": "markdown",
   "metadata": {},
   "source": [
    "## 3.4 Number of channels\n",
    "\n",
    "In image processing, each pixel is a vector of 3 color modes: red, green, blue (RGB). This gives us an example of \"channels\", can be considered as the third shape of an image. If we work with more than 1 channel, say 3 channels, then the image of shape $28 \\times 28$ becomes now a tensor $28 \\times 28 \\times 3$, we need to apply a 3D-convolution than a 2D-convolution. By calling the third dimension \"channel\", we fix the third dimension of the kernel to be the same as this number of channels (here 3). So if the input is of shape\n",
    "\n",
    "$$\n",
    "None \\times N_1 \\times N_2 \\times N_c\n",
    "$$\n",
    "\n",
    "then the kernel has shape\n",
    "$$\n",
    "k_1 \\times k_2 \\times N_c\n",
    "$$\n",
    "\n",
    "In case of stride 1 and no padding (padding = `'valid'`) the output will be of shape\n",
    "$$\n",
    "(N_1 - k_1 + 1) \\times (N_2 - k_2 + 1) (\\times N_k)\n",
    "$$\n",
    "\n",
    "<img src=\"F11.png\" width=600></img>"
   ]
  },
  {
   "cell_type": "markdown",
   "metadata": {},
   "source": [
    "## 3.5 Number of filters (kernels)\n",
    "\n",
    "In `keras`, we can computer simultaneously the convolution of an input with several kernels. If the number of kernels is $N_k$, the input is of shape\n",
    "$$\n",
    "None \\times N_1 \\times N_2 \\times N_c\n",
    "$$\n",
    "\n",
    "and each of the $N_k$ kernel is of shape\n",
    "$$\n",
    "k_1 \\times k_2 \\times N_c\n",
    "$$\n",
    "\n",
    "then the output will have shape, by definition:\n",
    "\n",
    "$$\n",
    "None \\times (N_1 - k_1 + 1) \\times (N_2 - k_2 + 1) \\times N_k\n",
    "$$\n",
    "\n",
    "\n",
    "\n",
    "In `keras`, we work in batch mode, i.e, work with $batchsize$ inputs at the same time. Hence, the shape of the output of `Conv1D` is a 3D-tensor, of `Conv2D` is a 4D-tensor, of `Conv3D` is a 5D-tensor of the form:\n",
    "\n",
    "$$\n",
    "batchsize \\times (N_1 - k_1 + 1) \\times (N_2 - k_2 + 1) \\times N_k\n",
    "$$"
   ]
  },
  {
   "cell_type": "code",
   "execution_count": 19,
   "metadata": {},
   "outputs": [
    {
     "data": {
      "text/plain": [
       "(350, 525, 3)"
      ]
     },
     "execution_count": 19,
     "metadata": {},
     "output_type": "execute_result"
    }
   ],
   "source": [
    "color_img = cv2.imread(\"F7.png\")\n",
    "color_img.shape"
   ]
  },
  {
   "cell_type": "code",
   "execution_count": 20,
   "metadata": {},
   "outputs": [
    {
     "data": {
      "text/plain": [
       "(1, 348, 523, 8)"
      ]
     },
     "execution_count": 20,
     "metadata": {},
     "output_type": "execute_result"
    }
   ],
   "source": [
    "model4 = Sequential()\n",
    "model4.add(Conv2D(8, (3, 3), input_shape=color_img.shape, use_bias = False, padding = \"valid\"))\n",
    "res4 = model4.predict([[color_img]]) # Reshape input to batchsize x N1 x N2 x Nc\n",
    "res4.shape"
   ]
  },
  {
   "cell_type": "markdown",
   "metadata": {},
   "source": [
    "If we use padding $p_1, p_2$ and stride $s_1, s_2$, the dimension becomes\n",
    "\n",
    "$$\n",
    "batchsize \\times \\lfloor \\frac{N_1 + 2p_1 - k_1}{s_1} + 1\\rfloor \\times \\lfloor \\frac{N_2+ 2p_2 - k_2}{s_2} + 1\\rfloor \\times N_k\n",
    "$$"
   ]
  },
  {
   "cell_type": "markdown",
   "metadata": {},
   "source": [
    "# 4. Simple model and Implementation\n",
    "\n",
    "We have seen in amphi 1, the FNN is modelized as follows:\n",
    "\n",
    "<img src=\"F13.png\" width=600></img>\n",
    "\n",
    "By replacing some matrix multiplication by convolution, we have a simple CNN as follows:\n",
    "\n",
    "<img src=\"F14.png\" width=800></img>\n",
    "\n",
    "**Example with MNIST**"
   ]
  },
  {
   "cell_type": "code",
   "execution_count": 21,
   "metadata": {},
   "outputs": [
    {
     "name": "stdout",
     "output_type": "stream",
     "text": [
      "_________________________________________________________________\n",
      "Layer (type)                 Output Shape              Param #   \n",
      "=================================================================\n",
      "conv2d_7 (Conv2D)            (None, 28, 28, 20)        520       \n",
      "_________________________________________________________________\n",
      "activation_1 (Activation)    (None, 28, 28, 20)        0         \n",
      "_________________________________________________________________\n",
      "flatten_1 (Flatten)          (None, 15680)             0         \n",
      "_________________________________________________________________\n",
      "dense_1 (Dense)              (None, 100)               1568100   \n",
      "_________________________________________________________________\n",
      "activation_2 (Activation)    (None, 100)               0         \n",
      "_________________________________________________________________\n",
      "dense_2 (Dense)              (None, 10)                1010      \n",
      "_________________________________________________________________\n",
      "activation_3 (Activation)    (None, 10)                0         \n",
      "=================================================================\n",
      "Total params: 1,569,630\n",
      "Trainable params: 1,569,630\n",
      "Non-trainable params: 0\n",
      "_________________________________________________________________\n"
     ]
    }
   ],
   "source": [
    "from keras.datasets import mnist\n",
    "from keras.layers.core import Dense, Activation, Flatten\n",
    "from keras.layers.convolutional import MaxPooling2D\n",
    "from keras.utils import np_utils\n",
    "(X_train_raw, y_train_raw), (X_test_raw, y_test_raw) = mnist.load_data()\n",
    "X_train = X_train_raw/255\n",
    "X_test = X_test_raw/255\n",
    "X_train = X_train.reshape((X_train.shape[0], X_train.shape[1], X_train.shape[2], 1))\n",
    "X_test = X_test.reshape((X_test.shape[0], X_test.shape[1], X_test.shape[2], 1))\n",
    "Y_train = np_utils.to_categorical(y_train_raw, 10)\n",
    "Y_test = np_utils.to_categorical(y_test_raw, 10)\n",
    "\n",
    "model5 = Sequential()\n",
    "# Input: 28 x 28 x 1\n",
    "# Nb filters: 20\n",
    "# Kernel (weights): (20 x )5 x 5 x 1\n",
    "# Bias: (20 x )1\n",
    "# => Output: 28 x 28 x 20\n",
    "model5.add(Conv2D(20, (5, 5), input_shape=(X_train.shape[1], X_train.shape[2], 1), padding=\"same\"))\n",
    "model5.add(Activation(\"relu\"))\n",
    "# => Flatten: 28 x 28 x 20 = 15680\n",
    "model5.add(Flatten())\n",
    "# => Weights: 15680 x 100\n",
    "model5.add(Dense(100))\n",
    "model5.add(Activation(\"relu\"))\n",
    "model5.add(Dense(10))\n",
    "model5.add(Activation(\"softmax\"))\n",
    "\n",
    "model5.summary()"
   ]
  },
  {
   "cell_type": "code",
   "execution_count": 22,
   "metadata": {},
   "outputs": [
    {
     "name": "stdout",
     "output_type": "stream",
     "text": [
      "Train on 48000 samples, validate on 12000 samples\n",
      "Epoch 1/20\n",
      "48000/48000 [==============================] - 23s 486us/step - loss: 0.3636 - acc: 0.8908 - val_loss: 0.1481 - val_acc: 0.9590\n",
      "Epoch 2/20\n",
      "48000/48000 [==============================] - 26s 536us/step - loss: 0.1207 - acc: 0.9641 - val_loss: 0.1048 - val_acc: 0.9713\n",
      "Epoch 3/20\n",
      "48000/48000 [==============================] - 26s 543us/step - loss: 0.0803 - acc: 0.9761 - val_loss: 0.0766 - val_acc: 0.9784\n",
      "Epoch 4/20\n",
      "48000/48000 [==============================] - 25s 522us/step - loss: 0.0603 - acc: 0.9819 - val_loss: 0.0702 - val_acc: 0.9791\n",
      "Epoch 5/20\n",
      "48000/48000 [==============================] - 26s 539us/step - loss: 0.0477 - acc: 0.9855 - val_loss: 0.0664 - val_acc: 0.9805\n",
      "Epoch 6/20\n",
      "48000/48000 [==============================] - 27s 562us/step - loss: 0.0385 - acc: 0.9887 - val_loss: 0.0654 - val_acc: 0.9809\n",
      "Epoch 7/20\n",
      "48000/48000 [==============================] - 28s 574us/step - loss: 0.0317 - acc: 0.9904 - val_loss: 0.0584 - val_acc: 0.9831\n",
      "Epoch 8/20\n",
      "48000/48000 [==============================] - 27s 571us/step - loss: 0.0263 - acc: 0.9923 - val_loss: 0.0659 - val_acc: 0.9802\n",
      "Epoch 9/20\n",
      "48000/48000 [==============================] - 28s 579us/step - loss: 0.0218 - acc: 0.9936 - val_loss: 0.0566 - val_acc: 0.9847\n",
      "Epoch 10/20\n",
      "48000/48000 [==============================] - 30s 620us/step - loss: 0.0184 - acc: 0.9943 - val_loss: 0.0593 - val_acc: 0.9829\n",
      "Epoch 11/20\n",
      "48000/48000 [==============================] - 29s 611us/step - loss: 0.0147 - acc: 0.9960 - val_loss: 0.0589 - val_acc: 0.9845\n",
      "Epoch 12/20\n",
      "48000/48000 [==============================] - 30s 620us/step - loss: 0.0133 - acc: 0.9963 - val_loss: 0.0534 - val_acc: 0.9852\n",
      "Epoch 13/20\n",
      "48000/48000 [==============================] - 28s 590us/step - loss: 0.0108 - acc: 0.9974 - val_loss: 0.0595 - val_acc: 0.9837\n",
      "Epoch 14/20\n",
      "48000/48000 [==============================] - 29s 595us/step - loss: 0.0083 - acc: 0.9982 - val_loss: 0.0622 - val_acc: 0.9832\n",
      "Epoch 15/20\n",
      "48000/48000 [==============================] - 29s 594us/step - loss: 0.0073 - acc: 0.9983 - val_loss: 0.0600 - val_acc: 0.9842\n",
      "Epoch 16/20\n",
      "48000/48000 [==============================] - 29s 607us/step - loss: 0.0057 - acc: 0.9989 - val_loss: 0.0589 - val_acc: 0.9845\n",
      "Epoch 17/20\n",
      "48000/48000 [==============================] - 28s 591us/step - loss: 0.0051 - acc: 0.9990 - val_loss: 0.0571 - val_acc: 0.9854\n",
      "Epoch 18/20\n",
      "48000/48000 [==============================] - 29s 596us/step - loss: 0.0040 - acc: 0.9995 - val_loss: 0.0580 - val_acc: 0.9850\n",
      "Epoch 19/20\n",
      "48000/48000 [==============================] - 28s 573us/step - loss: 0.0037 - acc: 0.9995 - val_loss: 0.0634 - val_acc: 0.9839\n",
      "Epoch 20/20\n",
      "48000/48000 [==============================] - 28s 575us/step - loss: 0.0037 - acc: 0.9994 - val_loss: 0.0594 - val_acc: 0.9848\n"
     ]
    }
   ],
   "source": [
    "from keras.optimizers import SGD\n",
    "\n",
    "BATCH_SIZE = 128\n",
    "NB_EPOCH = 20\n",
    "VERBOSE = 1\n",
    "VALIDATION_SPLIT = 0.2\n",
    "\n",
    "model5.compile(loss=\"categorical_crossentropy\", optimizer=SGD(lr=0.1), metrics=[\"accuracy\"])\n",
    "history5 = model5.fit(X_train, Y_train, batch_size=BATCH_SIZE, epochs=NB_EPOCH, verbose=VERBOSE, validation_split=VALIDATION_SPLIT)"
   ]
  },
  {
   "cell_type": "code",
   "execution_count": 23,
   "metadata": {},
   "outputs": [
    {
     "data": {
      "text/plain": [
       "<matplotlib.legend.Legend at 0x146c528eb70>"
      ]
     },
     "execution_count": 23,
     "metadata": {},
     "output_type": "execute_result"
    },
    {
     "data": {
      "image/png": "[encoded data removed]",
      "text/plain": [
       "<Figure size 432x288 with 1 Axes>"
      ]
     },
     "metadata": {},
     "output_type": "display_data"
    }
   ],
   "source": [
    "plt.plot(range(20), history5.history.get('acc'), label='training')\n",
    "plt.plot(range(20), history5.history.get('val_acc'), label='validation')\n",
    "plt.legend()"
   ]
  },
  {
   "cell_type": "markdown",
   "metadata": {},
   "source": [
    "# 5. Pooling\n",
    "\n",
    "Usually, a **pooling** operation is applied after each convolution step. The model becomes:\n",
    "\n",
    "<img src=\"F15.png\" width=900></img>\n",
    "\n",
    "So, typically a layer of a convolutional network consists of 3 stages:\n",
    "- convolution\n",
    "- activation (by a linear or non-linear function)\n",
    "- pooling\n",
    "\n",
    "<img src=\"F16.png\" width=600></img>\n",
    "\n",
    "A pooling operation replaces the ouput by a **summary statistic of the nearby outputs**, for example: max of nearby outputs (Max-Pooling) or average of nearby outputs (Average-Pooling)\n",
    "\n",
    "## 5.1 The Max-Pooling Operation\n",
    "\n",
    "The Max-Pooling operation replaces each output by the maximum output within a neighborhood (typically rectangular)\n",
    "<img src=\"F17.png\" width=400></img>\n",
    "\n",
    "Max-Pooling and other kinds of pooling in general provide **invariance** to local translation.\n",
    "<img src=\"F18.png\" width=600></img>\n"
   ]
  },
  {
   "cell_type": "markdown",
   "metadata": {},
   "source": [
    "## 5.2 Implementation in `keras`\n",
    "\n",
    "https://keras.io/layers/pooling/\n",
    "`keras` implements `MaxPooling1D`, `MaxPooling2D` and `MaxPooling3D`.\n",
    "\n",
    "For `MaxPooling2D`, the arguments are:\n",
    "\n",
    "- `pool_size`: $(p_1, p_2)$: searching for maximum in a $p_1 \\times p_2$ rectangle\n",
    "- `strides`: distance between consecutive rectangles. By default, it is `pool_size`\n",
    "- `padding`: `'valid'` or `'same'`\n",
    "\n",
    "Input shape: 3D tensor for `MaxPooling1D`, 4D tensor for `MaxPooling2D`, 5D tensor for `MaxPooling2D`\n",
    "\n",
    "Example with `MaxPooling2D`: the input shape is\n",
    "$$\n",
    "batchsize \\times N_1 \\times N_2 \\times N_c\n",
    "$$\n",
    "where $N_c$ is the number of channels.\n",
    "\n",
    "The output shape is \n",
    "$$\n",
    "batchsize \\times N_1' \\times N_2' \\times N_c\n",
    "$$\n",
    "\n",
    "where $N_1', N_2'$ are number of rows, columns after pooling.\n",
    "\n",
    "We have\n",
    "$$\n",
    "N_1' = \\lfloor N_1 / p_1\\rfloor, N_2' = \\lfloor N_2/p_2 \\rfloor\n",
    "$$\n"
   ]
  },
  {
   "cell_type": "markdown",
   "metadata": {},
   "source": [
    "## 5.3 Example: MNIST"
   ]
  },
  {
   "cell_type": "code",
   "execution_count": 24,
   "metadata": {},
   "outputs": [
    {
     "name": "stdout",
     "output_type": "stream",
     "text": [
      "_________________________________________________________________\n",
      "Layer (type)                 Output Shape              Param #   \n",
      "=================================================================\n",
      "conv2d_8 (Conv2D)            (None, 28, 28, 20)        520       \n",
      "_________________________________________________________________\n",
      "activation_4 (Activation)    (None, 28, 28, 20)        0         \n",
      "_________________________________________________________________\n",
      "max_pooling2d_1 (MaxPooling2 (None, 14, 14, 20)        0         \n",
      "_________________________________________________________________\n",
      "flatten_2 (Flatten)          (None, 3920)              0         \n",
      "_________________________________________________________________\n",
      "dense_3 (Dense)              (None, 100)               392100    \n",
      "_________________________________________________________________\n",
      "activation_5 (Activation)    (None, 100)               0         \n",
      "_________________________________________________________________\n",
      "dense_4 (Dense)              (None, 10)                1010      \n",
      "_________________________________________________________________\n",
      "activation_6 (Activation)    (None, 10)                0         \n",
      "=================================================================\n",
      "Total params: 393,630\n",
      "Trainable params: 393,630\n",
      "Non-trainable params: 0\n",
      "_________________________________________________________________\n"
     ]
    }
   ],
   "source": [
    "model6 = Sequential()\n",
    "# Input: 28 x 28 x 1\n",
    "# Nb filters: 20\n",
    "# Kernel (weights): (20 x )5 x 5 x 1\n",
    "# Bias: (20 x )1\n",
    "# => Output: 28 x 28 x 20\n",
    "model6.add(Conv2D(20, (5, 5), input_shape=(X_train.shape[1], X_train.shape[2], 1), padding=\"same\"))\n",
    "model6.add(Activation(\"relu\"))\n",
    "model6.add(MaxPooling2D(pool_size = (2, 2)))\n",
    "# => Flatten: 28 x 28 x 20 = 15680\n",
    "model6.add(Flatten())\n",
    "# => Weights: 15680 x 100\n",
    "model6.add(Dense(100))\n",
    "model6.add(Activation(\"relu\"))\n",
    "model6.add(Dense(10))\n",
    "model6.add(Activation(\"softmax\"))\n",
    "\n",
    "model6.summary()"
   ]
  },
  {
   "cell_type": "code",
   "execution_count": 25,
   "metadata": {},
   "outputs": [
    {
     "name": "stdout",
     "output_type": "stream",
     "text": [
      "Train on 48000 samples, validate on 12000 samples\n",
      "Epoch 1/20\n",
      "48000/48000 [==============================] - 22s 452us/step - loss: 0.3917 - acc: 0.8819 - val_loss: 0.1694 - val_acc: 0.9505\n",
      "Epoch 2/20\n",
      "48000/48000 [==============================] - 22s 452us/step - loss: 0.1326 - acc: 0.9608 - val_loss: 0.1121 - val_acc: 0.9681\n",
      "Epoch 3/20\n",
      "48000/48000 [==============================] - 23s 469us/step - loss: 0.0874 - acc: 0.9735 - val_loss: 0.0805 - val_acc: 0.9773\n",
      "Epoch 4/20\n",
      "48000/48000 [==============================] - 22s 449us/step - loss: 0.0655 - acc: 0.9807 - val_loss: 0.0644 - val_acc: 0.9813\n",
      "Epoch 5/20\n",
      "48000/48000 [==============================] - 21s 436us/step - loss: 0.0529 - acc: 0.9843 - val_loss: 0.0613 - val_acc: 0.9813\n",
      "Epoch 6/20\n",
      "48000/48000 [==============================] - 22s 456us/step - loss: 0.0443 - acc: 0.9867 - val_loss: 0.0638 - val_acc: 0.9813\n",
      "Epoch 7/20\n",
      "48000/48000 [==============================] - 21s 433us/step - loss: 0.0383 - acc: 0.9883 - val_loss: 0.0546 - val_acc: 0.9841\n",
      "Epoch 8/20\n",
      "48000/48000 [==============================] - 22s 454us/step - loss: 0.0328 - acc: 0.9906 - val_loss: 0.0534 - val_acc: 0.9838\n",
      "Epoch 9/20\n",
      "48000/48000 [==============================] - 21s 438us/step - loss: 0.0283 - acc: 0.9916 - val_loss: 0.0594 - val_acc: 0.9818\n",
      "Epoch 10/20\n",
      "48000/48000 [==============================] - 22s 449us/step - loss: 0.0252 - acc: 0.9924 - val_loss: 0.0518 - val_acc: 0.9859\n",
      "Epoch 11/20\n",
      "48000/48000 [==============================] - 22s 452us/step - loss: 0.0219 - acc: 0.9934 - val_loss: 0.0521 - val_acc: 0.9850\n",
      "Epoch 12/20\n",
      "48000/48000 [==============================] - 22s 462us/step - loss: 0.0198 - acc: 0.9943 - val_loss: 0.0556 - val_acc: 0.9832\n",
      "Epoch 13/20\n",
      "48000/48000 [==============================] - 21s 446us/step - loss: 0.0171 - acc: 0.9955 - val_loss: 0.0518 - val_acc: 0.9845\n",
      "Epoch 14/20\n",
      "48000/48000 [==============================] - 22s 462us/step - loss: 0.0153 - acc: 0.9959 - val_loss: 0.0522 - val_acc: 0.9846\n",
      "Epoch 15/20\n",
      "48000/48000 [==============================] - 22s 464us/step - loss: 0.0137 - acc: 0.9962 - val_loss: 0.0500 - val_acc: 0.9861\n",
      "Epoch 16/20\n",
      "48000/48000 [==============================] - 22s 465us/step - loss: 0.0122 - acc: 0.9968 - val_loss: 0.0565 - val_acc: 0.9832\n",
      "Epoch 17/20\n",
      "48000/48000 [==============================] - 22s 461us/step - loss: 0.0110 - acc: 0.9971 - val_loss: 0.0537 - val_acc: 0.9852\n",
      "Epoch 18/20\n",
      "48000/48000 [==============================] - 22s 458us/step - loss: 0.0095 - acc: 0.9976 - val_loss: 0.0508 - val_acc: 0.9862\n",
      "Epoch 19/20\n",
      "48000/48000 [==============================] - 22s 467us/step - loss: 0.0081 - acc: 0.9982 - val_loss: 0.0514 - val_acc: 0.9857\n",
      "Epoch 20/20\n",
      "48000/48000 [==============================] - 23s 485us/step - loss: 0.0072 - acc: 0.9986 - val_loss: 0.0514 - val_acc: 0.9866\n"
     ]
    }
   ],
   "source": [
    "model6.compile(loss=\"categorical_crossentropy\", optimizer=SGD(lr=0.1), metrics=[\"accuracy\"])\n",
    "history6 = model6.fit(X_train, Y_train, batch_size=BATCH_SIZE, epochs=NB_EPOCH, verbose=VERBOSE, validation_split=VALIDATION_SPLIT)"
   ]
  },
  {
   "cell_type": "code",
   "execution_count": 26,
   "metadata": {},
   "outputs": [
    {
     "data": {
      "text/plain": [
       "<matplotlib.legend.Legend at 0x146c526a780>"
      ]
     },
     "execution_count": 26,
     "metadata": {},
     "output_type": "execute_result"
    },
    {
     "data": {
      "image/png": "[encoded data removed]",
      "text/plain": [
       "<Figure size 432x288 with 1 Axes>"
      ]
     },
     "metadata": {},
     "output_type": "display_data"
    }
   ],
   "source": [
    "plt.plot(range(20), history5.history.get('acc'), label='training - no pooling')\n",
    "plt.plot(range(20), history5.history.get('val_acc'), label='validation - no pooling')\n",
    "plt.plot(range(20), history6.history.get('acc'), label='training - pooling')\n",
    "plt.plot(range(20), history6.history.get('val_acc'), label='validation - pooling')\n",
    "plt.legend()"
   ]
  },
  {
   "cell_type": "markdown",
   "metadata": {},
   "source": [
    "# 6. Backpropagation"
   ]
  },
  {
   "cell_type": "markdown",
   "metadata": {},
   "source": [
    "<img src=\"F15.png\"></img>"
   ]
  },
  {
   "cell_type": "markdown",
   "metadata": {},
   "source": [
    "The idea of backpropagation is to calculate the partial derivatives:\n",
    "$$\n",
    "\\frac{\\partial J}{\\partial W^{(l)}_{i,j,c,k}}\n",
    "$$\n",
    "\n",
    "$$\n",
    "\\frac{\\partial J}{\\partial b^{(l)}_{k}}\n",
    "$$\n",
    "\n",
    "supposed that we have already found out \n",
    "$$\n",
    "\\frac{\\partial J}{\\partial Z_{h,w}^{(l)}}\n",
    "$$\n",
    "\n",
    "\n",
    "\n",
    "## 6.1 Partial Derivative w.r.t. Output of Convolution\n",
    "We have\n",
    "$$\n",
    "\\frac{\\partial J}{\\partial B^{(l)}_k} = \\sum_{h=0}^{n_H^{(l)}-1}\\sum_{w=0}^{n_W^{(l)}-1} W_{k}^{(l)} \\frac{\\partial J}{\\partial Z_{h,w}^{(l)}}\n",
    "$$\n",
    "\n",
    "where\n",
    "$$\n",
    "W_{k}^{(l)} \\frac{\\partial J}{\\partial Z_{h,w}^{(l)}}\n",
    "$$\n",
    "\n",
    "is the convolution between the kernel $W_k^{(l)}$ and the partial derivative of $J$ wrt $Z_{h,w}^{(l)}$.\n",
    "\n",
    "## 6.2 Partial Derivative w.r.t. Kernel\n",
    "\n",
    "$$\n",
    "\\frac{\\partial J}{\\partial Z_{h,w}} = \\sum_{h=0}^{n_H-1}\\sum_{w=0}^{n_W-1} B_{slice} \\frac{\\partial J}{\\partial Z_{h,w}^{(l)}}\n",
    "$$\n",
    "\n",
    "where $B_{slice}$ is the slice was used to generate the activation $Z_{i, j}$.\n",
    "\n",
    "## 6.3 Partial Derivative w.r.t Bias\n",
    "\n",
    "$$\n",
    "\\frac{\\partial J}{\\partial Z_{h,w}} = \\sum_{h=0}^{n_H-1}\\sum_{w=0}^{n_W-1} \\frac{\\partial J}{\\partial Z_{h,w}^{(l)}}\n",
    "$$\n",
    "\n",
    "**Implementation**\n",
    "See <a href=\"https://www.coursera.org/learn/convolutional-neural-networks/\">https://www.coursera.org/learn/convolutional-neural-networks/</a>, week 1, Convolutional Model, step by step"
   ]
  },
  {
   "cell_type": "markdown",
   "metadata": {},
   "source": [
    "# 7. Examples in Research"
   ]
  },
  {
   "cell_type": "markdown",
   "metadata": {},
   "source": [
    "## 7.1 LeNet-5\n",
    "\n",
    "<img src=\"F23.png\"></img>\n",
    "\n"
   ]
  },
  {
   "cell_type": "markdown",
   "metadata": {},
   "source": [
    "- Convolution: Input 32 x 32 x 1; 6 Kernels 5 x 5 x 1 -> Output 28 x 28 x 6\n",
    "- Average Pooling (2 x 2, s = 2) -> Output 14 x 14 x 6\n",
    "- Convolution: Input 14 x 14 x 6; 16 Kernels 5 x 5 x 6 -> Output 10 x 10 x 16\n",
    "- Average Pooling (2 x 2, s = 2) -> Output 5 x 5 x 16\n",
    "- Dense: Input 400 -> 120 hidden units\n",
    "- Dense: Input 120 -> 84 hidden units\n",
    "- Output: Input 84 -> 10 units"
   ]
  },
  {
   "cell_type": "markdown",
   "metadata": {},
   "source": [
    "## 7.2 AlexNet\n",
    "\n",
    "<img src=\"F24.png\"></img>"
   ]
  },
  {
   "cell_type": "markdown",
   "metadata": {},
   "source": [
    "- Convolution: Input 227 x 227, 96 kernels (11 x 11) stride 4 -> Output 55 x 55 x 96\n",
    "- Max Pooling (3 x 3, s = 2) -> 27 x 27 x 96\n",
    "- Convolution: 256 kernels 5 x 5, padding \"same\" -> 27 x 27 x 256\n",
    "- Max Pooling: (3 x 3, s = 2) -> 13 x 13 x 256\n",
    "- Convolution: 384 kernels 3 x 3, padding \"same\" -> 13 x 13 x 384\n",
    "- Convolution: 384 kernels 3 x 3, padding \"same\" -> 13 x 13 x 384\n",
    "- Convolution: 256 kernels 3 x 3, padding \"same\" -> 13 x 13 x 256\n",
    "- Max Pooling: (3 x 3, s = 2) -> 6 x 6 x 256\n",
    "- Dense: Input 9216 -> 4096\n",
    "- Dense: 4096 -> 4096\n",
    "- Dense output: 4096 -> 1000\n",
    "\n",
    "-> 60M parameters, much bigger than LeNet 5."
   ]
  },
  {
   "cell_type": "markdown",
   "metadata": {},
   "source": [
    "## 7.3 VGG-16\n",
    "\n",
    "<img src=\"F25.png\"></img>"
   ]
  },
  {
   "cell_type": "markdown",
   "metadata": {},
   "source": [
    "Always use \n",
    "- Convolution: 3x3x... kernels, s=1, padding \"same\"\n",
    "- Max Pooling (2, 2), s = 2\n",
    "\n",
    "16 layers (13 convolutions, 3 dense, pooling not counted)\n",
    "\n",
    "Simonyan & Zisserman 2015, Very deep convolutional networks for large-scale image recognition."
   ]
  },
  {
   "cell_type": "markdown",
   "metadata": {},
   "source": [
    "# 8. Residual Networks (ResNet)\n",
    "\n",
    "The idea is to use \"skip connection\" to take the output (after activation) from one layer then feed it to another layer to avoid the gradient from vanishing and explosing due to too deep network.\n",
    "\n",
    "\n",
    "## 8.1 Residual Blocks\n",
    "\n",
    "<img src=\"F26.png\" width=600></img>"
   ]
  },
  {
   "cell_type": "markdown",
   "metadata": {},
   "source": [
    "In standard FNN (referred to as \"plain network\" in the paper), at level $l \\to l+2$\n",
    "$$\n",
    "\\mathbf z^{(l+1)} = h^{(l+1)}\\left( \\mathbf W^{(l+1)}\\mathbf z^{(l)} + \\mathbf b^{(l+1)} \\right)\n",
    "$$\n",
    "\n",
    "$$\n",
    "\\mathbf z^{(l+2)} = h^{(l+2)}\\left( \\mathbf W^{(l+2)}\\mathbf z^{(l+1)} + \\mathbf b^{(l+2)} \\right)\n",
    "$$\n",
    "\n",
    "In residual network, we make $\\mathbf z^{(l)}$ an input for the $(l+2)^{th}$ layer also.\n",
    "\n",
    "$$\n",
    "\\mathbf z^{(l+1)} = h^{(l+1)}\\left( \\mathbf W^{(l+1)}\\mathbf z^{(l)} + \\mathbf b^{(l+1)} \\right)\n",
    "$$\n",
    "\n",
    "$$\n",
    "\\mathbf z^{(l+2)} = h^{(l+2)}\\left( \\mathbf W^{(l+2)}\\mathbf z^{(l+1)} + \\mathbf b^{(l+2)} + \\mathbf z^{(l+1)}\\right)\n",
    "$$\n",
    "\n",
    "The arrow from $\\mathbf z^{(l)}$ to $\\mathbf z^{(l+2)}$ is referred to as a \"short cut\" or a \"skip connection\" in the block. We can have a skip connection of 2 layers as in the example, or more layers.\n",
    "\n",
    "**Residual networks** are neural networks (FNN, CNN) with skip connection (residual blocks).\n",
    "\n",
    "<img src=\"F28.png\" width=400></img>"
   ]
  },
  {
   "cell_type": "markdown",
   "metadata": {},
   "source": [
    "## 8.2 Motivation of Using Residual Networks\n",
    "\n",
    "It allows us to train a much deeper neural network as it keeps gradient from vanishing or exploding.\n",
    "\n",
    "<img src=\"F27.png\" width=400></img>\n",
    "\n",
    "**Example for identity function**\n",
    "\n",
    "Suppose we always use RELU as activation function. We have\n",
    "\n",
    "$$\n",
    "\\mathbf z^{(l+2)} = h^{(l+2)}\\left( \\mathbf W^{(l+2)}\\mathbf z^{(l+1)} + \\mathbf b^{(l+2)} + \\mathbf z^{(l+1)}\\right)\n",
    "$$\n",
    "\n",
    "If $z^{(l+1)}=0$ then $z^{(l+2)} = b^{(l+2)} + a^{(l)}$. In case of identity function, the bias is small, hence $a^{(l+2)} \\approx a^{(l)}$. This means with 2 more layers, the network with residual blocks can easily learn the identity function by copying $z^{(l)}$ to $z^{(l+2)}$.\n",
    "\n",
    "In plain network, an $a^{(l+1)}=0$ yields to $a^{(l+2)}, \\ldots = 0$ and harm the training even for identity function.\n"
   ]
  },
  {
   "cell_type": "markdown",
   "metadata": {},
   "source": [
    "## 8.3 Implementation\n",
    "\n",
    "This is an example of how to implement a ResNet.\n",
    "\n",
    "The model we use here is:\n",
    "\n",
    "<img src=\"F30.png\"></img>\n",
    "\n",
    "- Input: 28 x 28 x 1\n",
    "- Layer1: Convolution with 64 kernels 1 x 1 x 1, padding 'valid'\n",
    "- Layer2: Convolution with 64 kernels 3 x 3 x 64, padding 'same'\n",
    "- Layer3: Convolution with 256 kernels 1 x 1 x 64, padding 'valid'\n",
    "- Add input to output of layer 3 (skip connection)\n",
    "- Activation by ReLU\n",
    "- Max Pooling: window 2 x 2\n",
    "- Dense layer with 10 units\n",
    "- Activation by softmax -> output"
   ]
  },
  {
   "cell_type": "code",
   "execution_count": 33,
   "metadata": {},
   "outputs": [
    {
     "name": "stdout",
     "output_type": "stream",
     "text": [
      "__________________________________________________________________________________________________\n",
      "Layer (type)                    Output Shape         Param #     Connected to                     \n",
      "==================================================================================================\n",
      "input (InputLayer)              (None, 28, 28, 1)    0                                            \n",
      "__________________________________________________________________________________________________\n",
      "convolution_1_1x1 (Conv2D)      (None, 28, 28, 64)   128         input[0][0]                      \n",
      "__________________________________________________________________________________________________\n",
      "convolution_2_3x3 (Conv2D)      (None, 28, 28, 64)   36928       convolution_1_1x1[0][0]          \n",
      "__________________________________________________________________________________________________\n",
      "convolution_3_1x1 (Conv2D)      (None, 28, 28, 256)  16640       convolution_2_3x3[0][0]          \n",
      "__________________________________________________________________________________________________\n",
      "add (Add)                       (None, 28, 28, 256)  0           input[0][0]                      \n",
      "                                                                 convolution_3_1x1[0][0]          \n",
      "__________________________________________________________________________________________________\n",
      "activation_relu (Activation)    (None, 28, 28, 256)  0           add[0][0]                        \n",
      "__________________________________________________________________________________________________\n",
      "max_pooling_2x2 (MaxPooling2D)  (None, 14, 14, 256)  0           activation_relu[0][0]            \n",
      "__________________________________________________________________________________________________\n",
      "flatten (Flatten)               (None, 50176)        0           max_pooling_2x2[0][0]            \n",
      "__________________________________________________________________________________________________\n",
      "dense (Dense)                   (None, 10)           501770      flatten[0][0]                    \n",
      "__________________________________________________________________________________________________\n",
      "activation_softmax (Activation) (None, 10)           0           dense[0][0]                      \n",
      "==================================================================================================\n",
      "Total params: 555,466\n",
      "Trainable params: 555,466\n",
      "Non-trainable params: 0\n",
      "__________________________________________________________________________________________________\n"
     ]
    }
   ],
   "source": [
    "from keras import Model\n",
    "from keras.layers import Input, Dense, Activation, Flatten, Conv2D, MaxPooling2D, Add\n",
    "from keras.initializers import glorot_uniform\n",
    "\n",
    "X_input = Input(shape = (28, 28, 1), name = 'input')\n",
    "X = Conv2D(64, (1, 1), kernel_initializer = glorot_uniform(seed=0), name = 'convolution_1_1x1')(X_input)\n",
    "X = Conv2D(64, (3, 3), padding = 'same', kernel_initializer = glorot_uniform(seed=0), name = 'convolution_2_3x3')(X)\n",
    "X = Conv2D(256, (1, 1), kernel_initializer = glorot_uniform(seed=0), name = 'convolution_3_1x1')(X)\n",
    "X = Add(name = 'add')([X_input, X])\n",
    "X = Activation('relu', name = 'activation_relu')(X)\n",
    "X = MaxPooling2D((2, 2), name = 'max_pooling_2x2')(X)\n",
    "X = Flatten(name = 'flatten')(X)\n",
    "X = Dense(10, kernel_initializer = glorot_uniform(seed=0), name = 'dense')(X)\n",
    "X = Activation('softmax', name = 'activation_softmax')(X)\n",
    "\n",
    "model7 = Model(inputs = X_input, outputs = X)\n",
    "model7.summary()"
   ]
  },
  {
   "cell_type": "code",
   "execution_count": 36,
   "metadata": {},
   "outputs": [
    {
     "name": "stdout",
     "output_type": "stream",
     "text": [
      "Train on 800 samples, validate on 200 samples\n",
      "Epoch 1/20\n",
      "800/800 [==============================] - 6s 8ms/step - loss: 11.0790 - acc: 0.3063 - val_loss: 11.1454 - val_acc: 0.3000\n",
      "Epoch 2/20\n",
      "800/800 [==============================] - 7s 8ms/step - loss: 11.0618 - acc: 0.3087 - val_loss: 11.1431 - val_acc: 0.3000\n",
      "Epoch 3/20\n",
      "800/800 [==============================] - 6s 8ms/step - loss: 11.0472 - acc: 0.3125 - val_loss: 11.1509 - val_acc: 0.3000\n",
      "Epoch 4/20\n",
      "800/800 [==============================] - 6s 8ms/step - loss: 11.0449 - acc: 0.3125 - val_loss: 11.1386 - val_acc: 0.3050\n",
      "Epoch 5/20\n",
      "800/800 [==============================] - 7s 8ms/step - loss: 11.0429 - acc: 0.3138 - val_loss: 11.1583 - val_acc: 0.3000\n",
      "Epoch 6/20\n",
      "800/800 [==============================] - 7s 8ms/step - loss: 11.0417 - acc: 0.3150 - val_loss: 11.1422 - val_acc: 0.3050\n",
      "Epoch 7/20\n",
      "800/800 [==============================] - 7s 9ms/step - loss: 11.0411 - acc: 0.3150 - val_loss: 11.1413 - val_acc: 0.3050\n",
      "Epoch 8/20\n",
      "800/800 [==============================] - 7s 9ms/step - loss: 11.0410 - acc: 0.3150 - val_loss: 11.1405 - val_acc: 0.3050\n",
      "Epoch 9/20\n",
      "800/800 [==============================] - 7s 9ms/step - loss: 11.0410 - acc: 0.3150 - val_loss: 11.1402 - val_acc: 0.3050\n",
      "Epoch 10/20\n",
      "800/800 [==============================] - 7s 8ms/step - loss: 11.0410 - acc: 0.3150 - val_loss: 11.1400 - val_acc: 0.3050\n",
      "Epoch 11/20\n",
      "800/800 [==============================] - 7s 9ms/step - loss: 11.0410 - acc: 0.3150 - val_loss: 11.1401 - val_acc: 0.3050\n",
      "Epoch 12/20\n",
      "800/800 [==============================] - 8s 10ms/step - loss: 11.0410 - acc: 0.3150 - val_loss: 11.1399 - val_acc: 0.3050\n",
      "Epoch 13/20\n",
      "800/800 [==============================] - 8s 9ms/step - loss: 11.0410 - acc: 0.3150 - val_loss: 11.1398 - val_acc: 0.3050\n",
      "Epoch 14/20\n",
      "800/800 [==============================] - 8s 10ms/step - loss: 11.0410 - acc: 0.3150 - val_loss: 11.1397 - val_acc: 0.3050\n",
      "Epoch 15/20\n",
      "800/800 [==============================] - 7s 9ms/step - loss: 11.0410 - acc: 0.3150 - val_loss: 11.1396 - val_acc: 0.3050\n",
      "Epoch 16/20\n",
      "800/800 [==============================] - 7s 8ms/step - loss: 11.0410 - acc: 0.3150 - val_loss: 11.1395 - val_acc: 0.3050\n",
      "Epoch 17/20\n",
      "800/800 [==============================] - 7s 8ms/step - loss: 11.0410 - acc: 0.3150 - val_loss: 11.1396 - val_acc: 0.3050\n",
      "Epoch 18/20\n",
      "800/800 [==============================] - 7s 8ms/step - loss: 11.0410 - acc: 0.3150 - val_loss: 11.1394 - val_acc: 0.3050\n",
      "Epoch 19/20\n",
      "800/800 [==============================] - 7s 8ms/step - loss: 11.0410 - acc: 0.3150 - val_loss: 11.1382 - val_acc: 0.3050\n",
      "Epoch 20/20\n",
      "800/800 [==============================] - 6s 8ms/step - loss: 11.0410 - acc: 0.3150 - val_loss: 11.1383 - val_acc: 0.3050\n"
     ]
    }
   ],
   "source": [
    "model7.compile(loss=\"categorical_crossentropy\", optimizer=SGD(lr=0.1), metrics=[\"accuracy\"])\n",
    "# Use less data for faster training.\n",
    "history7 = model7.fit(X_train[:1000], Y_train[:1000], batch_size=BATCH_SIZE, epochs=NB_EPOCH, verbose=VERBOSE, validation_split=VALIDATION_SPLIT)"
   ]
  },
  {
   "cell_type": "markdown",
   "metadata": {},
   "source": [
    "# References\n",
    "\n",
    "[1] C. Bishop, *Pattern Recognition and Machine Learning*  \n",
    "\n",
    "[2] I. Goodfellow, Y. Bengio, A.Courville, *Deep Learning*\n",
    "\n",
    "[3] A. Ng, K. Katanforoosh, B. Mouru, *Convolutional Neural Networks* (Course in coursera.org)\n",
    "\n",
    "[4] He at al., 2015, *Deep residual networks for image recognition*\n",
    "\n",
    "[5] LeCun et al., 1998, *Gradient-based learming applied to document recognition*\n",
    "\n",
    "[6] Krizhevsky et al., 2012, *ImageNet classification with deep convolutional neural networks.*\n",
    "\n",
    "[7] Simonyan & Zisserman 2015, *Very deep convolutional networks for large-scale image recognition.*"
   ]
  }
 ],
 "metadata": {
  "kernelspec": {
   "display_name": "Python 3",
   "language": "python",
   "name": "python3"
  },
  "language_info": {
   "codemirror_mode": {
    "name": "ipython",
    "version": 3
   },
   "file_extension": ".py",
   "mimetype": "text/x-python",
   "name": "python",
   "nbconvert_exporter": "python",
   "pygments_lexer": "ipython3",
   "version": "3.5.5"
  }
 },
 "nbformat": 4,
 "nbformat_minor": 2
}
