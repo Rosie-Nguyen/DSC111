{
 "cells": [
  {
   "cell_type": "markdown",
   "metadata": {},
   "source": [
    "# TD4 - Phân loại trang phục với CNN\n",
    "\n",
    "TD này lấy từ course \"Convolutional Neural Networks\" (coursera)"
   ]
  },
  {
   "cell_type": "markdown",
   "metadata": {},
   "source": [
    "## Phần 1 - Implement CNN\n",
    "\n",
    "Trong phần này ta implement các phép convolution và pooling với numpy.\n",
    "\n",
    "Nhắc lại rằng một mô hình CNN có thể được mô tả dưới dạng như sau:\n",
    "\n",
    "<img src=\"F15.png\" width=800></img>\n",
    "\n",
    "Trong TD này ta sẽ sử dụng kí hiệu như trong hình vẽ: $Z^{(l-1)}$ cho output ở tầng $(l-1)$ tức input của tầng $l$, $B^{(l)}$ là kết quả của phép convolution, $A^{(l)}$ là kết quả của activation, $Z^{(l)}$ là kết quả của pooling tức output của tầng $l$.\n",
    "\n",
    "Các thư viện `numpy` và `matplotlib` sẽ được sử dụng trong TD."
   ]
  },
  {
   "cell_type": "code",
   "execution_count": 4,
   "metadata": {},
   "outputs": [],
   "source": [
    "import numpy as np\n",
    "import matplotlib.pyplot as plt\n",
    "%matplotlib inline\n",
    "np.random.seed(0)"
   ]
  },
  {
   "cell_type": "markdown",
   "metadata": {},
   "source": [
    "### Bài 1. Zero-padding\n",
    "\n",
    "***Hãy viết hàm `zeroPadding(X, padding)` nhận đối số `X` là một numpy array có dimension ($m$, $n_H$, $n_W$, $n_C$) (mô tả $m$ hình ảnh có $n_H$ hàng, $n_W$ cột và $n_C$ kênh, một số nguyên dương `padding`; thực hiện thêm `padding` hàng/cột gồm các số 0 ở trên, dưới, trái, phải của mỗi hình ảnh, rồi trả lại output là numpy array đã thay đổi. Lúc này, output có số chiều ($m$, $n_H+2$padding, $n_W + 2$padding, $n_C$).***\n",
    "\n",
    "Hàm <a href=\"https://docs.scipy.org/doc/numpy/reference/generated/numpy.pad.html\">np.pad</a> có thể giúp bạn"
   ]
  },
  {
   "cell_type": "code",
   "execution_count": 15,
   "metadata": {},
   "outputs": [],
   "source": [
    "def zeroPadding(Z, padding):\n",
    "    \"\"\"\n",
    "        YOUR CODE HERE\n",
    "    \"\"\"\n",
    "    return "
   ]
  },
  {
   "cell_type": "markdown",
   "metadata": {},
   "source": [
    "Đoạn code của bạn cần chạy đúng test sau."
   ]
  },
  {
   "cell_type": "code",
   "execution_count": 16,
   "metadata": {},
   "outputs": [
    {
     "name": "stdout",
     "output_type": "stream",
     "text": [
      "First image, first channel: \n",
      "[[1.76405235 2.2408932 ]\n",
      " [0.95008842 0.4105985 ]]\n",
      "After transformation: \n",
      "[[0.         0.         0.         0.         0.         0.        ]\n",
      " [0.         0.         0.         0.         0.         0.        ]\n",
      " [0.         0.         1.76405235 2.2408932  0.         0.        ]\n",
      " [0.         0.         0.95008842 0.4105985  0.         0.        ]\n",
      " [0.         0.         0.         0.         0.         0.        ]\n",
      " [0.         0.         0.         0.         0.         0.        ]]\n"
     ]
    }
   ],
   "source": [
    "#TEST\n",
    "np.random.seed(0)\n",
    "Z = np.random.randn(4, 2, 2, 3)\n",
    "print(\"First image, first channel: \")\n",
    "print(Z[0,:,:,0]) #In hình vẽ ứng với dữ liệu thứ nhất, channel (kênh) thứ nhất\n",
    "print(\"After transformation: \")\n",
    "print(zeroPadding(Z, 2)[0,:,:,0])"
   ]
  },
  {
   "cell_type": "markdown",
   "metadata": {},
   "source": [
    "### Bài 2. Convolution tại 1 vị trí\n",
    "\n",
    "Giả sử ta cần thực hiện convolution của 1 hình $\\mathcal H = n_H \\times n_W \\times n_C$ với một kernel $f \\times f \\times n_C$. Bài toán sẽ được quy về việc tính convolution tại từng vị trí của hình $\\mathcal H$. Chẳng hạn, đầu tiên, ta trích ra hình chữ nhật con $\\mathcal H_{0,0} = [0:f, 0:f]$ rồi tính convolution của nó với kernel, sau đó trích $\\mathcal H_{1,0}=[1:f+1, 0:f]$ và tính convolution thứ hai, ... \n",
    "\n",
    "Ta sẽ viết một hàm phụ tính convolution của 2 hình chữ nhật kích thước $n_W \\times n_W \\times n_C$.\n",
    "\n",
    "***Hãy viết hàm `localConv(Z_local, W, b)` nhận đối số `Z_local`, `W` là 2 numpy array có dimension $(n_H, n_W, n_C)$, `b` là một số thực nhưng biểu diễn dưới dạng 1 numpy array có dimension (1,1,1) (để dễ sử dụng ở các bài sau); tính convolution giữa `Z_local`, `W` rồi cộng kết quả với giá trị của `b`; trả output dưới dạng một số thực (`float`).***"
   ]
  },
  {
   "cell_type": "code",
   "execution_count": 17,
   "metadata": {},
   "outputs": [],
   "source": [
    "def localConv(Z_local, W, b):\n",
    "    \"\"\"\n",
    "        YOUR CODE HERE\n",
    "    \"\"\"\n",
    "    return"
   ]
  },
  {
   "cell_type": "markdown",
   "metadata": {},
   "source": [
    "Đoạn code của bạn cần chạy đúng test sau."
   ]
  },
  {
   "cell_type": "code",
   "execution_count": 18,
   "metadata": {},
   "outputs": [
    {
     "name": "stdout",
     "output_type": "stream",
     "text": [
      "-4.685258049390391\n"
     ]
    }
   ],
   "source": [
    "#TEST\n",
    "np.random.seed(0)\n",
    "Z_local = np.random.randn(5, 5, 3)\n",
    "W = np.random.randn(5, 5, 3)\n",
    "b = np.random.randn(1, 1, 1)\n",
    "print(localConv(Z_local, W, b))"
   ]
  },
  {
   "cell_type": "markdown",
   "metadata": {},
   "source": [
    "### Bài 3. Convolution hoàn chỉnh\n",
    "\n",
    "Nhắc lại rằng trong convolution hoàn chỉnh, ta dùng input ($m \\times n_H \\times n_W \\times n_C$) là một hình $\\mathcal H$ ($n_H\\times n_W\\times n_C$), $n_K$ kernel $W$ ($f \\times f \\times n_C$), một bias $b$, các tham số `stride`, `padding`. Khi đó output có kích thước $m \\times n_H^{new} \\times n_W^{new} \\times n_K$, trong đó:\n",
    "\n",
    "$$\n",
    "n_H^{new} = \\lfloor \\frac{n_H - f + 2padding}{stride}\\rfloor + 1\n",
    "$$\n",
    "$$\n",
    "n_W^{new} = \\lfloor \\frac{n_W - f + 2padding}{stride}\\rfloor + 1\n",
    "$$\n",
    "\n",
    "***Hãy viết hàm `conv(Z, W, b, stride=1, padding=0)` nhận đối số:***\n",
    "- *** `Z`: numpy array ($m \\times n_H \\times n_W \\times n_C$)***\n",
    "- *** `W`: numpy array ($f \\times f \\times n_C \\times n_K$)***\n",
    "- *** `b`: numpy array ($1 \\times 1 \\times n_K$)***\n",
    "- *** `stride`, `padding`: số nguyên dương (`int`)***\n",
    "\n",
    "***thực hiện convolution giữa `Z` với `W`, cộng bias `b`, với padding `padding` và stride `stride`. Trả lại : ***\n",
    "\n",
    "- *** Kết quả của phép convolution (numpy array $m \\times n_H^{new} \\times n_W^{new} \\times n_K $)***"
   ]
  },
  {
   "cell_type": "code",
   "execution_count": 19,
   "metadata": {},
   "outputs": [],
   "source": [
    "def conv(Z, W, b, stride = 1, padding = 0):\n",
    "    \"\"\"\n",
    "        YOUR CODE HERE\n",
    "    \"\"\"\n",
    "    \n",
    "    return"
   ]
  },
  {
   "cell_type": "code",
   "execution_count": 20,
   "metadata": {},
   "outputs": [
    {
     "data": {
      "text/plain": [
       "array([ 1.89989437,  3.62683935,  2.34501668,  4.5802782 ,  1.00140585,\n",
       "       -1.6291433 , -3.93162847,  1.21626912])"
      ]
     },
     "execution_count": 20,
     "metadata": {},
     "output_type": "execute_result"
    }
   ],
   "source": [
    "#TEST\n",
    "np.random.seed(0)\n",
    "Z = np.random.randn(10,5,5,3)\n",
    "W = np.random.randn(2,2,3,8)\n",
    "b = np.random.randn(1,1,1,8)\n",
    "padding = 2\n",
    "stride = 2\n",
    "\n",
    "Z_new = conv(Z, W, b, padding, stride)\n",
    "Z_new[3,2,1]"
   ]
  },
  {
   "cell_type": "markdown",
   "metadata": {},
   "source": [
    "## Phần 2. Ứng dụng của CNN"
   ]
  },
  {
   "cell_type": "markdown",
   "metadata": {},
   "source": [
    "### Bài 4. Dataset `fashion_mnist`\n",
    "\n",
    "*** Sử dụng cùng hàm như với mnist trong `keras`, hãy load dataset `fashion_mnist` (https://keras.io/datasets/) và tìm hiểu số dữ liệu, shape của $X, y$ trên các tập train và test. Có bao nhiêu loại quần áo cần phân loại? Thử vẽ hình một số điểm dữ liệu.***"
   ]
  },
  {
   "cell_type": "code",
   "execution_count": 25,
   "metadata": {},
   "outputs": [
    {
     "data": {
      "image/png": "[encoded data removed]",
      "text/plain": [
       "<Figure size 1080x720 with 20 Axes>"
      ]
     },
     "metadata": {},
     "output_type": "display_data"
    }
   ],
   "source": [
    "# YOUR CODE HERE\n",
    "\n",
    "# Ví dụ: Đây là ảnh 25 hình vẽ được chọn ngẫu nhiên từ tập train"
   ]
  },
  {
   "cell_type": "markdown",
   "metadata": {},
   "source": [
    "***Chuyển `y` của tập train (tương tự, tập test) thành `Y_train` (tương tự, `Y test`) ở dạng một array gồm 60000 dòng (tương tự, 10000 dòng), mỗi dòng là một vector có dạng [0, 0, ..., 0, 1, 0, ..., 0].*** \n",
    "\n",
    "***Chia tất cả các pixel của `X` ở tập train và tập test cho 255, lưu với tên gọi `X_train`, `X_test`.***"
   ]
  },
  {
   "cell_type": "code",
   "execution_count": 26,
   "metadata": {},
   "outputs": [],
   "source": [
    "# YOUR CODE HERE"
   ]
  },
  {
   "cell_type": "markdown",
   "metadata": {},
   "source": [
    "**Test bằng các đoạn code sau**."
   ]
  },
  {
   "cell_type": "code",
   "execution_count": 27,
   "metadata": {},
   "outputs": [
    {
     "data": {
      "text/plain": [
       "array([[0., 0., 0., 0., 0., 0., 0., 0., 0., 1.],\n",
       "       [1., 0., 0., 0., 0., 0., 0., 0., 0., 0.],\n",
       "       [1., 0., 0., 0., 0., 0., 0., 0., 0., 0.],\n",
       "       [0., 0., 0., 1., 0., 0., 0., 0., 0., 0.],\n",
       "       [1., 0., 0., 0., 0., 0., 0., 0., 0., 0.],\n",
       "       [0., 0., 1., 0., 0., 0., 0., 0., 0., 0.],\n",
       "       [0., 0., 0., 0., 0., 0., 0., 1., 0., 0.],\n",
       "       [0., 0., 1., 0., 0., 0., 0., 0., 0., 0.],\n",
       "       [0., 0., 0., 0., 0., 1., 0., 0., 0., 0.],\n",
       "       [0., 0., 0., 0., 0., 1., 0., 0., 0., 0.]], dtype=float32)"
      ]
     },
     "execution_count": 27,
     "metadata": {},
     "output_type": "execute_result"
    }
   ],
   "source": [
    "#TEST\n",
    "Y_train[:10]"
   ]
  },
  {
   "cell_type": "code",
   "execution_count": 29,
   "metadata": {},
   "outputs": [
    {
     "data": {
      "text/plain": [
       "array([0.        , 0.        , 0.        , 0.        , 0.        ,\n",
       "       0.        , 0.        , 0.        , 0.        , 0.        ,\n",
       "       0.        , 0.        , 0.        , 0.75686275, 0.89411765,\n",
       "       0.85490196, 0.83529412, 0.77647059, 0.70588235, 0.83137255,\n",
       "       0.82352941, 0.82745098, 0.83529412, 0.8745098 , 0.8627451 ,\n",
       "       0.95294118, 0.79215686, 0.        ])"
      ]
     },
     "execution_count": 29,
     "metadata": {},
     "output_type": "execute_result"
    }
   ],
   "source": [
    "X_train[0,10,:]"
   ]
  },
  {
   "cell_type": "markdown",
   "metadata": {},
   "source": [
    "### Bài 5. FNN\n",
    "\n",
    "Ta xây dựng FNN như sau:\n",
    "\n",
    "- Input: $None \\times 784$\n",
    "- Layer 1: 128 hidden units\n",
    "- Activation 1: ReLU\n",
    "- Regularization 1: Dropout 25%\n",
    "- Layer 2: 64 hidden units\n",
    "- Activation 2: ReLU\n",
    "- Regularization 2: Dropout 25%\n",
    "- Layer 3: 10 hidden units\n",
    "- Activation 3: softmax\n",
    "\n",
    "Hàm loss được sử dụng vẫn là categorical crossentropy.\n",
    "\n",
    "*** Từ `(X_train, Y_train)`, sử dụng 80% và 20% cho validation, xây dựng mô hình FNN như mô tả trên để học từ dữ liệu và dự đoán trên tập test. Tính accuracy trên tập train và test sau 20 bước. Thay đổi các thuật toán optimization để cải thiện kết quả.***"
   ]
  },
  {
   "cell_type": "code",
   "execution_count": 18,
   "metadata": {},
   "outputs": [
    {
     "name": "stdout",
     "output_type": "stream",
     "text": [
      "_________________________________________________________________\n",
      "Layer (type)                 Output Shape              Param #   \n",
      "=================================================================\n",
      "dense_4 (Dense)              (None, 128)               100480    \n",
      "_________________________________________________________________\n",
      "activation_1 (Activation)    (None, 128)               0         \n",
      "_________________________________________________________________\n",
      "dropout_1 (Dropout)          (None, 128)               0         \n",
      "_________________________________________________________________\n",
      "dense_5 (Dense)              (None, 64)                8256      \n",
      "_________________________________________________________________\n",
      "activation_2 (Activation)    (None, 64)                0         \n",
      "_________________________________________________________________\n",
      "dropout_2 (Dropout)          (None, 64)                0         \n",
      "_________________________________________________________________\n",
      "dense_6 (Dense)              (None, 10)                650       \n",
      "_________________________________________________________________\n",
      "activation_3 (Activation)    (None, 10)                0         \n",
      "=================================================================\n",
      "Total params: 109,386\n",
      "Trainable params: 109,386\n",
      "Non-trainable params: 0\n",
      "_________________________________________________________________\n",
      "None\n",
      "Train on 48000 samples, validate on 12000 samples\n",
      "Epoch 1/20\n",
      " - 2s - loss: 0.7178 - acc: 0.7483 - val_loss: 0.4369 - val_acc: 0.8397\n",
      "Epoch 2/20\n",
      " - 1s - loss: 0.4741 - acc: 0.8311 - val_loss: 0.4066 - val_acc: 0.8527\n",
      "Epoch 3/20\n",
      " - 2s - loss: 0.4245 - acc: 0.8472 - val_loss: 0.3635 - val_acc: 0.8670\n",
      "Epoch 4/20\n",
      " - 1s - loss: 0.4024 - acc: 0.8569 - val_loss: 0.3579 - val_acc: 0.8692\n",
      "Epoch 5/20\n",
      " - 2s - loss: 0.3716 - acc: 0.8670 - val_loss: 0.3532 - val_acc: 0.8717\n",
      "Epoch 6/20\n",
      " - 1s - loss: 0.3610 - acc: 0.8685 - val_loss: 0.3413 - val_acc: 0.8770\n",
      "Epoch 7/20\n",
      " - 1s - loss: 0.3501 - acc: 0.8725 - val_loss: 0.3298 - val_acc: 0.8804\n",
      "Epoch 8/20\n",
      " - 1s - loss: 0.3377 - acc: 0.8763 - val_loss: 0.3338 - val_acc: 0.8762\n",
      "Epoch 9/20\n",
      " - 2s - loss: 0.3315 - acc: 0.8795 - val_loss: 0.3298 - val_acc: 0.8802\n",
      "Epoch 10/20\n",
      " - 1s - loss: 0.3255 - acc: 0.8805 - val_loss: 0.3251 - val_acc: 0.8830\n",
      "Epoch 11/20\n",
      " - 2s - loss: 0.3180 - acc: 0.8822 - val_loss: 0.3206 - val_acc: 0.8854\n",
      "Epoch 12/20\n",
      " - 1s - loss: 0.3072 - acc: 0.8876 - val_loss: 0.3224 - val_acc: 0.8835\n",
      "Epoch 13/20\n",
      " - 1s - loss: 0.3035 - acc: 0.8875 - val_loss: 0.3162 - val_acc: 0.8869\n",
      "Epoch 14/20\n",
      " - 1s - loss: 0.2973 - acc: 0.8916 - val_loss: 0.3094 - val_acc: 0.8900\n",
      "Epoch 15/20\n",
      " - 1s - loss: 0.2912 - acc: 0.8923 - val_loss: 0.3078 - val_acc: 0.8886\n",
      "Epoch 16/20\n",
      " - 1s - loss: 0.2893 - acc: 0.8924 - val_loss: 0.3057 - val_acc: 0.8904\n",
      "Epoch 17/20\n",
      " - 2s - loss: 0.2858 - acc: 0.8932 - val_loss: 0.3126 - val_acc: 0.8862\n",
      "Epoch 18/20\n",
      " - 1s - loss: 0.2806 - acc: 0.8950 - val_loss: 0.3178 - val_acc: 0.8852\n",
      "Epoch 19/20\n",
      " - 2s - loss: 0.2788 - acc: 0.8961 - val_loss: 0.3124 - val_acc: 0.8887\n",
      "Epoch 20/20\n",
      " - 1s - loss: 0.2753 - acc: 0.8974 - val_loss: 0.3043 - val_acc: 0.8920\n"
     ]
    }
   ],
   "source": [
    "from keras import Sequential\n",
    "from keras.datasets import mnist\n",
    "from keras.layers import Dropout\n",
    "from keras.layers.core import Dense, Activation, Flatten\n",
    "from keras.layers.convolutional import MaxPooling2D, Conv2D\n",
    "from keras.utils import np_utils\n",
    "from keras.optimizers import SGD, Adam\n",
    "\n",
    "np.random.seed(0)\n",
    "\n",
    "BATCH_SIZE = 128\n",
    "NB_EPOCH = 20\n",
    "VERBOSE = 2\n",
    "VALIDATION_SPLIT = 0.2\n",
    "\n",
    "# YOUR CODE HERE\n",
    "# Output có thể như dưới đây"
   ]
  },
  {
   "cell_type": "code",
   "execution_count": 20,
   "metadata": {},
   "outputs": [
    {
     "name": "stdout",
     "output_type": "stream",
     "text": [
      "60000/60000 [==============================] - 1s 19us/step\n",
      "10000/10000 [==============================] - 0s 16us/step\n",
      "Score on training set: [0.23286568358341853, 0.9141833333333333]\n",
      "Score on test set: [0.33079483782052993, 0.8849]\n"
     ]
    },
    {
     "data": {
      "text/plain": [
       "<matplotlib.legend.Legend at 0x2a796319438>"
      ]
     },
     "execution_count": 20,
     "metadata": {},
     "output_type": "execute_result"
    },
    {
     "data": {
      "image/png": "[encoded data removed]",
      "text/plain": [
       "<Figure size 432x288 with 1 Axes>"
      ]
     },
     "metadata": {},
     "output_type": "display_data"
    }
   ],
   "source": [
    "# TEST\n",
    "\n",
    "train_score = model1.evaluate(X_train_flatten, Y_train)\n",
    "test_score = model1.evaluate(X_test_flatten, Y_test)\n",
    "print(\"Score on training set:\", train_score)\n",
    "print(\"Score on test set:\", test_score)\n",
    "\n",
    "plt.plot(range(20), history1.history.get('acc'), label='training')\n",
    "plt.plot(range(20), history1.history.get('val_acc'), label='validation')\n",
    "plt.legend()"
   ]
  },
  {
   "cell_type": "markdown",
   "metadata": {},
   "source": [
    "### Bài 6. CNN\n",
    "\n",
    "Ta xây dựng mô hình FNN như sau:\n",
    "\n",
    "- Input: $None \\times 28 \\times 28 \\times 1$\n",
    "- Layer 1:\n",
    " - Convolution 1: 16 kernel $3 \\times 3 \\times 1$, padding valid, dùng bias\n",
    " - Activation 1: ReLU\n",
    " - Max Pooling 1: pool size 2, stride 2\n",
    "- Layer 2:\n",
    " - Convolution 2: 64 kernel $2 \\times 2 \\times 16$, padding valid, dùng bias\n",
    " - Activation 2: ReLU\n",
    " - Max Pooling 2: pool size 2, stride 2\n",
    "- Layer 3:\n",
    " - Dense Layer with 64 hidden units\n",
    " - Activation: ReLU\n",
    "- Layer 4:\n",
    " - Dense Layer with 10 hidden units\n",
    " - Activation: softmax\n",
    "- Output: 10 units\n",
    "\n",
    "Hàm loss được sử dụng vẫn là categorical crossentropy.\n",
    "\n",
    "*** Từ `(X_train, Y_train)`, sử dụng 80% và 20% cho validation, xây dựng mô hình FNN như mô tả trên để học từ dữ liệu và dự đoán trên tập test. Tính accuracy trên tập train và test sau 20 bước. Thay đổi các thuật toán optimization để cải thiện kết quả.***"
   ]
  },
  {
   "cell_type": "code",
   "execution_count": 21,
   "metadata": {},
   "outputs": [
    {
     "name": "stdout",
     "output_type": "stream",
     "text": [
      "_________________________________________________________________\n",
      "Layer (type)                 Output Shape              Param #   \n",
      "=================================================================\n",
      "conv2d_1 (Conv2D)            (None, 26, 26, 16)        160       \n",
      "_________________________________________________________________\n",
      "activation_4 (Activation)    (None, 26, 26, 16)        0         \n",
      "_________________________________________________________________\n",
      "max_pooling2d_1 (MaxPooling2 (None, 13, 13, 16)        0         \n",
      "_________________________________________________________________\n",
      "conv2d_2 (Conv2D)            (None, 12, 12, 64)        4160      \n",
      "_________________________________________________________________\n",
      "activation_5 (Activation)    (None, 12, 12, 64)        0         \n",
      "_________________________________________________________________\n",
      "max_pooling2d_2 (MaxPooling2 (None, 6, 6, 64)          0         \n",
      "_________________________________________________________________\n",
      "flatten_1 (Flatten)          (None, 2304)              0         \n",
      "_________________________________________________________________\n",
      "dense_7 (Dense)              (None, 64)                147520    \n",
      "_________________________________________________________________\n",
      "activation_6 (Activation)    (None, 64)                0         \n",
      "_________________________________________________________________\n",
      "dropout_3 (Dropout)          (None, 64)                0         \n",
      "_________________________________________________________________\n",
      "dense_8 (Dense)              (None, 10)                650       \n",
      "_________________________________________________________________\n",
      "activation_7 (Activation)    (None, 10)                0         \n",
      "=================================================================\n",
      "Total params: 152,490\n",
      "Trainable params: 152,490\n",
      "Non-trainable params: 0\n",
      "_________________________________________________________________\n",
      "None\n",
      "Train on 48000 samples, validate on 12000 samples\n",
      "Epoch 1/20\n",
      " - 26s - loss: 0.6585 - acc: 0.7670 - val_loss: 0.4099 - val_acc: 0.8538\n",
      "Epoch 2/20\n",
      " - 26s - loss: 0.4110 - acc: 0.8545 - val_loss: 0.3597 - val_acc: 0.8709\n",
      "Epoch 3/20\n",
      " - 29s - loss: 0.3585 - acc: 0.8724 - val_loss: 0.3196 - val_acc: 0.8821\n",
      "Epoch 4/20\n",
      " - 29s - loss: 0.3253 - acc: 0.8857 - val_loss: 0.3009 - val_acc: 0.8882\n",
      "Epoch 5/20\n",
      " - 26s - loss: 0.2994 - acc: 0.8913 - val_loss: 0.2970 - val_acc: 0.8928\n",
      "Epoch 6/20\n",
      " - 26s - loss: 0.2836 - acc: 0.8971 - val_loss: 0.2675 - val_acc: 0.9028\n",
      "Epoch 7/20\n",
      " - 24s - loss: 0.2655 - acc: 0.9034 - val_loss: 0.2626 - val_acc: 0.9028\n",
      "Epoch 8/20\n",
      " - 25s - loss: 0.2562 - acc: 0.9072 - val_loss: 0.2565 - val_acc: 0.9046\n",
      "Epoch 9/20\n",
      " - 30s - loss: 0.2468 - acc: 0.9108 - val_loss: 0.2518 - val_acc: 0.9060\n",
      "Epoch 10/20\n",
      " - 23s - loss: 0.2351 - acc: 0.9139 - val_loss: 0.2519 - val_acc: 0.9086\n",
      "Epoch 11/20\n",
      " - 24s - loss: 0.2243 - acc: 0.9184 - val_loss: 0.2470 - val_acc: 0.9118\n",
      "Epoch 12/20\n",
      " - 24s - loss: 0.2163 - acc: 0.9198 - val_loss: 0.2552 - val_acc: 0.9070\n",
      "Epoch 13/20\n",
      " - 24s - loss: 0.2071 - acc: 0.9244 - val_loss: 0.2479 - val_acc: 0.9121\n",
      "Epoch 14/20\n",
      " - 24s - loss: 0.2000 - acc: 0.9258 - val_loss: 0.2494 - val_acc: 0.9114\n",
      "Epoch 15/20\n",
      " - 24s - loss: 0.1904 - acc: 0.9298 - val_loss: 0.2393 - val_acc: 0.9154\n",
      "Epoch 16/20\n",
      " - 24s - loss: 0.1838 - acc: 0.9329 - val_loss: 0.2372 - val_acc: 0.9164\n",
      "Epoch 17/20\n",
      " - 24s - loss: 0.1764 - acc: 0.9344 - val_loss: 0.2460 - val_acc: 0.9138\n",
      "Epoch 18/20\n",
      " - 24s - loss: 0.1694 - acc: 0.9368 - val_loss: 0.2385 - val_acc: 0.9162\n",
      "Epoch 19/20\n",
      " - 25s - loss: 0.1610 - acc: 0.9403 - val_loss: 0.2391 - val_acc: 0.9167\n",
      "Epoch 20/20\n",
      " - 24s - loss: 0.1557 - acc: 0.9426 - val_loss: 0.2467 - val_acc: 0.9132\n"
     ]
    }
   ],
   "source": [
    "# YOUR CODE HERE"
   ]
  },
  {
   "cell_type": "code",
   "execution_count": 22,
   "metadata": {},
   "outputs": [
    {
     "name": "stdout",
     "output_type": "stream",
     "text": [
      "60000/60000 [==============================] - 12s 198us/step\n",
      "10000/10000 [==============================] - 2s 182us/step\n",
      "Score on training set: 0.9497\n",
      "Score on test set: 0.9122\n"
     ]
    },
    {
     "data": {
      "text/plain": [
       "<matplotlib.legend.Legend at 0x2a796345780>"
      ]
     },
     "execution_count": 22,
     "metadata": {},
     "output_type": "execute_result"
    },
    {
     "data": {
      "image/png": "[encoded data removed]",
      "text/plain": [
       "<Figure size 432x288 with 1 Axes>"
      ]
     },
     "metadata": {},
     "output_type": "display_data"
    }
   ],
   "source": [
    "# TEST\n",
    "\n",
    "train_score = model2.evaluate(X_train_3D, Y_train)\n",
    "test_score = model2.evaluate(X_test_3D, Y_test)\n",
    "print(\"Score on training set:\", train_score[1])\n",
    "print(\"Score on test set:\", test_score[1])\n",
    "\n",
    "plt.plot(range(20), history2.history.get('acc'), label='training')\n",
    "plt.plot(range(20), history2.history.get('val_acc'), label='validation')\n",
    "plt.legend()"
   ]
  },
  {
   "cell_type": "markdown",
   "metadata": {},
   "source": [
    "### Bài 7 (Optional) Implement với `Tensorflow`\n",
    "\n",
    "***Implement mô hình ở bài 6 với `tensorflow` thay vì `keras`.***\n",
    "\n",
    "Phần code dưới đây implement mô hình ở bài 6 nhưng thiếu phần Dropout."
   ]
  },
  {
   "cell_type": "code",
   "execution_count": 21,
   "metadata": {},
   "outputs": [
    {
     "name": "stdout",
     "output_type": "stream",
     "text": [
      "WARNING:tensorflow:From <ipython-input-21-16e92a52588c>:43: softmax_cross_entropy_with_logits (from tensorflow.python.ops.nn_ops) is deprecated and will be removed in a future version.\n",
      "Instructions for updating:\n",
      "\n",
      "Future major versions of TensorFlow will allow gradients to flow\n",
      "into the labels input on backprop by default.\n",
      "\n",
      "See @{tf.nn.softmax_cross_entropy_with_logits_v2}.\n",
      "\n"
     ]
    }
   ],
   "source": [
    "import tensorflow as tf\n",
    "from tensorflow.python.framework import ops\n",
    "\n",
    "ops.reset_default_graph()\n",
    "tf.set_random_seed(1)  \n",
    "\n",
    "# X, Y tức tensor input và output được định nghĩa ở dạng placeholder\n",
    "X = tf.placeholder(tf.float32, shape = (None, X_train.shape[1], X_train.shape[2], 1))\n",
    "Y = tf.placeholder(tf.float32, shape = (None, 10))\n",
    "\n",
    "# Kernel W1 có kích thước 3x3, 16 kernels, 1 channel, được định nghĩa và khởi tạo như sau\n",
    "W1 = tf.get_variable(\"W1\", [3, 3, 1, 16], initializer = tf.contrib.layers.xavier_initializer(seed = 0))\n",
    "\n",
    "# Kernel W2 có kích thước 2x2, 16 channels, 64 kernels\n",
    "W2 = tf.get_variable(\"W2\", [2, 2, 16, 64], initializer = tf.contrib.layers.xavier_initializer(seed = 0))\n",
    "\n",
    "# Xây dựng mô hình\n",
    "# CONV2D 1\n",
    "Z1 = tf.nn.conv2d(X, W1, strides = [1,1,1,1], padding = 'VALID')\n",
    "    \n",
    "# RELU 1\n",
    "A1 = tf.nn.relu(Z1)\n",
    "    \n",
    "# MAXPOOL 1\n",
    "P1 = tf.nn.max_pool(A1, ksize = [1,2,2,1], strides = [1,2,2,1], padding = 'VALID')\n",
    "    \n",
    "# CONV2D 2\n",
    "Z2 = tf.nn.conv2d(P1, W2, strides = [1,1,1,1], padding = 'VALID')\n",
    "\n",
    "# RELU 2\n",
    "A2 = tf.nn.relu(Z2)\n",
    "\n",
    "# MAXPOOL: window 4x4, stride 4, padding 'SAME'\n",
    "P2 = tf.nn.max_pool(A2, ksize = [1,2,2,1], strides = [1,2,2,1], padding = 'VALID')\n",
    "\n",
    "# FLATTEN\n",
    "PF2 = tf.contrib.layers.flatten(P2)\n",
    "\n",
    "# FULLY-CONNECTED     \n",
    "Z3 = tf.contrib.layers.fully_connected(PF2, 10)\n",
    "\n",
    "# Calculate cost\n",
    "cost = tf.reduce_mean(tf.nn.softmax_cross_entropy_with_logits(logits = Z3, labels = Y))\n",
    "\n",
    "# Optimizer\n",
    "optimizer = tf.train.AdamOptimizer().minimize(cost)\n",
    "    \n",
    "# Initialize all the variables globally\n",
    "init = tf.global_variables_initializer()"
   ]
  },
  {
   "cell_type": "code",
   "execution_count": 22,
   "metadata": {},
   "outputs": [
    {
     "name": "stdout",
     "output_type": "stream",
     "text": [
      "Cost after epoch 0: 1.434086\n",
      "Cost after epoch 5: 0.962455\n",
      "Cost after epoch 10: 0.921783\n",
      "Cost after epoch 15: 0.895099\n"
     ]
    },
    {
     "data": {
      "image/png": "[encoded data removed]",
      "text/plain": [
       "<Figure size 432x288 with 1 Axes>"
      ]
     },
     "metadata": {},
     "output_type": "display_data"
    },
    {
     "name": "stdout",
     "output_type": "stream",
     "text": [
      "Tensor(\"Mean_1:0\", shape=(), dtype=float32)\n",
      "Train Accuracy: 0.6587833\n",
      "Test Accuracy: 0.6395\n"
     ]
    }
   ],
   "source": [
    "# Code from coursera course\n",
    "import math\n",
    "\n",
    "def random_mini_batches(X, Y, mini_batch_size = 64, seed = 0):\n",
    "    \"\"\"\n",
    "    Creates a list of random minibatches from (X, Y)\n",
    "    \n",
    "    Arguments:\n",
    "    X -- input data, of shape (input size, number of examples) (m, Hi, Wi, Ci)\n",
    "    Y -- true \"label\" vector (containing 0 if cat, 1 if non-cat), of shape (1, number of examples) (m, n_y)\n",
    "    mini_batch_size - size of the mini-batches, integer\n",
    "    seed -- this is only for the purpose of grading, so that you're \"random minibatches are the same as ours.\n",
    "    \n",
    "    Returns:\n",
    "    mini_batches -- list of synchronous (mini_batch_X, mini_batch_Y)\n",
    "    \"\"\"\n",
    "    \n",
    "    m = X.shape[0]                  # number of training examples\n",
    "    mini_batches = []\n",
    "    np.random.seed(seed)\n",
    "    \n",
    "    # Step 1: Shuffle (X, Y)\n",
    "    permutation = list(np.random.permutation(m))\n",
    "    shuffled_X = X[permutation,:,:,:]\n",
    "    shuffled_Y = Y[permutation,:]\n",
    "\n",
    "    # Step 2: Partition (shuffled_X, shuffled_Y). Minus the end case.\n",
    "    num_complete_minibatches = math.floor(m/mini_batch_size) # number of mini batches of size mini_batch_size in your partitionning\n",
    "    for k in range(0, num_complete_minibatches):\n",
    "        mini_batch_X = shuffled_X[k * mini_batch_size : k * mini_batch_size + mini_batch_size,:,:,:]\n",
    "        mini_batch_Y = shuffled_Y[k * mini_batch_size : k * mini_batch_size + mini_batch_size,:]\n",
    "        mini_batch = (mini_batch_X, mini_batch_Y)\n",
    "        mini_batches.append(mini_batch)\n",
    "    \n",
    "    # Handling the end case (last mini-batch < mini_batch_size)\n",
    "    if m % mini_batch_size != 0:\n",
    "        mini_batch_X = shuffled_X[num_complete_minibatches * mini_batch_size : m,:,:,:]\n",
    "        mini_batch_Y = shuffled_Y[num_complete_minibatches * mini_batch_size : m,:]\n",
    "        mini_batch = (mini_batch_X, mini_batch_Y)\n",
    "        mini_batches.append(mini_batch)\n",
    "    \n",
    "    return mini_batches\n",
    "\n",
    "with tf.Session() as sess:\n",
    "    cost_history = []\n",
    "    seed = 0\n",
    "    \n",
    "    # Run the initialization\n",
    "    sess.run(init)\n",
    "        \n",
    "    # Do the training loop\n",
    "    for epoch in range(NB_EPOCH):\n",
    "\n",
    "        minibatch_cost = 0.\n",
    "        num_minibatches = int(X_train.shape[0] / BATCH_SIZE) # number of minibatches of size minibatch_size in the train set\n",
    "        seed = seed + 1\n",
    "        minibatches = random_mini_batches(X_train_3D, Y_train, BATCH_SIZE, seed)\n",
    "\n",
    "        for minibatch in minibatches:\n",
    "\n",
    "            # Select a minibatch\n",
    "            (minibatch_X, minibatch_Y) = minibatch\n",
    "            # IMPORTANT: The line that runs the graph on a minibatch.\n",
    "            # Run the session to execute the optimizer and the cost, the feedict should contain a minibatch for (X,Y).\n",
    "            ### START CODE HERE ### (1 line)\n",
    "            _ , temp_cost = sess.run([optimizer, cost], feed_dict={X: minibatch_X, Y: minibatch_Y})\n",
    "            ### END CODE HERE ###\n",
    "                \n",
    "            minibatch_cost += temp_cost / num_minibatches\n",
    "                \n",
    "\n",
    "        # Print the cost every epoch\n",
    "        if epoch % 5 == 0:\n",
    "            print (\"Cost after epoch %i: %f\" % (epoch, minibatch_cost))\n",
    "        \n",
    "        cost_history.append(minibatch_cost)\n",
    "        \n",
    "        \n",
    "    # plot the cost\n",
    "    plt.plot(np.squeeze(cost_history))\n",
    "    plt.ylabel('cost')\n",
    "    plt.xlabel('iterations (per tens)')\n",
    "    plt.show()\n",
    "\n",
    "    # Calculate the correct predictions\n",
    "    predict_op = tf.argmax(Z3, 1)\n",
    "    correct_prediction = tf.equal(predict_op, tf.argmax(Y, 1))\n",
    "        \n",
    "    # Calculate accuracy on the test set\n",
    "    accuracy = tf.reduce_mean(tf.cast(correct_prediction, \"float\"))\n",
    "    print(accuracy)\n",
    "    train_accuracy = accuracy.eval({X: X_train_3D, Y: Y_train})\n",
    "    test_accuracy = accuracy.eval({X: X_test_3D, Y: Y_test})\n",
    "    print(\"Train Accuracy:\", train_accuracy)\n",
    "    print(\"Test Accuracy:\", test_accuracy)"
   ]
  },
  {
   "cell_type": "markdown",
   "metadata": {},
   "source": [
    "# Phần 3. Deep ResNet"
   ]
  },
  {
   "cell_type": "markdown",
   "metadata": {},
   "source": [
    "Ta sẽ implement một mô hình sâu hơn 50 tầng như mô tả dưới đây, lấy từ course [1] và giảm đi 1 tầng để phù hợp input bài toán\n",
    "\n",
    "<img src=\"F2.png\"></img>\n",
    "\n",
    "Trong đó các block ZERO PAD, CONV, BatchNorm, ReLU, MAX POOL, AVG POOL, Flatten, FC là các phép biến đổi đã học, phần tham số sẽ được mô tả sau. Các block CONV BLOCK và ID BLOCK là một chuỗi các phép biến đổi (layer) nối liền nhau. Ta sẽ bắt đầu với việc implement các block này."
   ]
  },
  {
   "cell_type": "markdown",
   "metadata": {},
   "source": [
    "### Bài 8. Identity Block"
   ]
  },
  {
   "cell_type": "markdown",
   "metadata": {},
   "source": [
    "<img src=\"F4.png\" width=600></img>"
   ]
  },
  {
   "cell_type": "markdown",
   "metadata": {},
   "source": [
    "Mỗi identity block (ID BLOCK trong hình trước) được cấu tạo từ output của 1 tầng $(l)$, sau đó:\n",
    "- Tầng $(l+1)$\n",
    " - Conv2D với $F_1$ kernels có kích thước $(1, 1)$, stride $(1, 1)$, padding valid. Để thuận tiện mô tả về sau, ta đặt tên tầng này là `\"conv1_\" + str(stage) + \"_\" + str(block)` trong đó `stage` là số thứ tự stage, `block` là số thứ tự block \n",
    " - BatchNorm để chuẩn hóa chiều tương ứng với channel. Tầng này có tên `\"bn1_\" + str(stage) + \"_\" + str(block)`\n",
    " - Activation với ReLU. Tầng này không có tên.\n",
    "- Tầng $(l+2)$\n",
    " - Conv2D với $F_2$ kernels có kích thước $(f, f)$, stride $(1, 1)$, padding same. Tầng này có tên `\"conv2_\" + str(stage) + \"_\" + str(block)`\n",
    " - BatchNorm để chuẩn hóa chiều tương ứng với channel. Tầng này có tên `\"bn2_\" + str(stage) + \"_\" + str(block)`\n",
    " - Activation với ReLU\n",
    "- Tầng $(l+3)$\n",
    " - Conv2D với $F_3$ kernels có kích thước $(1, 1)$, stride $(1, 1)$, padding valid. Tầng này có tên `\"conv3_\" + str(stage) + \"_\" + str(block)`\n",
    " - BatchNorm để chuẩn hóa chiều tương ứng với channel. Tầng này có tên `\"bn3_\" + str(stage) + \"_\" + str(block)`\n",
    "- Tổng hợp\n",
    " - Cộng output sau khi BatchNorm ở tầng $(l+3)$ với output sau tầng $(l)$\n",
    " - Activation với ReLU\n",
    " \n",
    "***Hoàn thành hàm `identityBlock(X, f, filters, stage, block)` implement identity block như mô tả trên. Hàm này nhận đối số `X` là một tensor (numpy array) $None \\times n_H \\times n_W \\times n_C$, `f` là một số nguyên dương mô tả kích thước kernel (mặc định kernel là 1 hình vuông), `filters` là list $[F_1, F_2, F_3]$ như mô tả trên.***"
   ]
  },
  {
   "cell_type": "code",
   "execution_count": 5,
   "metadata": {},
   "outputs": [],
   "source": [
    "import tensorflow as tf\n",
    "from keras.initializers import glorot_uniform\n",
    "from keras.layers import Input, Add, Dense, Activation, ZeroPadding2D, BatchNormalization, Flatten, Conv2D, AveragePooling2D, MaxPooling2D, GlobalMaxPooling2D\n",
    "\n",
    "import keras.backend as K\n",
    "K.set_image_data_format('channels_last')\n",
    "K.set_learning_phase(1)"
   ]
  },
  {
   "cell_type": "code",
   "execution_count": 6,
   "metadata": {},
   "outputs": [],
   "source": [
    "def identityBlock(X, f, filters, stage, block):\n",
    "    \"\"\"\n",
    "    Implementation of the identity block as defined in Figure 3\n",
    "    \n",
    "    Arguments:\n",
    "    X -- input tensor of shape (m, n_H_prev, n_W_prev, n_C_prev)\n",
    "    f -- integer, specifying the shape of the middle CONV's window for the main path\n",
    "    filters -- python list of integers, defining the number of filters in the CONV layers of the main path\n",
    "    stage -- integer, used to name the layers, depending on their position in the network\n",
    "    block -- string/character, used to name the layers, depending on their position in the network\n",
    "    \n",
    "    Returns:\n",
    "    X -- output of the identity block, tensor of shape (n_H, n_W, n_C)\n",
    "    \"\"\"\n",
    "    \n",
    "    # Retrieve Filters\n",
    "    F1, F2, F3 = filters\n",
    "    \n",
    "    # Save the input value. You'll need this later to add back to the main path. \n",
    "    X_shortcut = X\n",
    "    \n",
    "    # First component of main path\n",
    "    X = Conv2D(filters = F1, kernel_size = (1, 1), strides = (1,1), padding = 'valid', name = \"conv1_\" + str(stage) + \"_\" + str(block), kernel_initializer = glorot_uniform(seed=0))(X)\n",
    "    X = BatchNormalization(axis = 3, name = \"bn1_\" + str(stage) + \"_\" + str(block))(X)\n",
    "    X = Activation('relu')(X)\n",
    "    \n",
    "    ### YOUR CODE HERE ###\n",
    "    \n",
    "    # Second component of main path (≈3 lines)\n",
    "    X = None\n",
    "    X = None\n",
    "    X = None\n",
    "\n",
    "    # Third component of main path (≈2 lines)\n",
    "    X = None\n",
    "    X = None\n",
    "\n",
    "    # Final step: Add shortcut value to main path, and pass it through a RELU activation (≈2 lines)\n",
    "    X = None\n",
    "    X = None\n",
    "    \n",
    "    ### END CODE HERE ###\n",
    "    \n",
    "    return X"
   ]
  },
  {
   "cell_type": "markdown",
   "metadata": {},
   "source": [
    "Đoạn sau giúp test hàm của bạn"
   ]
  },
  {
   "cell_type": "code",
   "execution_count": 7,
   "metadata": {},
   "outputs": [
    {
     "name": "stdout",
     "output_type": "stream",
     "text": [
      "out = [0.19716813 0.         1.3561227  2.1713073  0.         1.3324987 ]\n"
     ]
    }
   ],
   "source": [
    "# TEST\n",
    "\n",
    "tf.reset_default_graph()\n",
    "\n",
    "with tf.Session() as test:\n",
    "    np.random.seed(1)\n",
    "    A_prev = tf.placeholder(\"float\", [3, 4, 4, 6])\n",
    "    X = np.random.randn(3, 4, 4, 6)\n",
    "    A = identityBlock(A_prev, f = 2, filters = [2, 4, 6], stage = 0, block = 0)\n",
    "    test.run(tf.global_variables_initializer())\n",
    "    out = test.run([A], feed_dict={A_prev: X, K.learning_phase(): 0})\n",
    "    print(\"out = \" + str(out[0][1][1][0]))"
   ]
  },
  {
   "cell_type": "markdown",
   "metadata": {},
   "source": [
    "### Bài 9. Convolutional Block\n",
    "\n",
    "Ta cần implement mô hình sau:\n",
    "\n",
    "<img src=\"F5.png\" width=600></img>\n",
    "\n",
    "Trong đó:\n",
    "\n",
    "Mỗi convolutional block (CONV BLOCK trong hình trước) được cấu tạo từ output của 1 tầng $(l)$ theo 2 nhánh:\n",
    "\n",
    "**Nhánh 1**\n",
    "- Tầng $(l+1)$\n",
    " - Conv2D với $F_1$ kernels có kích thước $(1, 1)$, stride $(s, s)$, padding valid. Tầng này có tên `\"conv1_\" + str(stage) + \"_\" + str(block)`\n",
    " - BatchNorm để chuẩn hóa chiều tương ứng với channel. Tầng này có tên `\"bn1_\" + str(stage) + \"_\" + str(block)`\n",
    " - Activation với ReLU\n",
    "- Tầng $(l+2)$\n",
    " - Conv2D với $F_2$ kernels có kích thước $(f, f)$, stride $(1, 1)$, padding same. Tầng này có tên `\"conv2_\" + str(stage) + \"_\" + str(block)`\n",
    " - BatchNorm để chuẩn hóa chiều tương ứng với channel. Tầng này có tên `\"bn2_\" + str(stage) + \"_\" + str(block)`\n",
    " - Activation với ReLU\n",
    "- Tầng $(l+3)$\n",
    " - Conv2D với $F_3$ kernels có kích thước $(1, 1)$, stride $(1, 1)$, padding valid. Tầng này có tên `\"conv3_\" + str(stage) + \"_\" + str(block)`\n",
    " - BatchNorm để chuẩn hóa chiều tương ứng với channel. Tầng này có tên `\"bn3_\" + str(stage) + \"_\" + str(block)`\n",
    " \n",
    "**Nhánh 2**\n",
    "- Tầng phụ $(l+3)$\n",
    " - Conv2D với $F_3$ kernels có kích thước $(1, 1)$, stride $(s, s)$, padding valid. Tầng này có tên `\"conv4_\" + str(stage) + \"_\" + str(block)`\n",
    " - BatchNorm để chuẩn hóa chiều tương ứng với channel. Tầng này có tên `\"bn4_\" + str(stage) + \"_\" + str(block)`\n",
    "\n",
    "**Tổng hợp**\n",
    " - Cộng output nhánh 1 và 2\n",
    " - Activation với ReLU"
   ]
  },
  {
   "cell_type": "markdown",
   "metadata": {},
   "source": [
    "***Hoàn thành hàm `convolutionalBlock(X, f, filters, stage, block, s=2)` implement convolutional block như mô tả trên. Hàm này nhận đối số `X` là một tensor (numpy array) $None \\times n_H \\times n_W \\times n_C$, `f` là một số nguyên dương mô tả kích thước kernel (mặc định kernel là 1 hình vuông), `filters` là list $[F_1, F_2, F_3]$ như mô tả trên, `s` là stride khác 1 được kí hiệu là $s$ trong mô tả trên.***"
   ]
  },
  {
   "cell_type": "code",
   "execution_count": 8,
   "metadata": {},
   "outputs": [],
   "source": [
    "def convolutionalBlock(X, f, filters, stage, block, s=2):\n",
    "    \"\"\"\n",
    "    Implementation of the convolutional block as defined above\n",
    "    \n",
    "    Arguments:\n",
    "    X -- input tensor of shape (m, n_H_prev, n_W_prev, n_C_prev)\n",
    "    f -- integer, specifying the shape of the middle CONV's window for the main path\n",
    "    filters -- python list of integers, defining the number of filters in the CONV layers of the main path\n",
    "    stage -- integer, used to name the layers, depending on their position in the network\n",
    "    block -- string/character, used to name the layers, depending on their position in the network\n",
    "    s -- Integer, specifying the stride to be used\n",
    "    \n",
    "    Returns:\n",
    "    X -- output of the convolutional block, tensor of shape (n_H, n_W, n_C)\n",
    "    \"\"\"\n",
    "    \n",
    "    # Retrieve Filters\n",
    "    F1, F2, F3 = filters\n",
    "    \n",
    "    # Save the input value\n",
    "    X_shortcut = X\n",
    "\n",
    "\n",
    "    ##### MAIN PATH #####\n",
    "    # First component of main path \n",
    "    X = Conv2D(F1, (1, 1), strides = (s,s), name = \"conv1_\" + str(stage) + \"_\" + str(block), kernel_initializer = glorot_uniform(seed=0))(X)\n",
    "    X = BatchNormalization(axis = 3, name = \"bn1_\" + str(stage) + \"_\" + str(block))(X)\n",
    "    X = Activation('relu')(X)\n",
    "    \n",
    "    ### YOUR CODE HERE ###\n",
    "\n",
    "    # Second component of main path (≈3 lines)\n",
    "    X = None\n",
    "    X = None\n",
    "    X = None\n",
    "\n",
    "    # Third component of main path (≈2 lines)\n",
    "    X = None\n",
    "    X = None\n",
    "\n",
    "    ##### SHORTCUT PATH #### (≈2 lines)\n",
    "    X_shortcut = None\n",
    "    X_shortcut = None\n",
    "\n",
    "    # Final step: Add shortcut value to main path, and pass it through a RELU activation (≈2 lines)\n",
    "    X = None\n",
    "    X = None\n",
    "    \n",
    "    ### END CODE HERE ###\n",
    "    \n",
    "    return X"
   ]
  },
  {
   "cell_type": "markdown",
   "metadata": {},
   "source": [
    "Test bằng đoạn code dưới đây."
   ]
  },
  {
   "cell_type": "code",
   "execution_count": 9,
   "metadata": {},
   "outputs": [
    {
     "name": "stdout",
     "output_type": "stream",
     "text": [
      "out = [0.09018463 1.2348977  0.46822017 0.0367176  0.         0.65516603]\n"
     ]
    }
   ],
   "source": [
    "# TEST\n",
    "tf.reset_default_graph()\n",
    "\n",
    "with tf.Session() as test:\n",
    "    np.random.seed(1)\n",
    "    A_prev = tf.placeholder(\"float\", [3, 4, 4, 6])\n",
    "    X = np.random.randn(3, 4, 4, 6)\n",
    "    A = convolutionalBlock(A_prev, f = 2, filters = [2, 4, 6], stage = 0, block = 0)\n",
    "    test.run(tf.global_variables_initializer())\n",
    "    out = test.run([A], feed_dict={A_prev: X, K.learning_phase(): 0})\n",
    "    print(\"out = \" + str(out[0][1][1][0]))"
   ]
  },
  {
   "cell_type": "markdown",
   "metadata": {},
   "source": [
    "### Bài 10. Deep ResNet\n",
    "\n",
    "Ta xây dựng mô hình như hình đã mô tả\n",
    "<img src=\"F9.png\"></img>"
   ]
  },
  {
   "cell_type": "markdown",
   "metadata": {},
   "source": [
    "Input: 28 x 28 x 1\n",
    "\n",
    "- Zero-padding với $s = (2,2)$\n",
    "\n",
    "- Stage 1:\n",
    "    - 64 kernels kích thước (5,5), stride (2,2)\n",
    "    - BatchNorm ở channel\n",
    "    - MaxPooling kích thước (3,3), stride (2,2)\n",
    "    \n",
    "- Stage 2:\n",
    "    - Convolutional block với số kernel [512, 512, 2048], $f = 3$, $s = 2$\n",
    "    - 2 Identity block với số kernel [512, 512, 2048], $f = 3$.\n",
    "\n",
    "- Stage 3:\n",
    "    - Convolutional block với số kernel [256, 256, 1024], $f = 3$, $s = 2$\n",
    "    - 5 Identity block với số kernel [256, 256, 1024], $f = 3$\n",
    "\n",
    "- Stage 4:\n",
    "    - Convolutional block với số kernel [512, 512, 2048], $f = 3$, $s = 2$\n",
    "    - 2 Identity block với số kernel [512, 512, 2048], $f = 3$.\n",
    "\n",
    "- Average Pooling kích thước (2,2)\n",
    "- Flatten\n",
    "- Fully Connected layer với số output unit bằng 10, softmax activation\n",
    "\n",
    "Output: 10 units"
   ]
  },
  {
   "cell_type": "markdown",
   "metadata": {},
   "source": [
    "***Hoàn thành hàm `ResNet(input_shape = (28, 28, 1), classes = 10)` implement mô hình trên. Hàm nhận đối số là kích thước input và output, trả lại một instance thuộc class `Model` của `keras`.***"
   ]
  },
  {
   "cell_type": "code",
   "execution_count": 31,
   "metadata": {},
   "outputs": [],
   "source": [
    "def ResNet(input_shape = (28, 28, 1), classes = 10):\n",
    "    \"\"\"\n",
    "    Implementation of the popular ResNet50 the following architecture:\n",
    "    CONV2D -> BATCHNORM -> RELU -> MAXPOOL -> CONVBLOCK -> IDBLOCK*2 -> CONVBLOCK -> IDBLOCK*3\n",
    "    -> CONVBLOCK -> IDBLOCK*5 -> CONVBLOCK -> IDBLOCK*2 -> AVGPOOL -> TOPLAYER\n",
    "\n",
    "    Arguments:\n",
    "    input_shape -- shape of the images of the dataset\n",
    "    classes -- integer, number of classes\n",
    "\n",
    "    Returns:\n",
    "    model -- a Model() instance in Keras\n",
    "    \"\"\"\n",
    "    \n",
    "    # Define the input as a tensor with shape input_shape\n",
    "    X_input = Input(shape = input_shape, name = \"input\")\n",
    "\n",
    "    \n",
    "    # Zero-Padding\n",
    "    X = ZeroPadding2D((2, 2))(X_input)\n",
    "    \n",
    "    # Stage 1\n",
    "    X = Conv2D(64, (5, 5), strides = (2, 2), kernel_initializer = glorot_uniform(seed=0), name=\"conv_initial\")(X)\n",
    "    # YOUR CODE HERE (1)\n",
    "    X = None\n",
    "    X = None\n",
    "    X = None\n",
    "    # END CODE HERE (1)\n",
    "\n",
    "    # Stage 2\n",
    "    X = convolutionalBlock(X, f = 3, filters = [64, 64, 256], s = 1, stage = 2, block = 1)\n",
    "    X = identityBlock(X, 3, [64, 64, 256], stage = 2, block = 2)\n",
    "    # YOUR CODE HERE (2)\n",
    "    X = None\n",
    "\n",
    "    # Stage 3 (≈6 lines)\n",
    "    X = None\n",
    "    X = None\n",
    "    X = None\n",
    "    X = None\n",
    "    X = None\n",
    "    X = None\n",
    "\n",
    "    # Stage 4 (≈3 lines)\n",
    "    X = None\n",
    "    X = None\n",
    "    X = None\n",
    "    \n",
    "    # AVGPOOL (≈1 line). Use \"X = AveragePooling2D(...)(X)\"\n",
    "    X = None\n",
    "    # END CODE HERE (2)\n",
    "\n",
    "    # output layer\n",
    "    X = Flatten()(X)\n",
    "    X = Dense(classes, activation='softmax', kernel_initializer = glorot_uniform(seed=0), name=\"dense_target\")(X)\n",
    "    \n",
    "    \n",
    "    # Create model\n",
    "    model = Model(inputs = X_input, outputs = X, name='ResNet')\n",
    "\n",
    "    return model"
   ]
  },
  {
   "cell_type": "code",
   "execution_count": 35,
   "metadata": {},
   "outputs": [
    {
     "name": "stdout",
     "output_type": "stream",
     "text": [
      "__________________________________________________________________________________________________\n",
      "Layer (type)                    Output Shape         Param #     Connected to                     \n",
      "==================================================================================================\n",
      "input (InputLayer)              (None, 28, 28, 1)    0                                            \n",
      "__________________________________________________________________________________________________\n",
      "zero_padding2d_3 (ZeroPadding2D (None, 32, 32, 1)    0           input[0][0]                      \n",
      "__________________________________________________________________________________________________\n",
      "conv_initial (Conv2D)           (None, 14, 14, 64)   1664        zero_padding2d_3[0][0]           \n",
      "__________________________________________________________________________________________________\n",
      "bn_initial (BatchNormalization) (None, 14, 14, 64)   256         conv_initial[0][0]               \n",
      "__________________________________________________________________________________________________\n",
      "activation_41 (Activation)      (None, 14, 14, 64)   0           bn_initial[0][0]                 \n",
      "__________________________________________________________________________________________________\n",
      "pool_initial (MaxPooling2D)     (None, 6, 6, 64)     0           activation_41[0][0]              \n",
      "__________________________________________________________________________________________________\n",
      "conv1_2_1 (Conv2D)              (None, 6, 6, 64)     4160        pool_initial[0][0]               \n",
      "__________________________________________________________________________________________________\n",
      "bn1_2_1 (BatchNormalization)    (None, 6, 6, 64)     256         conv1_2_1[0][0]                  \n",
      "__________________________________________________________________________________________________\n",
      "activation_42 (Activation)      (None, 6, 6, 64)     0           bn1_2_1[0][0]                    \n",
      "__________________________________________________________________________________________________\n",
      "conv2_2_1 (Conv2D)              (None, 6, 6, 64)     36928       activation_42[0][0]              \n",
      "__________________________________________________________________________________________________\n",
      "bn2_2_1 (BatchNormalization)    (None, 6, 6, 64)     256         conv2_2_1[0][0]                  \n",
      "__________________________________________________________________________________________________\n",
      "activation_43 (Activation)      (None, 6, 6, 64)     0           bn2_2_1[0][0]                    \n",
      "__________________________________________________________________________________________________\n",
      "conv3_2_1 (Conv2D)              (None, 6, 6, 256)    16640       activation_43[0][0]              \n",
      "__________________________________________________________________________________________________\n",
      "conv4_2_1 (Conv2D)              (None, 6, 6, 256)    16640       pool_initial[0][0]               \n",
      "__________________________________________________________________________________________________\n",
      "bn3_2_1 (BatchNormalization)    (None, 6, 6, 256)    1024        conv3_2_1[0][0]                  \n",
      "__________________________________________________________________________________________________\n",
      "bn4_2_1 (BatchNormalization)    (None, 6, 6, 256)    1024        conv4_2_1[0][0]                  \n",
      "__________________________________________________________________________________________________\n",
      "add_14 (Add)                    (None, 6, 6, 256)    0           bn3_2_1[0][0]                    \n",
      "                                                                 bn4_2_1[0][0]                    \n",
      "__________________________________________________________________________________________________\n",
      "activation_44 (Activation)      (None, 6, 6, 256)    0           add_14[0][0]                     \n",
      "__________________________________________________________________________________________________\n",
      "conv1_2_2 (Conv2D)              (None, 6, 6, 64)     16448       activation_44[0][0]              \n",
      "__________________________________________________________________________________________________\n",
      "bn1_2_2 (BatchNormalization)    (None, 6, 6, 64)     256         conv1_2_2[0][0]                  \n",
      "__________________________________________________________________________________________________\n",
      "activation_45 (Activation)      (None, 6, 6, 64)     0           bn1_2_2[0][0]                    \n",
      "__________________________________________________________________________________________________\n",
      "conv2_2_2 (Conv2D)              (None, 6, 6, 64)     36928       activation_45[0][0]              \n",
      "__________________________________________________________________________________________________\n",
      "bn2_2_2 (BatchNormalization)    (None, 6, 6, 64)     256         conv2_2_2[0][0]                  \n",
      "__________________________________________________________________________________________________\n",
      "activation_46 (Activation)      (None, 6, 6, 64)     0           bn2_2_2[0][0]                    \n",
      "__________________________________________________________________________________________________\n",
      "conv3_2_2 (Conv2D)              (None, 6, 6, 256)    16640       activation_46[0][0]              \n",
      "__________________________________________________________________________________________________\n",
      "bn3_2_2 (BatchNormalization)    (None, 6, 6, 256)    1024        conv3_2_2[0][0]                  \n",
      "__________________________________________________________________________________________________\n",
      "add_15 (Add)                    (None, 6, 6, 256)    0           bn3_2_2[0][0]                    \n",
      "                                                                 activation_44[0][0]              \n",
      "__________________________________________________________________________________________________\n",
      "activation_47 (Activation)      (None, 6, 6, 256)    0           add_15[0][0]                     \n",
      "__________________________________________________________________________________________________\n",
      "conv1_2_3 (Conv2D)              (None, 6, 6, 64)     16448       activation_47[0][0]              \n",
      "__________________________________________________________________________________________________\n",
      "bn1_2_3 (BatchNormalization)    (None, 6, 6, 64)     256         conv1_2_3[0][0]                  \n",
      "__________________________________________________________________________________________________\n",
      "activation_48 (Activation)      (None, 6, 6, 64)     0           bn1_2_3[0][0]                    \n",
      "__________________________________________________________________________________________________\n",
      "conv2_2_3 (Conv2D)              (None, 6, 6, 64)     36928       activation_48[0][0]              \n",
      "__________________________________________________________________________________________________\n",
      "bn2_2_3 (BatchNormalization)    (None, 6, 6, 64)     256         conv2_2_3[0][0]                  \n",
      "__________________________________________________________________________________________________\n",
      "activation_49 (Activation)      (None, 6, 6, 64)     0           bn2_2_3[0][0]                    \n",
      "__________________________________________________________________________________________________\n",
      "conv3_2_3 (Conv2D)              (None, 6, 6, 256)    16640       activation_49[0][0]              \n",
      "__________________________________________________________________________________________________\n",
      "bn3_2_3 (BatchNormalization)    (None, 6, 6, 256)    1024        conv3_2_3[0][0]                  \n",
      "__________________________________________________________________________________________________\n",
      "add_16 (Add)                    (None, 6, 6, 256)    0           bn3_2_3[0][0]                    \n",
      "                                                                 activation_47[0][0]              \n",
      "__________________________________________________________________________________________________\n",
      "activation_50 (Activation)      (None, 6, 6, 256)    0           add_16[0][0]                     \n",
      "__________________________________________________________________________________________________\n",
      "conv1_3_1 (Conv2D)              (None, 3, 3, 256)    65792       activation_50[0][0]              \n",
      "__________________________________________________________________________________________________\n",
      "bn1_3_1 (BatchNormalization)    (None, 3, 3, 256)    1024        conv1_3_1[0][0]                  \n",
      "__________________________________________________________________________________________________\n",
      "activation_51 (Activation)      (None, 3, 3, 256)    0           bn1_3_1[0][0]                    \n",
      "__________________________________________________________________________________________________\n",
      "conv2_3_1 (Conv2D)              (None, 3, 3, 256)    590080      activation_51[0][0]              \n",
      "__________________________________________________________________________________________________\n",
      "bn2_3_1 (BatchNormalization)    (None, 3, 3, 256)    1024        conv2_3_1[0][0]                  \n",
      "__________________________________________________________________________________________________\n",
      "activation_52 (Activation)      (None, 3, 3, 256)    0           bn2_3_1[0][0]                    \n",
      "__________________________________________________________________________________________________\n",
      "conv3_3_1 (Conv2D)              (None, 3, 3, 1024)   263168      activation_52[0][0]              \n",
      "__________________________________________________________________________________________________\n",
      "conv4_3_1 (Conv2D)              (None, 3, 3, 1024)   263168      activation_50[0][0]              \n",
      "__________________________________________________________________________________________________\n",
      "bn3_3_1 (BatchNormalization)    (None, 3, 3, 1024)   4096        conv3_3_1[0][0]                  \n",
      "__________________________________________________________________________________________________\n",
      "bn4_3_1 (BatchNormalization)    (None, 3, 3, 1024)   4096        conv4_3_1[0][0]                  \n",
      "__________________________________________________________________________________________________\n",
      "add_17 (Add)                    (None, 3, 3, 1024)   0           bn3_3_1[0][0]                    \n",
      "                                                                 bn4_3_1[0][0]                    \n",
      "__________________________________________________________________________________________________\n",
      "activation_53 (Activation)      (None, 3, 3, 1024)   0           add_17[0][0]                     \n",
      "__________________________________________________________________________________________________\n",
      "conv1_3_2 (Conv2D)              (None, 3, 3, 256)    262400      activation_53[0][0]              \n",
      "__________________________________________________________________________________________________\n",
      "bn1_3_2 (BatchNormalization)    (None, 3, 3, 256)    1024        conv1_3_2[0][0]                  \n",
      "__________________________________________________________________________________________________\n",
      "activation_54 (Activation)      (None, 3, 3, 256)    0           bn1_3_2[0][0]                    \n",
      "__________________________________________________________________________________________________\n",
      "conv2_3_2 (Conv2D)              (None, 3, 3, 256)    590080      activation_54[0][0]              \n",
      "__________________________________________________________________________________________________\n",
      "bn2_3_2 (BatchNormalization)    (None, 3, 3, 256)    1024        conv2_3_2[0][0]                  \n",
      "__________________________________________________________________________________________________\n",
      "activation_55 (Activation)      (None, 3, 3, 256)    0           bn2_3_2[0][0]                    \n",
      "__________________________________________________________________________________________________\n",
      "conv3_3_2 (Conv2D)              (None, 3, 3, 1024)   263168      activation_55[0][0]              \n",
      "__________________________________________________________________________________________________\n",
      "bn3_3_2 (BatchNormalization)    (None, 3, 3, 1024)   4096        conv3_3_2[0][0]                  \n",
      "__________________________________________________________________________________________________\n",
      "add_18 (Add)                    (None, 3, 3, 1024)   0           bn3_3_2[0][0]                    \n",
      "                                                                 activation_53[0][0]              \n",
      "__________________________________________________________________________________________________\n",
      "activation_56 (Activation)      (None, 3, 3, 1024)   0           add_18[0][0]                     \n",
      "__________________________________________________________________________________________________\n",
      "conv1_3_3 (Conv2D)              (None, 3, 3, 256)    262400      activation_56[0][0]              \n",
      "__________________________________________________________________________________________________\n",
      "bn1_3_3 (BatchNormalization)    (None, 3, 3, 256)    1024        conv1_3_3[0][0]                  \n",
      "__________________________________________________________________________________________________\n",
      "activation_57 (Activation)      (None, 3, 3, 256)    0           bn1_3_3[0][0]                    \n",
      "__________________________________________________________________________________________________\n",
      "conv2_3_3 (Conv2D)              (None, 3, 3, 256)    590080      activation_57[0][0]              \n",
      "__________________________________________________________________________________________________\n",
      "bn2_3_3 (BatchNormalization)    (None, 3, 3, 256)    1024        conv2_3_3[0][0]                  \n",
      "__________________________________________________________________________________________________\n",
      "activation_58 (Activation)      (None, 3, 3, 256)    0           bn2_3_3[0][0]                    \n",
      "__________________________________________________________________________________________________\n",
      "conv3_3_3 (Conv2D)              (None, 3, 3, 1024)   263168      activation_58[0][0]              \n",
      "__________________________________________________________________________________________________\n",
      "bn3_3_3 (BatchNormalization)    (None, 3, 3, 1024)   4096        conv3_3_3[0][0]                  \n",
      "__________________________________________________________________________________________________\n",
      "add_19 (Add)                    (None, 3, 3, 1024)   0           bn3_3_3[0][0]                    \n",
      "                                                                 activation_56[0][0]              \n",
      "__________________________________________________________________________________________________\n",
      "activation_59 (Activation)      (None, 3, 3, 1024)   0           add_19[0][0]                     \n",
      "__________________________________________________________________________________________________\n",
      "conv1_3_4 (Conv2D)              (None, 3, 3, 256)    262400      activation_59[0][0]              \n",
      "__________________________________________________________________________________________________\n",
      "bn1_3_4 (BatchNormalization)    (None, 3, 3, 256)    1024        conv1_3_4[0][0]                  \n",
      "__________________________________________________________________________________________________\n",
      "activation_60 (Activation)      (None, 3, 3, 256)    0           bn1_3_4[0][0]                    \n",
      "__________________________________________________________________________________________________\n",
      "conv2_3_4 (Conv2D)              (None, 3, 3, 256)    590080      activation_60[0][0]              \n",
      "__________________________________________________________________________________________________\n",
      "bn2_3_4 (BatchNormalization)    (None, 3, 3, 256)    1024        conv2_3_4[0][0]                  \n",
      "__________________________________________________________________________________________________\n",
      "activation_61 (Activation)      (None, 3, 3, 256)    0           bn2_3_4[0][0]                    \n",
      "__________________________________________________________________________________________________\n",
      "conv3_3_4 (Conv2D)              (None, 3, 3, 1024)   263168      activation_61[0][0]              \n",
      "__________________________________________________________________________________________________\n",
      "bn3_3_4 (BatchNormalization)    (None, 3, 3, 1024)   4096        conv3_3_4[0][0]                  \n",
      "__________________________________________________________________________________________________\n",
      "add_20 (Add)                    (None, 3, 3, 1024)   0           bn3_3_4[0][0]                    \n",
      "                                                                 activation_59[0][0]              \n",
      "__________________________________________________________________________________________________\n",
      "activation_62 (Activation)      (None, 3, 3, 1024)   0           add_20[0][0]                     \n",
      "__________________________________________________________________________________________________\n",
      "conv1_3_5 (Conv2D)              (None, 3, 3, 256)    262400      activation_62[0][0]              \n",
      "__________________________________________________________________________________________________\n",
      "bn1_3_5 (BatchNormalization)    (None, 3, 3, 256)    1024        conv1_3_5[0][0]                  \n",
      "__________________________________________________________________________________________________\n",
      "activation_63 (Activation)      (None, 3, 3, 256)    0           bn1_3_5[0][0]                    \n",
      "__________________________________________________________________________________________________\n",
      "conv2_3_5 (Conv2D)              (None, 3, 3, 256)    590080      activation_63[0][0]              \n",
      "__________________________________________________________________________________________________\n",
      "bn2_3_5 (BatchNormalization)    (None, 3, 3, 256)    1024        conv2_3_5[0][0]                  \n",
      "__________________________________________________________________________________________________\n",
      "activation_64 (Activation)      (None, 3, 3, 256)    0           bn2_3_5[0][0]                    \n",
      "__________________________________________________________________________________________________\n",
      "conv3_3_5 (Conv2D)              (None, 3, 3, 1024)   263168      activation_64[0][0]              \n",
      "__________________________________________________________________________________________________\n",
      "bn3_3_5 (BatchNormalization)    (None, 3, 3, 1024)   4096        conv3_3_5[0][0]                  \n",
      "__________________________________________________________________________________________________\n",
      "add_21 (Add)                    (None, 3, 3, 1024)   0           bn3_3_5[0][0]                    \n",
      "                                                                 activation_62[0][0]              \n",
      "__________________________________________________________________________________________________\n",
      "activation_65 (Activation)      (None, 3, 3, 1024)   0           add_21[0][0]                     \n",
      "__________________________________________________________________________________________________\n",
      "conv1_3_6 (Conv2D)              (None, 3, 3, 256)    262400      activation_65[0][0]              \n",
      "__________________________________________________________________________________________________\n",
      "bn1_3_6 (BatchNormalization)    (None, 3, 3, 256)    1024        conv1_3_6[0][0]                  \n",
      "__________________________________________________________________________________________________\n",
      "activation_66 (Activation)      (None, 3, 3, 256)    0           bn1_3_6[0][0]                    \n",
      "__________________________________________________________________________________________________\n",
      "conv2_3_6 (Conv2D)              (None, 3, 3, 256)    590080      activation_66[0][0]              \n",
      "__________________________________________________________________________________________________\n",
      "bn2_3_6 (BatchNormalization)    (None, 3, 3, 256)    1024        conv2_3_6[0][0]                  \n",
      "__________________________________________________________________________________________________\n",
      "activation_67 (Activation)      (None, 3, 3, 256)    0           bn2_3_6[0][0]                    \n",
      "__________________________________________________________________________________________________\n",
      "conv3_3_6 (Conv2D)              (None, 3, 3, 1024)   263168      activation_67[0][0]              \n",
      "__________________________________________________________________________________________________\n",
      "bn3_3_6 (BatchNormalization)    (None, 3, 3, 1024)   4096        conv3_3_6[0][0]                  \n",
      "__________________________________________________________________________________________________\n",
      "add_22 (Add)                    (None, 3, 3, 1024)   0           bn3_3_6[0][0]                    \n",
      "                                                                 activation_65[0][0]              \n",
      "__________________________________________________________________________________________________\n",
      "activation_68 (Activation)      (None, 3, 3, 1024)   0           add_22[0][0]                     \n",
      "__________________________________________________________________________________________________\n",
      "conv1_4_1 (Conv2D)              (None, 2, 2, 512)    524800      activation_68[0][0]              \n",
      "__________________________________________________________________________________________________\n",
      "bn1_4_1 (BatchNormalization)    (None, 2, 2, 512)    2048        conv1_4_1[0][0]                  \n",
      "__________________________________________________________________________________________________\n",
      "activation_69 (Activation)      (None, 2, 2, 512)    0           bn1_4_1[0][0]                    \n",
      "__________________________________________________________________________________________________\n",
      "conv2_4_1 (Conv2D)              (None, 2, 2, 512)    2359808     activation_69[0][0]              \n",
      "__________________________________________________________________________________________________\n",
      "bn2_4_1 (BatchNormalization)    (None, 2, 2, 512)    2048        conv2_4_1[0][0]                  \n",
      "__________________________________________________________________________________________________\n",
      "activation_70 (Activation)      (None, 2, 2, 512)    0           bn2_4_1[0][0]                    \n",
      "__________________________________________________________________________________________________\n",
      "conv3_4_1 (Conv2D)              (None, 2, 2, 2048)   1050624     activation_70[0][0]              \n",
      "__________________________________________________________________________________________________\n",
      "conv4_4_1 (Conv2D)              (None, 2, 2, 2048)   2099200     activation_68[0][0]              \n",
      "__________________________________________________________________________________________________\n",
      "bn3_4_1 (BatchNormalization)    (None, 2, 2, 2048)   8192        conv3_4_1[0][0]                  \n",
      "__________________________________________________________________________________________________\n",
      "bn4_4_1 (BatchNormalization)    (None, 2, 2, 2048)   8192        conv4_4_1[0][0]                  \n",
      "__________________________________________________________________________________________________\n",
      "add_23 (Add)                    (None, 2, 2, 2048)   0           bn3_4_1[0][0]                    \n",
      "                                                                 bn4_4_1[0][0]                    \n",
      "__________________________________________________________________________________________________\n",
      "activation_71 (Activation)      (None, 2, 2, 2048)   0           add_23[0][0]                     \n",
      "__________________________________________________________________________________________________\n",
      "conv1_4_2 (Conv2D)              (None, 2, 2, 512)    1049088     activation_71[0][0]              \n",
      "__________________________________________________________________________________________________\n",
      "bn1_4_2 (BatchNormalization)    (None, 2, 2, 512)    2048        conv1_4_2[0][0]                  \n",
      "__________________________________________________________________________________________________\n",
      "activation_72 (Activation)      (None, 2, 2, 512)    0           bn1_4_2[0][0]                    \n",
      "__________________________________________________________________________________________________\n",
      "conv2_4_2 (Conv2D)              (None, 2, 2, 512)    2359808     activation_72[0][0]              \n",
      "__________________________________________________________________________________________________\n",
      "bn2_4_2 (BatchNormalization)    (None, 2, 2, 512)    2048        conv2_4_2[0][0]                  \n",
      "__________________________________________________________________________________________________\n",
      "activation_73 (Activation)      (None, 2, 2, 512)    0           bn2_4_2[0][0]                    \n",
      "__________________________________________________________________________________________________\n",
      "conv3_4_2 (Conv2D)              (None, 2, 2, 2048)   1050624     activation_73[0][0]              \n",
      "__________________________________________________________________________________________________\n",
      "bn3_4_2 (BatchNormalization)    (None, 2, 2, 2048)   8192        conv3_4_2[0][0]                  \n",
      "__________________________________________________________________________________________________\n",
      "add_24 (Add)                    (None, 2, 2, 2048)   0           bn3_4_2[0][0]                    \n",
      "                                                                 activation_71[0][0]              \n",
      "__________________________________________________________________________________________________\n",
      "activation_74 (Activation)      (None, 2, 2, 2048)   0           add_24[0][0]                     \n",
      "__________________________________________________________________________________________________\n",
      "conv1_4_3 (Conv2D)              (None, 2, 2, 512)    1049088     activation_74[0][0]              \n",
      "__________________________________________________________________________________________________\n",
      "bn1_4_3 (BatchNormalization)    (None, 2, 2, 512)    2048        conv1_4_3[0][0]                  \n",
      "__________________________________________________________________________________________________\n",
      "activation_75 (Activation)      (None, 2, 2, 512)    0           bn1_4_3[0][0]                    \n",
      "__________________________________________________________________________________________________\n",
      "conv2_4_3 (Conv2D)              (None, 2, 2, 512)    2359808     activation_75[0][0]              \n",
      "__________________________________________________________________________________________________\n",
      "bn2_4_3 (BatchNormalization)    (None, 2, 2, 512)    2048        conv2_4_3[0][0]                  \n",
      "__________________________________________________________________________________________________\n",
      "activation_76 (Activation)      (None, 2, 2, 512)    0           bn2_4_3[0][0]                    \n",
      "__________________________________________________________________________________________________\n",
      "conv3_4_3 (Conv2D)              (None, 2, 2, 2048)   1050624     activation_76[0][0]              \n",
      "__________________________________________________________________________________________________\n",
      "bn3_4_3 (BatchNormalization)    (None, 2, 2, 2048)   8192        conv3_4_3[0][0]                  \n",
      "__________________________________________________________________________________________________\n",
      "add_25 (Add)                    (None, 2, 2, 2048)   0           bn3_4_3[0][0]                    \n",
      "                                                                 activation_74[0][0]              \n",
      "__________________________________________________________________________________________________\n",
      "activation_77 (Activation)      (None, 2, 2, 2048)   0           add_25[0][0]                     \n",
      "__________________________________________________________________________________________________\n",
      "pool_final (AveragePooling2D)   (None, 1, 1, 2048)   0           activation_77[0][0]              \n",
      "__________________________________________________________________________________________________\n",
      "flatten_3 (Flatten)             (None, 2048)         0           pool_final[0][0]                 \n",
      "__________________________________________________________________________________________________\n",
      "dense_target (Dense)            (None, 10)           20490       flatten_3[0][0]                  \n",
      "==================================================================================================\n",
      "Total params: 22,042,378\n",
      "Trainable params: 21,996,426\n",
      "Non-trainable params: 45,952\n",
      "__________________________________________________________________________________________________\n"
     ]
    }
   ],
   "source": [
    "# TEST\n",
    "model3 = ResNet(input_shape = (28, 28, 1), classes = 10)\n",
    "model3.summary()"
   ]
  },
  {
   "cell_type": "code",
   "execution_count": 36,
   "metadata": {},
   "outputs": [],
   "source": [
    "# TEST\n",
    "model3.compile(optimizer='adam', loss='categorical_crossentropy', metrics=['accuracy'])"
   ]
  },
  {
   "cell_type": "markdown",
   "metadata": {},
   "source": [
    "Ta thử chạy mô hình bằng đoạn code dưới đây. Do mục đích chỉ là kiểm tra implementation đã chính xác chưa, chỉ dùng NB_EPOCH nhỏ và có thể giới hạn lượng dữ liệu (ví dụ, dùng X_train[:1000] để chỉ chạy trên 1000 dữ liệu)"
   ]
  },
  {
   "cell_type": "code",
   "execution_count": 37,
   "metadata": {},
   "outputs": [
    {
     "name": "stdout",
     "output_type": "stream",
     "text": [
      "Epoch 1/2\n",
      "60000/60000 [==============================] - 5275s 88ms/step - loss: 1.1308 - acc: 0.7113\n",
      "Epoch 2/2\n",
      "60000/60000 [==============================] - 4524s 75ms/step - loss: 0.5033 - acc: 0.8300\n"
     ]
    },
    {
     "data": {
      "text/plain": [
       "<keras.callbacks.History at 0x29625eeb208>"
      ]
     },
     "execution_count": 37,
     "metadata": {},
     "output_type": "execute_result"
    }
   ],
   "source": [
    "X_train_3D = X_train.reshape((X_train.shape[0], X_train.shape[1], X_train.shape[2], 1))\n",
    "X_test_3D = X_test.reshape((X_test.shape[0], X_test.shape[1], X_test.shape[2], 1))\n",
    "\n",
    "# Mục đích của phần này là implement mô hình. Ta không chú trọng đến kết quả. Chỉ train 2 epoch\n",
    "# Nếu accuracy ở epoch thứ hai tốt hơn epoch thứ nhất và loss giảm, ta có thể tin tưởng implementation là đúng.\n",
    "# Thời gian train có thể dài hơn 1h. Hãy thử giảm size tập train, chẳng hạn dùng:\n",
    "# model3.fit(X_train_3D[:1000], Y_train[:1000], epochs = ..., batch_size = ...) để có thời gian train ngắn hơn\n",
    "model3.fit(X_train_3D, Y_train, epochs = 2, batch_size = 32)"
   ]
  },
  {
   "cell_type": "markdown",
   "metadata": {},
   "source": [
    "Kết quả trên tập train và tập test sau 2 lượt chạy như sau:"
   ]
  },
  {
   "cell_type": "code",
   "execution_count": 38,
   "metadata": {},
   "outputs": [
    {
     "name": "stdout",
     "output_type": "stream",
     "text": [
      "60000/60000 [==============================] - 829s 14ms/step\n"
     ]
    },
    {
     "data": {
      "text/plain": [
       "[0.3633566612680753, 0.8628166666666667]"
      ]
     },
     "execution_count": 38,
     "metadata": {},
     "output_type": "execute_result"
    }
   ],
   "source": [
    "model3.evaluate(X_train_3D, Y_train)"
   ]
  },
  {
   "cell_type": "code",
   "execution_count": 39,
   "metadata": {},
   "outputs": [
    {
     "name": "stdout",
     "output_type": "stream",
     "text": [
      "10000/10000 [==============================] - 116s 12ms/step\n"
     ]
    },
    {
     "data": {
      "text/plain": [
       "[0.4026214696645737, 0.8504]"
      ]
     },
     "execution_count": 39,
     "metadata": {},
     "output_type": "execute_result"
    }
   ],
   "source": [
    "model3.evaluate(X_test_3D, Y_test)"
   ]
  },
  {
   "cell_type": "markdown",
   "metadata": {},
   "source": [
    "## References\n",
    "\n",
    "[1] A. Ng, K. Katanforoosh, B. Mouru, *Convolutional Neural Networks* (Course in coursera.org)\n",
    "\n",
    "[2] I. Goodfellow, Y. Bengio, A.Courville, *Deep Learning*"
   ]
  }
 ],
 "metadata": {
  "kernelspec": {
   "display_name": "Python 3",
   "language": "python",
   "name": "python3"
  },
  "language_info": {
   "codemirror_mode": {
    "name": "ipython",
    "version": 3
   },
   "file_extension": ".py",
   "mimetype": "text/x-python",
   "name": "python",
   "nbconvert_exporter": "python",
   "pygments_lexer": "ipython3",
   "version": "3.5.5"
  }
 },
 "nbformat": 4,
 "nbformat_minor": 2
}
