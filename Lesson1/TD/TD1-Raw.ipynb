{
 "cells": [
  {
   "cell_type": "markdown",
   "metadata": {},
   "source": [
    "# TD1 - MNIST và Bitcoin với Feedforward Network"
   ]
  },
  {
   "cell_type": "markdown",
   "metadata": {},
   "source": [
    "## 1A. MNIST"
   ]
  },
  {
   "cell_type": "markdown",
   "metadata": {},
   "source": [
    "### Mô tả\n",
    "\n",
    "Trong phần này, ta dùng Feedforward Network (FFN) để phân loại các chữ số trong tập dữ liệu nổi tiếng <a href=\"https://toolbox.google.com/datasetsearch/search?query=MNIST%20Database%20(mnist.pkl.gz)&docid=QZBrQgKepkevjOimAAAAAA%3D%3D\">MNIST</a>. Ta sử dụng thư viện `keras` để làm việc với các mô hình FFN.\n",
    "\n",
    "Để download MNIST với keras, ta sử dụng đoạn code sau:"
   ]
  },
  {
   "cell_type": "code",
   "execution_count": 1,
   "metadata": {},
   "outputs": [
    {
     "name": "stderr",
     "output_type": "stream",
     "text": [
      "D:\\Users\\ndoannguyen\\AppData\\Local\\Continuum\\anaconda2\\envs\\py35\\lib\\site-packages\\h5py\\__init__.py:36: FutureWarning: Conversion of the second argument of issubdtype from `float` to `np.floating` is deprecated. In future, it will be treated as `np.float64 == np.dtype(float).type`.\n",
      "  from ._conv import register_converters as _register_converters\n",
      "Using TensorFlow backend.\n"
     ]
    },
    {
     "name": "stdout",
     "output_type": "stream",
     "text": [
      "Downloading data from https://s3.amazonaws.com/img-datasets/mnist.npz\n",
      "11493376/11490434 [==============================] - 19s 2us/step\n"
     ]
    }
   ],
   "source": [
    "from keras.datasets import mnist\n",
    "(X_train_raw, y_train_raw), (X_test_raw, y_test_raw) = mnist.load_data()"
   ]
  },
  {
   "cell_type": "markdown",
   "metadata": {},
   "source": [
    "Tại lần chạy đầu tiên của đoạn code, dữ liệu sẽ được download. Ở các lần chạy sau, dữ liệu sẽ được gọi trực tiếp từ ổ đĩa (không cần download lại)."
   ]
  },
  {
   "cell_type": "code",
   "execution_count": 2,
   "metadata": {},
   "outputs": [],
   "source": [
    "(X_train_raw, y_train_raw), (X_test_raw, y_test_raw) = mnist.load_data()"
   ]
  },
  {
   "cell_type": "markdown",
   "metadata": {},
   "source": [
    "`X_train_raw`, `y_train_raw` là dữ liệu dùng cho training với 60000 hình ảnh, mỗi ảnh có kích thước 28x28, tương ứng với nhãn là một chữ số từ 0 đến 9. Tương tự có 10000 hình ảnh dùng cho test (`X_test_raw`, `y_test_raw`)."
   ]
  },
  {
   "cell_type": "code",
   "execution_count": 7,
   "metadata": {},
   "outputs": [
    {
     "data": {
      "text/plain": [
       "((60000, 28, 28), (60000,), (10000, 28, 28), (10000,))"
      ]
     },
     "execution_count": 7,
     "metadata": {},
     "output_type": "execute_result"
    }
   ],
   "source": [
    "X_train_raw.shape, y_train_raw.shape, X_test_raw.shape, y_test_raw.shape"
   ]
  },
  {
   "cell_type": "markdown",
   "metadata": {},
   "source": [
    "Mỗi hình ảnh có dạng đen trắng, trong đó mỗi pixel có giá trị (cường độ) thuộc đoạn [0, 255], 0 tượng trưng cho đen và 255 tượng trưng cho trắng."
   ]
  },
  {
   "cell_type": "code",
   "execution_count": 34,
   "metadata": {},
   "outputs": [
    {
     "name": "stdout",
     "output_type": "stream",
     "text": [
      "[[  0   0   0   0   0   0   0   0   0   0   0   0   0   0   0   0   0   0\n",
      "    0   0   0   0   0   0   0   0   0   0]\n",
      " [  0   0   0   0   0   0   0   0   0   0   0   0   0   0   0   0   0   0\n",
      "    0   0   0   0   0   0   0   0   0   0]\n",
      " [  0   0   0   0   0   0   0   0   0   0   0   0   0   0   0   0   0   0\n",
      "    0   0   0   0   0   0   0   0   0   0]\n",
      " [  0   0   0   0   0   0   0   0   0   0   0   0   0   0   0   0   0   0\n",
      "    0   0   0   0   0   0   0   0   0   0]\n",
      " [  0   0   0   0   0   0   0   0   0   0   0   0   0   0   0   0   0   0\n",
      "    0   0   0   0   0   0   0   0   0   0]\n",
      " [  0   0   0   0   0   0   0   0   0   0   0   0   3  18  18  18 126 136\n",
      "  175  26 166 255 247 127   0   0   0   0]\n",
      " [  0   0   0   0   0   0   0   0  30  36  94 154 170 253 253 253 253 253\n",
      "  225 172 253 242 195  64   0   0   0   0]\n",
      " [  0   0   0   0   0   0   0  49 238 253 253 253 253 253 253 253 253 251\n",
      "   93  82  82  56  39   0   0   0   0   0]\n",
      " [  0   0   0   0   0   0   0  18 219 253 253 253 253 253 198 182 247 241\n",
      "    0   0   0   0   0   0   0   0   0   0]\n",
      " [  0   0   0   0   0   0   0   0  80 156 107 253 253 205  11   0  43 154\n",
      "    0   0   0   0   0   0   0   0   0   0]\n",
      " [  0   0   0   0   0   0   0   0   0  14   1 154 253  90   0   0   0   0\n",
      "    0   0   0   0   0   0   0   0   0   0]\n",
      " [  0   0   0   0   0   0   0   0   0   0   0 139 253 190   2   0   0   0\n",
      "    0   0   0   0   0   0   0   0   0   0]\n",
      " [  0   0   0   0   0   0   0   0   0   0   0  11 190 253  70   0   0   0\n",
      "    0   0   0   0   0   0   0   0   0   0]\n",
      " [  0   0   0   0   0   0   0   0   0   0   0   0  35 241 225 160 108   1\n",
      "    0   0   0   0   0   0   0   0   0   0]\n",
      " [  0   0   0   0   0   0   0   0   0   0   0   0   0  81 240 253 253 119\n",
      "   25   0   0   0   0   0   0   0   0   0]\n",
      " [  0   0   0   0   0   0   0   0   0   0   0   0   0   0  45 186 253 253\n",
      "  150  27   0   0   0   0   0   0   0   0]\n",
      " [  0   0   0   0   0   0   0   0   0   0   0   0   0   0   0  16  93 252\n",
      "  253 187   0   0   0   0   0   0   0   0]\n",
      " [  0   0   0   0   0   0   0   0   0   0   0   0   0   0   0   0   0 249\n",
      "  253 249  64   0   0   0   0   0   0   0]\n",
      " [  0   0   0   0   0   0   0   0   0   0   0   0   0   0  46 130 183 253\n",
      "  253 207   2   0   0   0   0   0   0   0]\n",
      " [  0   0   0   0   0   0   0   0   0   0   0   0  39 148 229 253 253 253\n",
      "  250 182   0   0   0   0   0   0   0   0]\n",
      " [  0   0   0   0   0   0   0   0   0   0  24 114 221 253 253 253 253 201\n",
      "   78   0   0   0   0   0   0   0   0   0]\n",
      " [  0   0   0   0   0   0   0   0  23  66 213 253 253 253 253 198  81   2\n",
      "    0   0   0   0   0   0   0   0   0   0]\n",
      " [  0   0   0   0   0   0  18 171 219 253 253 253 253 195  80   9   0   0\n",
      "    0   0   0   0   0   0   0   0   0   0]\n",
      " [  0   0   0   0  55 172 226 253 253 253 253 244 133  11   0   0   0   0\n",
      "    0   0   0   0   0   0   0   0   0   0]\n",
      " [  0   0   0   0 136 253 253 253 212 135 132  16   0   0   0   0   0   0\n",
      "    0   0   0   0   0   0   0   0   0   0]\n",
      " [  0   0   0   0   0   0   0   0   0   0   0   0   0   0   0   0   0   0\n",
      "    0   0   0   0   0   0   0   0   0   0]\n",
      " [  0   0   0   0   0   0   0   0   0   0   0   0   0   0   0   0   0   0\n",
      "    0   0   0   0   0   0   0   0   0   0]\n",
      " [  0   0   0   0   0   0   0   0   0   0   0   0   0   0   0   0   0   0\n",
      "    0   0   0   0   0   0   0   0   0   0]]\n"
     ]
    }
   ],
   "source": [
    "print(X_train_raw[0])"
   ]
  },
  {
   "cell_type": "markdown",
   "metadata": {},
   "source": [
    "Trong cả TD này, ta sẽ làm việc với dạng chuẩn hoá của các hình ảnh, trong đó thay cường độ các pixel được chia cho 255 và thuộc đoạn [0, 1]. Đồng thời ta sẽ chuyển mỗi hình ảnh về một vector 784 chiều thay cho một array (28 x 28)."
   ]
  },
  {
   "cell_type": "code",
   "execution_count": 35,
   "metadata": {},
   "outputs": [
    {
     "name": "stdout",
     "output_type": "stream",
     "text": [
      "[0.         0.         0.         0.         0.         0.\n",
      " 0.         0.         0.         0.         0.         0.\n",
      " 0.         0.         0.         0.         0.         0.\n",
      " 0.         0.         0.         0.         0.         0.\n",
      " 0.         0.         0.         0.         0.         0.\n",
      " 0.         0.         0.         0.         0.         0.\n",
      " 0.         0.         0.         0.         0.         0.\n",
      " 0.         0.         0.         0.         0.         0.\n",
      " 0.         0.         0.         0.         0.         0.\n",
      " 0.         0.         0.         0.         0.         0.\n",
      " 0.         0.         0.         0.         0.         0.\n",
      " 0.         0.         0.         0.         0.         0.\n",
      " 0.         0.         0.         0.         0.         0.\n",
      " 0.         0.         0.         0.         0.         0.\n",
      " 0.         0.         0.         0.         0.         0.\n",
      " 0.         0.         0.         0.         0.         0.\n",
      " 0.         0.         0.         0.         0.         0.\n",
      " 0.         0.         0.         0.         0.         0.\n",
      " 0.         0.         0.         0.         0.         0.\n",
      " 0.         0.         0.         0.         0.         0.\n",
      " 0.         0.         0.         0.         0.         0.\n",
      " 0.         0.         0.         0.         0.         0.\n",
      " 0.         0.         0.         0.         0.         0.\n",
      " 0.         0.         0.         0.         0.         0.\n",
      " 0.         0.         0.         0.         0.         0.\n",
      " 0.         0.         0.01176471 0.07058824 0.07058824 0.07058824\n",
      " 0.49411765 0.53333333 0.68627451 0.10196078 0.65098039 1.\n",
      " 0.96862745 0.49803922 0.         0.         0.         0.\n",
      " 0.         0.         0.         0.         0.         0.\n",
      " 0.         0.         0.11764706 0.14117647 0.36862745 0.60392157\n",
      " 0.66666667 0.99215686 0.99215686 0.99215686 0.99215686 0.99215686\n",
      " 0.88235294 0.6745098  0.99215686 0.94901961 0.76470588 0.25098039\n",
      " 0.         0.         0.         0.         0.         0.\n",
      " 0.         0.         0.         0.         0.         0.19215686\n",
      " 0.93333333 0.99215686 0.99215686 0.99215686 0.99215686 0.99215686\n",
      " 0.99215686 0.99215686 0.99215686 0.98431373 0.36470588 0.32156863\n",
      " 0.32156863 0.21960784 0.15294118 0.         0.         0.\n",
      " 0.         0.         0.         0.         0.         0.\n",
      " 0.         0.         0.         0.07058824 0.85882353 0.99215686\n",
      " 0.99215686 0.99215686 0.99215686 0.99215686 0.77647059 0.71372549\n",
      " 0.96862745 0.94509804 0.         0.         0.         0.\n",
      " 0.         0.         0.         0.         0.         0.\n",
      " 0.         0.         0.         0.         0.         0.\n",
      " 0.         0.         0.31372549 0.61176471 0.41960784 0.99215686\n",
      " 0.99215686 0.80392157 0.04313725 0.         0.16862745 0.60392157\n",
      " 0.         0.         0.         0.         0.         0.\n",
      " 0.         0.         0.         0.         0.         0.\n",
      " 0.         0.         0.         0.         0.         0.\n",
      " 0.         0.05490196 0.00392157 0.60392157 0.99215686 0.35294118\n",
      " 0.         0.         0.         0.         0.         0.\n",
      " 0.         0.         0.         0.         0.         0.\n",
      " 0.         0.         0.         0.         0.         0.\n",
      " 0.         0.         0.         0.         0.         0.\n",
      " 0.         0.54509804 0.99215686 0.74509804 0.00784314 0.\n",
      " 0.         0.         0.         0.         0.         0.\n",
      " 0.         0.         0.         0.         0.         0.\n",
      " 0.         0.         0.         0.         0.         0.\n",
      " 0.         0.         0.         0.         0.         0.04313725\n",
      " 0.74509804 0.99215686 0.2745098  0.         0.         0.\n",
      " 0.         0.         0.         0.         0.         0.\n",
      " 0.         0.         0.         0.         0.         0.\n",
      " 0.         0.         0.         0.         0.         0.\n",
      " 0.         0.         0.         0.         0.1372549  0.94509804\n",
      " 0.88235294 0.62745098 0.42352941 0.00392157 0.         0.\n",
      " 0.         0.         0.         0.         0.         0.\n",
      " 0.         0.         0.         0.         0.         0.\n",
      " 0.         0.         0.         0.         0.         0.\n",
      " 0.         0.         0.         0.31764706 0.94117647 0.99215686\n",
      " 0.99215686 0.46666667 0.09803922 0.         0.         0.\n",
      " 0.         0.         0.         0.         0.         0.\n",
      " 0.         0.         0.         0.         0.         0.\n",
      " 0.         0.         0.         0.         0.         0.\n",
      " 0.         0.         0.17647059 0.72941176 0.99215686 0.99215686\n",
      " 0.58823529 0.10588235 0.         0.         0.         0.\n",
      " 0.         0.         0.         0.         0.         0.\n",
      " 0.         0.         0.         0.         0.         0.\n",
      " 0.         0.         0.         0.         0.         0.\n",
      " 0.         0.0627451  0.36470588 0.98823529 0.99215686 0.73333333\n",
      " 0.         0.         0.         0.         0.         0.\n",
      " 0.         0.         0.         0.         0.         0.\n",
      " 0.         0.         0.         0.         0.         0.\n",
      " 0.         0.         0.         0.         0.         0.\n",
      " 0.         0.97647059 0.99215686 0.97647059 0.25098039 0.\n",
      " 0.         0.         0.         0.         0.         0.\n",
      " 0.         0.         0.         0.         0.         0.\n",
      " 0.         0.         0.         0.         0.         0.\n",
      " 0.         0.         0.18039216 0.50980392 0.71764706 0.99215686\n",
      " 0.99215686 0.81176471 0.00784314 0.         0.         0.\n",
      " 0.         0.         0.         0.         0.         0.\n",
      " 0.         0.         0.         0.         0.         0.\n",
      " 0.         0.         0.         0.         0.15294118 0.58039216\n",
      " 0.89803922 0.99215686 0.99215686 0.99215686 0.98039216 0.71372549\n",
      " 0.         0.         0.         0.         0.         0.\n",
      " 0.         0.         0.         0.         0.         0.\n",
      " 0.         0.         0.         0.         0.         0.\n",
      " 0.09411765 0.44705882 0.86666667 0.99215686 0.99215686 0.99215686\n",
      " 0.99215686 0.78823529 0.30588235 0.         0.         0.\n",
      " 0.         0.         0.         0.         0.         0.\n",
      " 0.         0.         0.         0.         0.         0.\n",
      " 0.         0.         0.09019608 0.25882353 0.83529412 0.99215686\n",
      " 0.99215686 0.99215686 0.99215686 0.77647059 0.31764706 0.00784314\n",
      " 0.         0.         0.         0.         0.         0.\n",
      " 0.         0.         0.         0.         0.         0.\n",
      " 0.         0.         0.         0.         0.07058824 0.67058824\n",
      " 0.85882353 0.99215686 0.99215686 0.99215686 0.99215686 0.76470588\n",
      " 0.31372549 0.03529412 0.         0.         0.         0.\n",
      " 0.         0.         0.         0.         0.         0.\n",
      " 0.         0.         0.         0.         0.         0.\n",
      " 0.21568627 0.6745098  0.88627451 0.99215686 0.99215686 0.99215686\n",
      " 0.99215686 0.95686275 0.52156863 0.04313725 0.         0.\n",
      " 0.         0.         0.         0.         0.         0.\n",
      " 0.         0.         0.         0.         0.         0.\n",
      " 0.         0.         0.         0.         0.53333333 0.99215686\n",
      " 0.99215686 0.99215686 0.83137255 0.52941176 0.51764706 0.0627451\n",
      " 0.         0.         0.         0.         0.         0.\n",
      " 0.         0.         0.         0.         0.         0.\n",
      " 0.         0.         0.         0.         0.         0.\n",
      " 0.         0.         0.         0.         0.         0.\n",
      " 0.         0.         0.         0.         0.         0.\n",
      " 0.         0.         0.         0.         0.         0.\n",
      " 0.         0.         0.         0.         0.         0.\n",
      " 0.         0.         0.         0.         0.         0.\n",
      " 0.         0.         0.         0.         0.         0.\n",
      " 0.         0.         0.         0.         0.         0.\n",
      " 0.         0.         0.         0.         0.         0.\n",
      " 0.         0.         0.         0.         0.         0.\n",
      " 0.         0.         0.         0.         0.         0.\n",
      " 0.         0.         0.         0.         0.         0.\n",
      " 0.         0.         0.         0.         0.         0.\n",
      " 0.         0.         0.         0.         0.         0.\n",
      " 0.         0.         0.         0.        ]\n"
     ]
    }
   ],
   "source": [
    "X_train = X_train_raw.reshape((60000, 784))/255\n",
    "X_test = X_test_raw.reshape((10000, 784))/255\n",
    "print(X_train[0])"
   ]
  },
  {
   "cell_type": "markdown",
   "metadata": {},
   "source": [
    "Ngoài ra, để áp dụng multiclass, classification, ta sẽ biến mỗi nhãn $0, 1, \\ldots, 9$ thành các vector 10 thành phần $(t_0, \\ldots, t_9)$ trong đó có 1 thành phần duy nhất bằng 1, các thành phần khác bằng 0. "
   ]
  },
  {
   "cell_type": "code",
   "execution_count": 36,
   "metadata": {},
   "outputs": [],
   "source": [
    "from keras.utils import np_utils\n",
    "Y_train = np_utils.to_categorical(y_train_raw, 10)\n",
    "Y_test = np_utils.to_categorical(y_test_raw, 10)"
   ]
  },
  {
   "cell_type": "markdown",
   "metadata": {},
   "source": [
    "Kiểm tra lại: "
   ]
  },
  {
   "cell_type": "code",
   "execution_count": 37,
   "metadata": {},
   "outputs": [
    {
     "data": {
      "text/plain": [
       "array([5, 0, 4, 1, 9], dtype=uint8)"
      ]
     },
     "execution_count": 37,
     "metadata": {},
     "output_type": "execute_result"
    }
   ],
   "source": [
    "y_train_raw[:5]"
   ]
  },
  {
   "cell_type": "code",
   "execution_count": 38,
   "metadata": {},
   "outputs": [
    {
     "data": {
      "text/plain": [
       "array([[0., 0., 0., 0., 0., 1., 0., 0., 0., 0.],\n",
       "       [1., 0., 0., 0., 0., 0., 0., 0., 0., 0.],\n",
       "       [0., 0., 0., 0., 1., 0., 0., 0., 0., 0.],\n",
       "       [0., 1., 0., 0., 0., 0., 0., 0., 0., 0.],\n",
       "       [0., 0., 0., 0., 0., 0., 0., 0., 0., 1.]], dtype=float32)"
      ]
     },
     "execution_count": 38,
     "metadata": {},
     "output_type": "execute_result"
    }
   ],
   "source": [
    "Y_train[:5] # Các vector này tương ứng với 5 nhãn phía trên"
   ]
  },
  {
   "cell_type": "markdown",
   "metadata": {},
   "source": [
    "### Bài 1 Multinomial Logistic Regression (Softmax Regression)\n",
    "\n",
    "Nhắc lại rằng Softmax Regression tương ứng với một FFN với 1 hidden layer, với hàm kích hoạt (activation function) là hàm softmax\n",
    "\n",
    "và hàm loss được sử dụng là categorical entropy.\n",
    "$$\n",
    "L(t, y) = -\\sum_{k=1}^K t_k \\log(y_k)\n",
    "$$\n",
    "\n",
    "($K$ là số lớp trong bài toán phân loại, ở đây là 10).\n",
    "\n",
    "***Sử dụng `keras`, hãy xây dựng một mô hình (model) theo FFN nêu trên. Lưu mô hình này bằng một tên biến riêng (ví dụ `model1` để so sánh về sau).***"
   ]
  },
  {
   "cell_type": "code",
   "execution_count": 89,
   "metadata": {},
   "outputs": [],
   "source": [
    "# YOUR CODE HERE"
   ]
  },
  {
   "cell_type": "markdown",
   "metadata": {},
   "source": [
    "Khi gọi `model1.summary()`, số lượng tham số cần bằng 7850, tương ứng với 784 unit ở input layer + 1 unit tự do, nhân với số unit ở output layer. Bạn có thể dùng đoạn code dưới đây để test."
   ]
  },
  {
   "cell_type": "code",
   "execution_count": 92,
   "metadata": {},
   "outputs": [
    {
     "name": "stdout",
     "output_type": "stream",
     "text": [
      "_________________________________________________________________\n",
      "Layer (type)                 Output Shape              Param #   \n",
      "=================================================================\n",
      "dense_90 (Dense)             (None, 10)                7850      \n",
      "_________________________________________________________________\n",
      "activation_90 (Activation)   (None, 10)                0         \n",
      "=================================================================\n",
      "Total params: 7,850\n",
      "Trainable params: 7,850\n",
      "Non-trainable params: 0\n",
      "_________________________________________________________________\n"
     ]
    }
   ],
   "source": [
    "model1.summary()"
   ]
  },
  {
   "cell_type": "markdown",
   "metadata": {},
   "source": [
    "***Hãy train với Softmax Regression trên `X_train`, `Y_train` bằng cách chọn ngẫu nhiên 80% để train và 20% cho validation, sau đó dự đoán trên `X_test`, `Y_test`. Sử dụng `np.random.seed(0)` để cố định trạng thái ngẫu nhiên và SGD (các tham số ở dạng default) làm thuật toán tối ưu. Chọn minibatch size là 128. Tính accuracy trên tập train và tập validation sau 20 bước lặp. Lưu lịch sử train bằng một tên biến riêng (ví dụ `history1 = model1.fit(...)`) để sử dụng về sau.***"
   ]
  },
  {
   "cell_type": "code",
   "execution_count": 50,
   "metadata": {},
   "outputs": [
    {
     "name": "stdout",
     "output_type": "stream",
     "text": [
      "Train on 48000 samples, validate on 12000 samples\n",
      "Epoch 1/20\n",
      "48000/48000 [==============================] - 3s 62us/step - loss: 1.3437 - acc: 0.6849 - val_loss: 0.8861 - val_acc: 0.8268\n",
      "Epoch 2/20\n",
      "48000/48000 [==============================] - 3s 60us/step - loss: 0.7886 - acc: 0.8273 - val_loss: 0.6561 - val_acc: 0.8581\n",
      "Epoch 3/20\n",
      "48000/48000 [==============================] - 3s 55us/step - loss: 0.6422 - acc: 0.8492 - val_loss: 0.5615 - val_acc: 0.8692\n",
      "Epoch 4/20\n",
      "48000/48000 [==============================] - 2s 46us/step - loss: 0.5706 - acc: 0.8600 - val_loss: 0.5093 - val_acc: 0.8777\n",
      "Epoch 5/20\n",
      "48000/48000 [==============================] - 2s 32us/step - loss: 0.5267 - acc: 0.8673 - val_loss: 0.4753 - val_acc: 0.8813\n",
      "Epoch 6/20\n",
      "48000/48000 [==============================] - 1s 30us/step - loss: 0.4965 - acc: 0.8719 - val_loss: 0.4510 - val_acc: 0.8878\n",
      "Epoch 7/20\n",
      "48000/48000 [==============================] - 1s 30us/step - loss: 0.4742 - acc: 0.8767 - val_loss: 0.4328 - val_acc: 0.8895\n",
      "Epoch 8/20\n",
      "48000/48000 [==============================] - 1s 31us/step - loss: 0.4567 - acc: 0.8805 - val_loss: 0.4189 - val_acc: 0.8917\n",
      "Epoch 9/20\n",
      "48000/48000 [==============================] - 3s 57us/step - loss: 0.4428 - acc: 0.8829 - val_loss: 0.4071 - val_acc: 0.8943\n",
      "Epoch 10/20\n",
      "48000/48000 [==============================] - 2s 47us/step - loss: 0.4311 - acc: 0.8855 - val_loss: 0.3975 - val_acc: 0.8959\n",
      "Epoch 11/20\n",
      "48000/48000 [==============================] - 3s 64us/step - loss: 0.4213 - acc: 0.8874 - val_loss: 0.3895 - val_acc: 0.8977\n",
      "Epoch 12/20\n",
      "48000/48000 [==============================] - 3s 62us/step - loss: 0.4129 - acc: 0.8892 - val_loss: 0.3823 - val_acc: 0.8992\n",
      "Epoch 13/20\n",
      "48000/48000 [==============================] - 2s 43us/step - loss: 0.4056 - acc: 0.8909 - val_loss: 0.3763 - val_acc: 0.8995\n",
      "Epoch 14/20\n",
      "48000/48000 [==============================] - 2s 43us/step - loss: 0.3991 - acc: 0.8916 - val_loss: 0.3708 - val_acc: 0.9012\n",
      "Epoch 15/20\n",
      "48000/48000 [==============================] - 2s 44us/step - loss: 0.3933 - acc: 0.8937 - val_loss: 0.3660 - val_acc: 0.9021\n",
      "Epoch 16/20\n",
      "48000/48000 [==============================] - 3s 59us/step - loss: 0.3881 - acc: 0.8947 - val_loss: 0.3617 - val_acc: 0.9022\n",
      "Epoch 17/20\n",
      "48000/48000 [==============================] - 3s 55us/step - loss: 0.3834 - acc: 0.8953 - val_loss: 0.3579 - val_acc: 0.9032\n",
      "Epoch 18/20\n",
      "48000/48000 [==============================] - 3s 63us/step - loss: 0.3791 - acc: 0.8962 - val_loss: 0.3544 - val_acc: 0.9044\n",
      "Epoch 19/20\n",
      "48000/48000 [==============================] - 3s 53us/step - loss: 0.3752 - acc: 0.8972 - val_loss: 0.3511 - val_acc: 0.9045\n",
      "Epoch 20/20\n",
      "48000/48000 [==============================] - 3s 55us/step - loss: 0.3715 - acc: 0.8978 - val_loss: 0.3482 - val_acc: 0.9062\n"
     ]
    }
   ],
   "source": [
    "# YOUR CODE HERE - TRAIN AND VALIDATION"
   ]
  },
  {
   "cell_type": "code",
   "execution_count": 52,
   "metadata": {},
   "outputs": [
    {
     "name": "stdout",
     "output_type": "stream",
     "text": [
      "10000/10000 [==============================] - 1s 59us/step\n"
     ]
    },
    {
     "data": {
      "text/plain": [
       "[0.34765567469596864, 0.904]"
      ]
     },
     "execution_count": 52,
     "metadata": {},
     "output_type": "execute_result"
    }
   ],
   "source": [
    "# YOUR CODE HERE - PREDICT ON TEST SET"
   ]
  },
  {
   "cell_type": "markdown",
   "metadata": {},
   "source": [
    "***Vẽ đồ thị biểu diễn accuracy trên tập train và tập validation theo quá trình train (20 bước)***."
   ]
  },
  {
   "cell_type": "code",
   "execution_count": 53,
   "metadata": {},
   "outputs": [
    {
     "data": {
      "text/plain": [
       "<matplotlib.legend.Legend at 0x11610438>"
      ]
     },
     "execution_count": 53,
     "metadata": {},
     "output_type": "execute_result"
    },
    {
     "data": {
      "image/png": "[encoded data removed]",
      "text/plain": [
       "<Figure size 432x288 with 1 Axes>"
      ]
     },
     "metadata": {},
     "output_type": "display_data"
    }
   ],
   "source": [
    "# YOUR CODE HERE - PLOTTING"
   ]
  },
  {
   "cell_type": "markdown",
   "metadata": {},
   "source": [
    "### Bài 2. FFN 2 tầng - Chọn Hidden Unit\n",
    "\n",
    "Ta sử dụng model sau: \n",
    "\n",
    "- Tầng input: 784 unit (+1 unit tự do) như cũ\n",
    "- Tầng hidden trung gian: 8, 32, 128 hoặc 512 unit (4 lựa chọn)\n",
    "- Hàm kích hoạt ở tầng hidden trung gian: relu hoặc sigmoid (2 lựa chọn)\n",
    "- Tầng output: 10 unit\n",
    "- Hàm kích hoạt ở tầng output: softmax\n",
    "\n",
    "- Hàm loss: categorical entropy\n",
    "\n",
    "***Sử dụng `keras`, hãy xây dựng 8 mô hình (model) theo mô tả nêu trên. Lưu các mô hình này bằng một tên biến riêng (ví dụ `model2A`, ..., `model2H` để so sánh về sau).***"
   ]
  },
  {
   "cell_type": "code",
   "execution_count": 58,
   "metadata": {},
   "outputs": [],
   "source": [
    "# YOUR CODE HERE - DESIGN MODEL"
   ]
  },
  {
   "cell_type": "code",
   "execution_count": 59,
   "metadata": {},
   "outputs": [
    {
     "name": "stdout",
     "output_type": "stream",
     "text": [
      "_________________________________________________________________\n",
      "Layer (type)                 Output Shape              Param #   \n",
      "=================================================================\n",
      "dense_38 (Dense)             (None, 8)                 6280      \n",
      "_________________________________________________________________\n",
      "activation_38 (Activation)   (None, 8)                 0         \n",
      "_________________________________________________________________\n",
      "dense_39 (Dense)             (None, 10)                90        \n",
      "_________________________________________________________________\n",
      "activation_39 (Activation)   (None, 10)                0         \n",
      "=================================================================\n",
      "Total params: 6,370\n",
      "Trainable params: 6,370\n",
      "Non-trainable params: 0\n",
      "_________________________________________________________________\n"
     ]
    }
   ],
   "source": [
    "models2[0].summary() # Kiểm tra với 1 trong 8 mô hình, ở đây lấy biến là models2[0]"
   ]
  },
  {
   "cell_type": "code",
   "execution_count": 61,
   "metadata": {},
   "outputs": [
    {
     "name": "stdout",
     "output_type": "stream",
     "text": [
      "_________________________________________________________________\n",
      "Layer (type)                 Output Shape              Param #   \n",
      "=================================================================\n",
      "dense_52 (Dense)             (None, 512)               401920    \n",
      "_________________________________________________________________\n",
      "activation_52 (Activation)   (None, 512)               0         \n",
      "_________________________________________________________________\n",
      "dense_53 (Dense)             (None, 10)                5130      \n",
      "_________________________________________________________________\n",
      "activation_53 (Activation)   (None, 10)                0         \n",
      "=================================================================\n",
      "Total params: 407,050\n",
      "Trainable params: 407,050\n",
      "Non-trainable params: 0\n",
      "_________________________________________________________________\n"
     ]
    }
   ],
   "source": [
    "models2[7].summary() # Kiểm tra với mô hình khác"
   ]
  },
  {
   "cell_type": "markdown",
   "metadata": {},
   "source": [
    "***Hãy train với các mô hình trên `X_train`, `Y_train` bằng cách chọn ngẫu nhiên 80% để train và 20% cho validation, sau đó dự đoán trên `X_test`, `Y_test`. Sử dụng `np.random.seed(0)` để cố định trạng thái ngẫu nhiên và SGD (các tham số ở dạng default) làm thuật toán tối ưu. Chọn batch size là 128. Tính accuracy trên tập train và tập validation sau 20 bước lặp. Lưu lịch sử train bằng một tên biến riêng (ví dụ `history2A = model2A.fit(...)`) để sử dụng về sau.***"
   ]
  },
  {
   "cell_type": "code",
   "execution_count": 64,
   "metadata": {},
   "outputs": [
    {
     "name": "stdout",
     "output_type": "stream",
     "text": [
      "10000/10000 [==============================] - 1s 71us/step\n",
      "Nb Units: 8, activation: relu. Test result: [0.3156051102638245, 0.9067]\n",
      "10000/10000 [==============================] - 1s 67us/step\n",
      "Nb Units: 8, activation: sigmoid. Test result: [0.7636615446090699, 0.8321]\n",
      "10000/10000 [==============================] - 1s 88us/step\n",
      "Nb Units: 32, activation: relu. Test result: [0.2634596054941416, 0.9269]\n",
      "10000/10000 [==============================] - 1s 83us/step\n",
      "Nb Units: 32, activation: sigmoid. Test result: [0.47043792123794553, 0.8912]\n",
      "10000/10000 [==============================] - 0s 20us/step\n",
      "Nb Units: 128, activation: relu. Test result: [0.2362924926817417, 0.9344]\n",
      "10000/10000 [==============================] - 0s 20us/step\n",
      "Nb Units: 128, activation: sigmoid. Test result: [0.404630801153183, 0.8958]\n",
      "10000/10000 [==============================] - 0s 48us/step\n",
      "Nb Units: 512, activation: relu. Test result: [0.22309853385686873, 0.9363]\n",
      "10000/10000 [==============================] - 1s 51us/step\n",
      "Nb Units: 512, activation: sigmoid. Test result: [0.379808917927742, 0.8987]\n"
     ]
    }
   ],
   "source": [
    "# YOUR CODE HERE - TRAINING, VALIDATION AND PREDICTION FOR 8 MODELS"
   ]
  },
  {
   "cell_type": "markdown",
   "metadata": {},
   "source": [
    "***Vẽ đồ thị biểu diễn accuracy trên tập train theo quá trình train (20 bước) với từng mô hình trên. Chọn ra cặp tham số tốt nhất cho số unit ở tầng hidden và hàm activation được sử dụng. Biểu diễn số liệu ở dạng DataFrame để so sánh.***."
   ]
  },
  {
   "cell_type": "code",
   "execution_count": 74,
   "metadata": {},
   "outputs": [
    {
     "data": {
      "text/plain": [
       "<matplotlib.legend.Legend at 0x1a1ff0f0>"
      ]
     },
     "execution_count": 74,
     "metadata": {},
     "output_type": "execute_result"
    },
    {
     "data": {
      "image/png": "[encoded data removed]",
      "text/plain": [
       "<Figure size 432x288 with 1 Axes>"
      ]
     },
     "metadata": {},
     "output_type": "display_data"
    }
   ],
   "source": [
    "# YOUR CODE HERE - PLOTTING"
   ]
  },
  {
   "cell_type": "code",
   "execution_count": 75,
   "metadata": {},
   "outputs": [
    {
     "data": {
      "text/html": [
       "<div>\n",
       "<style scoped>\n",
       "    .dataframe tbody tr th:only-of-type {\n",
       "        vertical-align: middle;\n",
       "    }\n",
       "\n",
       "    .dataframe tbody tr th {\n",
       "        vertical-align: top;\n",
       "    }\n",
       "\n",
       "    .dataframe thead th {\n",
       "        text-align: right;\n",
       "    }\n",
       "</style>\n",
       "<table border=\"1\" class=\"dataframe\">\n",
       "  <thead>\n",
       "    <tr style=\"text-align: right;\">\n",
       "      <th></th>\n",
       "      <th>0</th>\n",
       "      <th>1</th>\n",
       "      <th>2</th>\n",
       "      <th>3</th>\n",
       "      <th>4</th>\n",
       "      <th>5</th>\n",
       "      <th>6</th>\n",
       "      <th>7</th>\n",
       "      <th>8</th>\n",
       "      <th>9</th>\n",
       "      <th>10</th>\n",
       "      <th>11</th>\n",
       "      <th>12</th>\n",
       "      <th>13</th>\n",
       "      <th>14</th>\n",
       "      <th>15</th>\n",
       "      <th>16</th>\n",
       "      <th>17</th>\n",
       "      <th>18</th>\n",
       "      <th>19</th>\n",
       "    </tr>\n",
       "  </thead>\n",
       "  <tbody>\n",
       "    <tr>\n",
       "      <th>0</th>\n",
       "      <td>0.897958</td>\n",
       "      <td>0.898958</td>\n",
       "      <td>0.899625</td>\n",
       "      <td>0.900458</td>\n",
       "      <td>0.901354</td>\n",
       "      <td>0.901708</td>\n",
       "      <td>0.902667</td>\n",
       "      <td>0.903375</td>\n",
       "      <td>0.903167</td>\n",
       "      <td>0.904833</td>\n",
       "      <td>0.904271</td>\n",
       "      <td>0.905396</td>\n",
       "      <td>0.905500</td>\n",
       "      <td>0.906667</td>\n",
       "      <td>0.907042</td>\n",
       "      <td>0.907167</td>\n",
       "      <td>0.908083</td>\n",
       "      <td>0.908417</td>\n",
       "      <td>0.908729</td>\n",
       "      <td>0.908896</td>\n",
       "    </tr>\n",
       "    <tr>\n",
       "      <th>1</th>\n",
       "      <td>0.175271</td>\n",
       "      <td>0.423792</td>\n",
       "      <td>0.563438</td>\n",
       "      <td>0.623062</td>\n",
       "      <td>0.654167</td>\n",
       "      <td>0.678646</td>\n",
       "      <td>0.700688</td>\n",
       "      <td>0.716354</td>\n",
       "      <td>0.731896</td>\n",
       "      <td>0.745104</td>\n",
       "      <td>0.756521</td>\n",
       "      <td>0.767458</td>\n",
       "      <td>0.777000</td>\n",
       "      <td>0.785958</td>\n",
       "      <td>0.793833</td>\n",
       "      <td>0.801250</td>\n",
       "      <td>0.806042</td>\n",
       "      <td>0.811396</td>\n",
       "      <td>0.816021</td>\n",
       "      <td>0.821688</td>\n",
       "    </tr>\n",
       "    <tr>\n",
       "      <th>2</th>\n",
       "      <td>0.613521</td>\n",
       "      <td>0.829438</td>\n",
       "      <td>0.863688</td>\n",
       "      <td>0.878375</td>\n",
       "      <td>0.887271</td>\n",
       "      <td>0.893542</td>\n",
       "      <td>0.898479</td>\n",
       "      <td>0.901729</td>\n",
       "      <td>0.904792</td>\n",
       "      <td>0.907354</td>\n",
       "      <td>0.908958</td>\n",
       "      <td>0.910333</td>\n",
       "      <td>0.912750</td>\n",
       "      <td>0.914229</td>\n",
       "      <td>0.915813</td>\n",
       "      <td>0.917229</td>\n",
       "      <td>0.918896</td>\n",
       "      <td>0.920125</td>\n",
       "      <td>0.921250</td>\n",
       "      <td>0.922667</td>\n",
       "    </tr>\n",
       "    <tr>\n",
       "      <th>3</th>\n",
       "      <td>0.357604</td>\n",
       "      <td>0.633583</td>\n",
       "      <td>0.700542</td>\n",
       "      <td>0.742667</td>\n",
       "      <td>0.772229</td>\n",
       "      <td>0.794521</td>\n",
       "      <td>0.811896</td>\n",
       "      <td>0.823146</td>\n",
       "      <td>0.832500</td>\n",
       "      <td>0.840437</td>\n",
       "      <td>0.847271</td>\n",
       "      <td>0.853208</td>\n",
       "      <td>0.858333</td>\n",
       "      <td>0.862729</td>\n",
       "      <td>0.866708</td>\n",
       "      <td>0.869646</td>\n",
       "      <td>0.872854</td>\n",
       "      <td>0.875854</td>\n",
       "      <td>0.878229</td>\n",
       "      <td>0.880771</td>\n",
       "    </tr>\n",
       "    <tr>\n",
       "      <th>4</th>\n",
       "      <td>0.687937</td>\n",
       "      <td>0.853250</td>\n",
       "      <td>0.877687</td>\n",
       "      <td>0.888667</td>\n",
       "      <td>0.895292</td>\n",
       "      <td>0.899979</td>\n",
       "      <td>0.904354</td>\n",
       "      <td>0.908042</td>\n",
       "      <td>0.910792</td>\n",
       "      <td>0.913646</td>\n",
       "      <td>0.916083</td>\n",
       "      <td>0.918792</td>\n",
       "      <td>0.920854</td>\n",
       "      <td>0.922396</td>\n",
       "      <td>0.924438</td>\n",
       "      <td>0.925896</td>\n",
       "      <td>0.927271</td>\n",
       "      <td>0.929104</td>\n",
       "      <td>0.929937</td>\n",
       "      <td>0.931500</td>\n",
       "    </tr>\n",
       "    <tr>\n",
       "      <th>5</th>\n",
       "      <td>0.483187</td>\n",
       "      <td>0.707063</td>\n",
       "      <td>0.763167</td>\n",
       "      <td>0.797667</td>\n",
       "      <td>0.818396</td>\n",
       "      <td>0.832750</td>\n",
       "      <td>0.843375</td>\n",
       "      <td>0.850313</td>\n",
       "      <td>0.856062</td>\n",
       "      <td>0.861812</td>\n",
       "      <td>0.866167</td>\n",
       "      <td>0.869938</td>\n",
       "      <td>0.873167</td>\n",
       "      <td>0.876229</td>\n",
       "      <td>0.878167</td>\n",
       "      <td>0.880313</td>\n",
       "      <td>0.882792</td>\n",
       "      <td>0.884250</td>\n",
       "      <td>0.885646</td>\n",
       "      <td>0.887021</td>\n",
       "    </tr>\n",
       "    <tr>\n",
       "      <th>6</th>\n",
       "      <td>0.752042</td>\n",
       "      <td>0.866917</td>\n",
       "      <td>0.884792</td>\n",
       "      <td>0.893958</td>\n",
       "      <td>0.899917</td>\n",
       "      <td>0.904521</td>\n",
       "      <td>0.908771</td>\n",
       "      <td>0.912188</td>\n",
       "      <td>0.914667</td>\n",
       "      <td>0.917250</td>\n",
       "      <td>0.920229</td>\n",
       "      <td>0.922521</td>\n",
       "      <td>0.924583</td>\n",
       "      <td>0.926646</td>\n",
       "      <td>0.928354</td>\n",
       "      <td>0.930042</td>\n",
       "      <td>0.932083</td>\n",
       "      <td>0.933646</td>\n",
       "      <td>0.934542</td>\n",
       "      <td>0.935958</td>\n",
       "    </tr>\n",
       "    <tr>\n",
       "      <th>7</th>\n",
       "      <td>0.512938</td>\n",
       "      <td>0.738896</td>\n",
       "      <td>0.792208</td>\n",
       "      <td>0.819521</td>\n",
       "      <td>0.834896</td>\n",
       "      <td>0.845667</td>\n",
       "      <td>0.853812</td>\n",
       "      <td>0.861083</td>\n",
       "      <td>0.865229</td>\n",
       "      <td>0.869583</td>\n",
       "      <td>0.872812</td>\n",
       "      <td>0.876021</td>\n",
       "      <td>0.878354</td>\n",
       "      <td>0.880208</td>\n",
       "      <td>0.882271</td>\n",
       "      <td>0.884437</td>\n",
       "      <td>0.886042</td>\n",
       "      <td>0.887396</td>\n",
       "      <td>0.888833</td>\n",
       "      <td>0.889708</td>\n",
       "    </tr>\n",
       "  </tbody>\n",
       "</table>\n",
       "</div>"
      ],
      "text/plain": [
       "         0         1         2         3         4         5         6   \\\n",
       "0  0.897958  0.898958  0.899625  0.900458  0.901354  0.901708  0.902667   \n",
       "1  0.175271  0.423792  0.563438  0.623062  0.654167  0.678646  0.700688   \n",
       "2  0.613521  0.829438  0.863688  0.878375  0.887271  0.893542  0.898479   \n",
       "3  0.357604  0.633583  0.700542  0.742667  0.772229  0.794521  0.811896   \n",
       "4  0.687937  0.853250  0.877687  0.888667  0.895292  0.899979  0.904354   \n",
       "5  0.483187  0.707063  0.763167  0.797667  0.818396  0.832750  0.843375   \n",
       "6  0.752042  0.866917  0.884792  0.893958  0.899917  0.904521  0.908771   \n",
       "7  0.512938  0.738896  0.792208  0.819521  0.834896  0.845667  0.853812   \n",
       "\n",
       "         7         8         9         10        11        12        13  \\\n",
       "0  0.903375  0.903167  0.904833  0.904271  0.905396  0.905500  0.906667   \n",
       "1  0.716354  0.731896  0.745104  0.756521  0.767458  0.777000  0.785958   \n",
       "2  0.901729  0.904792  0.907354  0.908958  0.910333  0.912750  0.914229   \n",
       "3  0.823146  0.832500  0.840437  0.847271  0.853208  0.858333  0.862729   \n",
       "4  0.908042  0.910792  0.913646  0.916083  0.918792  0.920854  0.922396   \n",
       "5  0.850313  0.856062  0.861812  0.866167  0.869938  0.873167  0.876229   \n",
       "6  0.912188  0.914667  0.917250  0.920229  0.922521  0.924583  0.926646   \n",
       "7  0.861083  0.865229  0.869583  0.872812  0.876021  0.878354  0.880208   \n",
       "\n",
       "         14        15        16        17        18        19  \n",
       "0  0.907042  0.907167  0.908083  0.908417  0.908729  0.908896  \n",
       "1  0.793833  0.801250  0.806042  0.811396  0.816021  0.821688  \n",
       "2  0.915813  0.917229  0.918896  0.920125  0.921250  0.922667  \n",
       "3  0.866708  0.869646  0.872854  0.875854  0.878229  0.880771  \n",
       "4  0.924438  0.925896  0.927271  0.929104  0.929937  0.931500  \n",
       "5  0.878167  0.880313  0.882792  0.884250  0.885646  0.887021  \n",
       "6  0.928354  0.930042  0.932083  0.933646  0.934542  0.935958  \n",
       "7  0.882271  0.884437  0.886042  0.887396  0.888833  0.889708  "
      ]
     },
     "execution_count": 75,
     "metadata": {},
     "output_type": "execute_result"
    }
   ],
   "source": [
    "# YOUR CODE HERE - DATAFRAME"
   ]
  },
  {
   "cell_type": "markdown",
   "metadata": {},
   "source": [
    "### Bài 3. FFN 2 tầng. Chọn thuật toán tối ưu\n",
    "\n",
    "Sau bài 2, ta chọn activation là **`relu`** và số unit là **128**. Bây giờ ta chọn thuật toán tối ưu trong số list sau:\n",
    "\n",
    "- `SGD (lr = 0.01)`\n",
    "- `SGD (lr = 0.1)`\n",
    "- `SGD (lr = 0.1, momentum = 0.9)`\n",
    "- `Adam (lr = 0.01, beta_1 = 0.9, beta_2 = 0.999)`\n",
    "- `Adam (lr = 0.001, beta_1 = 0.9, beta_2 = 0.999)`\n",
    "\n",
    "Ta cần tìm trong các thuật toán này, đâu là thuật toán cho ta sự hội tụ nhanh nhất về một lời giải chấp nhận được (acceptable solution).\n",
    "\n",
    "***Hãy train với các mô hình trên `X_train`, `Y_train` bằng cách chọn ngẫu nhiên 80% để train và 20% cho validation, sau đó dự đoán trên `X_test`, `Y_test`. Sử dụng `np.random.seed(0)` để cố định trạng thái ngẫu nhiên , chọn batch size là 128. Tính accuracy trên tập train và tập validation sau 20 bước lặp.***\n"
   ]
  },
  {
   "cell_type": "code",
   "execution_count": 83,
   "metadata": {},
   "outputs": [
    {
     "name": "stdout",
     "output_type": "stream",
     "text": [
      "Train on 48000 samples, validate on 12000 samples\n",
      "Epoch 1/20\n",
      "48000/48000 [==============================] - 5s 98us/step - loss: 1.2746 - acc: 0.6952 - val_loss: 0.7083 - val_acc: 0.8508\n",
      "Epoch 2/20\n",
      "48000/48000 [==============================] - 3s 53us/step - loss: 0.6107 - acc: 0.8569 - val_loss: 0.4894 - val_acc: 0.8796\n",
      "Epoch 3/20\n",
      "48000/48000 [==============================] - 2s 45us/step - loss: 0.4792 - acc: 0.8772 - val_loss: 0.4145 - val_acc: 0.8934\n",
      "Epoch 4/20\n",
      "48000/48000 [==============================] - 2s 46us/step - loss: 0.4220 - acc: 0.8875 - val_loss: 0.3762 - val_acc: 0.8978\n",
      "Epoch 5/20\n",
      "48000/48000 [==============================] - 2s 45us/step - loss: 0.3883 - acc: 0.8947 - val_loss: 0.3519 - val_acc: 0.9040\n",
      "Epoch 6/20\n",
      "48000/48000 [==============================] - 2s 47us/step - loss: 0.3655 - acc: 0.9001 - val_loss: 0.3346 - val_acc: 0.9075\n",
      "Epoch 7/20\n",
      "48000/48000 [==============================] - 2s 45us/step - loss: 0.3483 - acc: 0.9040 - val_loss: 0.3211 - val_acc: 0.9102\n",
      "Epoch 8/20\n",
      "48000/48000 [==============================] - 2s 46us/step - loss: 0.3345 - acc: 0.9071 - val_loss: 0.3102 - val_acc: 0.9137\n",
      "Epoch 9/20\n",
      "48000/48000 [==============================] - 2s 46us/step - loss: 0.3230 - acc: 0.9096 - val_loss: 0.3012 - val_acc: 0.9161\n",
      "Epoch 10/20\n",
      "48000/48000 [==============================] - 2s 50us/step - loss: 0.3131 - acc: 0.9127 - val_loss: 0.2936 - val_acc: 0.9186\n",
      "Epoch 11/20\n",
      "48000/48000 [==============================] - 2s 45us/step - loss: 0.3043 - acc: 0.9150 - val_loss: 0.2858 - val_acc: 0.9202\n",
      "Epoch 12/20\n",
      "48000/48000 [==============================] - 2s 49us/step - loss: 0.2964 - acc: 0.9170 - val_loss: 0.2799 - val_acc: 0.9220\n",
      "Epoch 13/20\n",
      "48000/48000 [==============================] - 2s 48us/step - loss: 0.2893 - acc: 0.9185 - val_loss: 0.2739 - val_acc: 0.9241\n",
      "Epoch 14/20\n",
      "48000/48000 [==============================] - 2s 45us/step - loss: 0.2825 - acc: 0.9210 - val_loss: 0.2688 - val_acc: 0.9248\n",
      "Epoch 15/20\n",
      "48000/48000 [==============================] - 2s 47us/step - loss: 0.2764 - acc: 0.9225 - val_loss: 0.2629 - val_acc: 0.9277\n",
      "Epoch 16/20\n",
      "48000/48000 [==============================] - 2s 47us/step - loss: 0.2704 - acc: 0.9241 - val_loss: 0.2580 - val_acc: 0.9292\n",
      "Epoch 17/20\n",
      "48000/48000 [==============================] - 2s 46us/step - loss: 0.2648 - acc: 0.9255 - val_loss: 0.2535 - val_acc: 0.9303\n",
      "Epoch 18/20\n",
      "48000/48000 [==============================] - 2s 46us/step - loss: 0.2594 - acc: 0.9268 - val_loss: 0.2498 - val_acc: 0.9319\n",
      "Epoch 19/20\n",
      "48000/48000 [==============================] - 2s 47us/step - loss: 0.2545 - acc: 0.9282 - val_loss: 0.2447 - val_acc: 0.9331\n",
      "Epoch 20/20\n",
      "48000/48000 [==============================] - 2s 47us/step - loss: 0.2495 - acc: 0.9294 - val_loss: 0.2410 - val_acc: 0.9337\n",
      "10000/10000 [==============================] - 1s 126us/step\n",
      "Algo 0: [0.24112453942596912, 0.9327]\n",
      "Train on 48000 samples, validate on 12000 samples\n",
      "Epoch 1/20\n",
      "48000/48000 [==============================] - 6s 124us/step - loss: 0.5021 - acc: 0.8641 - val_loss: 0.3011 - val_acc: 0.9159\n",
      "Epoch 2/20\n",
      "48000/48000 [==============================] - 3s 60us/step - loss: 0.2839 - acc: 0.9195 - val_loss: 0.2399 - val_acc: 0.9327\n",
      "Epoch 3/20\n",
      "48000/48000 [==============================] - 3s 55us/step - loss: 0.2338 - acc: 0.9334 - val_loss: 0.2090 - val_acc: 0.9433\n",
      "Epoch 4/20\n",
      "48000/48000 [==============================] - 3s 58us/step - loss: 0.1999 - acc: 0.9438 - val_loss: 0.1888 - val_acc: 0.9486\n",
      "Epoch 5/20\n",
      "48000/48000 [==============================] - 3s 60us/step - loss: 0.1741 - acc: 0.9504 - val_loss: 0.1710 - val_acc: 0.9528\n",
      "Epoch 6/20\n",
      "48000/48000 [==============================] - 3s 61us/step - loss: 0.1548 - acc: 0.9559 - val_loss: 0.1541 - val_acc: 0.9573\n",
      "Epoch 7/20\n",
      "48000/48000 [==============================] - 3s 56us/step - loss: 0.1394 - acc: 0.9603 - val_loss: 0.1485 - val_acc: 0.9593\n",
      "Epoch 8/20\n",
      "48000/48000 [==============================] - 3s 55us/step - loss: 0.1261 - acc: 0.9644 - val_loss: 0.1374 - val_acc: 0.9617\n",
      "Epoch 9/20\n",
      "48000/48000 [==============================] - 3s 56us/step - loss: 0.1160 - acc: 0.9671 - val_loss: 0.1300 - val_acc: 0.9647\n",
      "Epoch 10/20\n",
      "48000/48000 [==============================] - 3s 53us/step - loss: 0.1068 - acc: 0.9701 - val_loss: 0.1240 - val_acc: 0.9663\n",
      "Epoch 11/20\n",
      "48000/48000 [==============================] - 2s 51us/step - loss: 0.0992 - acc: 0.9720 - val_loss: 0.1184 - val_acc: 0.9671\n",
      "Epoch 12/20\n",
      "48000/48000 [==============================] - 2s 46us/step - loss: 0.0922 - acc: 0.9744 - val_loss: 0.1177 - val_acc: 0.9668\n",
      "Epoch 13/20\n",
      "48000/48000 [==============================] - 2s 43us/step - loss: 0.0865 - acc: 0.9759 - val_loss: 0.1118 - val_acc: 0.9684\n",
      "Epoch 14/20\n",
      "48000/48000 [==============================] - 2s 42us/step - loss: 0.0811 - acc: 0.9777 - val_loss: 0.1088 - val_acc: 0.9688\n",
      "Epoch 15/20\n",
      "48000/48000 [==============================] - 2s 43us/step - loss: 0.0766 - acc: 0.9793 - val_loss: 0.1062 - val_acc: 0.9690\n",
      "Epoch 16/20\n",
      "48000/48000 [==============================] - 2s 43us/step - loss: 0.0719 - acc: 0.9801 - val_loss: 0.1041 - val_acc: 0.9703\n",
      "Epoch 17/20\n",
      "48000/48000 [==============================] - 2s 43us/step - loss: 0.0682 - acc: 0.9817 - val_loss: 0.1023 - val_acc: 0.9698\n",
      "Epoch 18/20\n",
      "48000/48000 [==============================] - 2s 46us/step - loss: 0.0645 - acc: 0.9828 - val_loss: 0.1004 - val_acc: 0.9699\n",
      "Epoch 19/20\n",
      "48000/48000 [==============================] - 2s 44us/step - loss: 0.0615 - acc: 0.9835 - val_loss: 0.0999 - val_acc: 0.9708\n",
      "Epoch 20/20\n",
      "48000/48000 [==============================] - 2s 44us/step - loss: 0.0582 - acc: 0.9847 - val_loss: 0.0975 - val_acc: 0.9712\n",
      "10000/10000 [==============================] - 0s 49us/step\n",
      "Algo 1: [0.08731454522311688, 0.9725]\n",
      "Train on 48000 samples, validate on 12000 samples\n",
      "Epoch 1/20\n",
      "48000/48000 [==============================] - 3s 62us/step - loss: 0.2927 - acc: 0.9113 - val_loss: 0.1465 - val_acc: 0.9582\n",
      "Epoch 2/20\n",
      "48000/48000 [==============================] - 2s 41us/step - loss: 0.1182 - acc: 0.9642 - val_loss: 0.1114 - val_acc: 0.9666\n",
      "Epoch 3/20\n",
      "48000/48000 [==============================] - 2s 42us/step - loss: 0.0818 - acc: 0.9756 - val_loss: 0.1026 - val_acc: 0.9697\n",
      "Epoch 4/20\n",
      "48000/48000 [==============================] - 2s 39us/step - loss: 0.0630 - acc: 0.9808 - val_loss: 0.1011 - val_acc: 0.9704\n",
      "Epoch 5/20\n",
      "48000/48000 [==============================] - 5s 109us/step - loss: 0.0495 - acc: 0.9848 - val_loss: 0.0966 - val_acc: 0.9710oss: 0.0502 -\n",
      "Epoch 6/20\n",
      "48000/48000 [==============================] - 4s 77us/step - loss: 0.0377 - acc: 0.9887 - val_loss: 0.0902 - val_acc: 0.9731\n",
      "Epoch 7/20\n",
      "48000/48000 [==============================] - 4s 80us/step - loss: 0.0296 - acc: 0.9910 - val_loss: 0.0916 - val_acc: 0.9752\n",
      "Epoch 8/20\n",
      "48000/48000 [==============================] - 3s 70us/step - loss: 0.0247 - acc: 0.9925 - val_loss: 0.0894 - val_acc: 0.9750\n",
      "Epoch 9/20\n",
      "48000/48000 [==============================] - 3s 59us/step - loss: 0.0182 - acc: 0.9947 - val_loss: 0.0895 - val_acc: 0.9751\n",
      "Epoch 10/20\n",
      "48000/48000 [==============================] - 3s 59us/step - loss: 0.0154 - acc: 0.9957 - val_loss: 0.0831 - val_acc: 0.9758\n",
      "Epoch 11/20\n",
      "48000/48000 [==============================] - 3s 61us/step - loss: 0.0116 - acc: 0.9971 - val_loss: 0.0883 - val_acc: 0.9764\n",
      "Epoch 12/20\n",
      "48000/48000 [==============================] - 3s 60us/step - loss: 0.0073 - acc: 0.9988 - val_loss: 0.0890 - val_acc: 0.9754\n",
      "Epoch 13/20\n",
      "48000/48000 [==============================] - 3s 63us/step - loss: 0.0051 - acc: 0.9994 - val_loss: 0.0811 - val_acc: 0.9784\n",
      "Epoch 14/20\n",
      "48000/48000 [==============================] - 3s 57us/step - loss: 0.0038 - acc: 0.9997 - val_loss: 0.0837 - val_acc: 0.9782\n",
      "Epoch 15/20\n",
      "48000/48000 [==============================] - 2s 51us/step - loss: 0.0031 - acc: 0.9998 - val_loss: 0.0822 - val_acc: 0.9792\n",
      "Epoch 16/20\n",
      "48000/48000 [==============================] - 2s 49us/step - loss: 0.0024 - acc: 0.9999 - val_loss: 0.0860 - val_acc: 0.9789\n",
      "Epoch 17/20\n",
      "48000/48000 [==============================] - 2s 50us/step - loss: 0.0021 - acc: 0.9999 - val_loss: 0.0849 - val_acc: 0.9788\n"
     ]
    },
    {
     "name": "stdout",
     "output_type": "stream",
     "text": [
      "Epoch 18/20\n",
      "48000/48000 [==============================] - 2s 45us/step - loss: 0.0017 - acc: 1.0000 - val_loss: 0.0848 - val_acc: 0.9792\n",
      "Epoch 19/20\n",
      "48000/48000 [==============================] - 2s 46us/step - loss: 0.0015 - acc: 1.0000 - val_loss: 0.0848 - val_acc: 0.9792\n",
      "Epoch 20/20\n",
      "48000/48000 [==============================] - 2s 48us/step - loss: 0.0014 - acc: 1.0000 - val_loss: 0.0856 - val_acc: 0.9785\n",
      "10000/10000 [==============================] - 1s 69us/step\n",
      "Algo 2: [0.07848222643558529, 0.9813]\n",
      "Train on 48000 samples, validate on 12000 samples\n",
      "Epoch 1/20\n",
      "48000/48000 [==============================] - 6s 120us/step - loss: 0.3984 - acc: 0.8899 - val_loss: 0.2187 - val_acc: 0.9408\n",
      "Epoch 2/20\n",
      "48000/48000 [==============================] - 2s 51us/step - loss: 0.1906 - acc: 0.9456 - val_loss: 0.1596 - val_acc: 0.9553\n",
      "Epoch 3/20\n",
      "48000/48000 [==============================] - 2s 49us/step - loss: 0.1385 - acc: 0.9605 - val_loss: 0.1337 - val_acc: 0.9625\n",
      "Epoch 4/20\n",
      "48000/48000 [==============================] - 2s 51us/step - loss: 0.1078 - acc: 0.9692 - val_loss: 0.1173 - val_acc: 0.9659\n",
      "Epoch 5/20\n",
      "48000/48000 [==============================] - 2s 46us/step - loss: 0.0870 - acc: 0.9756 - val_loss: 0.1110 - val_acc: 0.9672\n",
      "Epoch 6/20\n",
      "48000/48000 [==============================] - 2s 40us/step - loss: 0.0720 - acc: 0.9790 - val_loss: 0.1068 - val_acc: 0.9670\n",
      "Epoch 7/20\n",
      "48000/48000 [==============================] - 2s 40us/step - loss: 0.0599 - acc: 0.9829 - val_loss: 0.0997 - val_acc: 0.9718\n",
      "Epoch 8/20\n",
      "48000/48000 [==============================] - 2s 40us/step - loss: 0.0508 - acc: 0.9857 - val_loss: 0.0937 - val_acc: 0.9718\n",
      "Epoch 9/20\n",
      "48000/48000 [==============================] - 2s 42us/step - loss: 0.0428 - acc: 0.9881 - val_loss: 0.0901 - val_acc: 0.9727\n",
      "Epoch 10/20\n",
      "48000/48000 [==============================] - 2s 40us/step - loss: 0.0363 - acc: 0.9904 - val_loss: 0.0869 - val_acc: 0.9742\n",
      "Epoch 11/20\n",
      "48000/48000 [==============================] - 2s 42us/step - loss: 0.0310 - acc: 0.9921 - val_loss: 0.0876 - val_acc: 0.9735\n",
      "Epoch 12/20\n",
      "48000/48000 [==============================] - 2s 41us/step - loss: 0.0261 - acc: 0.9938 - val_loss: 0.0926 - val_acc: 0.9725\n",
      "Epoch 13/20\n",
      "48000/48000 [==============================] - 2s 43us/step - loss: 0.0220 - acc: 0.9948 - val_loss: 0.0875 - val_acc: 0.9734\n",
      "Epoch 14/20\n",
      "48000/48000 [==============================] - 2s 41us/step - loss: 0.0189 - acc: 0.9961 - val_loss: 0.0860 - val_acc: 0.9740\n",
      "Epoch 15/20\n",
      "48000/48000 [==============================] - 2s 41us/step - loss: 0.0159 - acc: 0.9966 - val_loss: 0.0877 - val_acc: 0.9743\n",
      "Epoch 16/20\n",
      "48000/48000 [==============================] - 2s 41us/step - loss: 0.0132 - acc: 0.9976 - val_loss: 0.0902 - val_acc: 0.9736\n",
      "Epoch 17/20\n",
      "48000/48000 [==============================] - 2s 45us/step - loss: 0.0121 - acc: 0.9977 - val_loss: 0.0891 - val_acc: 0.9750\n",
      "Epoch 18/20\n",
      "48000/48000 [==============================] - 2s 47us/step - loss: 0.0097 - acc: 0.9983 - val_loss: 0.0892 - val_acc: 0.9734\n",
      "Epoch 19/20\n",
      "48000/48000 [==============================] - 2s 45us/step - loss: 0.0083 - acc: 0.9988 - val_loss: 0.0960 - val_acc: 0.9739\n",
      "Epoch 20/20\n",
      "48000/48000 [==============================] - 2s 41us/step - loss: 0.0070 - acc: 0.9990 - val_loss: 0.0937 - val_acc: 0.9738\n",
      "10000/10000 [==============================] - 0s 39us/step\n",
      "Algo 3: [0.08336572258688393, 0.9778]\n",
      "Train on 48000 samples, validate on 12000 samples\n",
      "Epoch 1/20\n",
      "48000/48000 [==============================] - 2s 47us/step - loss: 0.2361 - acc: 0.9277 - val_loss: 0.1331 - val_acc: 0.9600\n",
      "Epoch 2/20\n",
      "48000/48000 [==============================] - 1s 30us/step - loss: 0.1176 - acc: 0.9644 - val_loss: 0.1263 - val_acc: 0.9611\n",
      "Epoch 3/20\n",
      "48000/48000 [==============================] - 2s 34us/step - loss: 0.0867 - acc: 0.9729 - val_loss: 0.1244 - val_acc: 0.9662\n",
      "Epoch 4/20\n",
      "48000/48000 [==============================] - 2s 33us/step - loss: 0.0771 - acc: 0.9759 - val_loss: 0.1371 - val_acc: 0.9669\n",
      "Epoch 5/20\n",
      "48000/48000 [==============================] - 1s 30us/step - loss: 0.0657 - acc: 0.9794 - val_loss: 0.1408 - val_acc: 0.9669\n",
      "Epoch 6/20\n",
      "48000/48000 [==============================] - 1s 30us/step - loss: 0.0580 - acc: 0.9823 - val_loss: 0.1611 - val_acc: 0.9646\n",
      "Epoch 7/20\n",
      "48000/48000 [==============================] - 1s 30us/step - loss: 0.0511 - acc: 0.9842 - val_loss: 0.1477 - val_acc: 0.9658\n",
      "Epoch 8/20\n",
      "48000/48000 [==============================] - 1s 27us/step - loss: 0.0613 - acc: 0.9823 - val_loss: 0.1455 - val_acc: 0.9699\n",
      "Epoch 9/20\n",
      "48000/48000 [==============================] - 1s 27us/step - loss: 0.0507 - acc: 0.9854 - val_loss: 0.1804 - val_acc: 0.9643\n",
      "Epoch 10/20\n",
      "48000/48000 [==============================] - 1s 27us/step - loss: 0.0593 - acc: 0.9834 - val_loss: 0.2236 - val_acc: 0.9635\n",
      "Epoch 11/20\n",
      "48000/48000 [==============================] - 1s 27us/step - loss: 0.0466 - acc: 0.9870 - val_loss: 0.1792 - val_acc: 0.9668\n",
      "Epoch 12/20\n",
      "48000/48000 [==============================] - 1s 27us/step - loss: 0.0507 - acc: 0.9862 - val_loss: 0.1785 - val_acc: 0.9687\n",
      "Epoch 13/20\n",
      "48000/48000 [==============================] - 1s 27us/step - loss: 0.0408 - acc: 0.9890 - val_loss: 0.2010 - val_acc: 0.9666\n",
      "Epoch 14/20\n",
      "48000/48000 [==============================] - 1s 28us/step - loss: 0.0420 - acc: 0.9894 - val_loss: 0.1760 - val_acc: 0.9712\n",
      "Epoch 15/20\n",
      "48000/48000 [==============================] - 1s 27us/step - loss: 0.0350 - acc: 0.9907 - val_loss: 0.2295 - val_acc: 0.9680\n",
      "Epoch 16/20\n",
      "48000/48000 [==============================] - 1s 28us/step - loss: 0.0392 - acc: 0.9904 - val_loss: 0.2136 - val_acc: 0.9673\n",
      "Epoch 17/20\n",
      "48000/48000 [==============================] - 1s 28us/step - loss: 0.0399 - acc: 0.9900 - val_loss: 0.1983 - val_acc: 0.9713\n",
      "Epoch 18/20\n",
      "48000/48000 [==============================] - 1s 27us/step - loss: 0.0340 - acc: 0.9919 - val_loss: 0.2324 - val_acc: 0.9692\n",
      "Epoch 19/20\n",
      "48000/48000 [==============================] - 1s 28us/step - loss: 0.0457 - acc: 0.9893 - val_loss: 0.2307 - val_acc: 0.9699\n",
      "Epoch 20/20\n",
      "48000/48000 [==============================] - 1s 28us/step - loss: 0.0414 - acc: 0.9910 - val_loss: 0.2256 - val_acc: 0.9708\n",
      "10000/10000 [==============================] - 0s 30us/step\n",
      "Algo 4: [0.2120267904198812, 0.9718]\n"
     ]
    }
   ],
   "source": [
    "# YOUR CODE HERE - TRAINING AND VALIDATION"
   ]
  },
  {
   "cell_type": "markdown",
   "metadata": {},
   "source": [
    "***Vẽ đồ thị biểu diễn accuracy trên tập train theo quá trình train (20 bước) với từng mô hình trên. Chọn ra thuật toán (cùng với các tham số tốt nhất) được sử dụng. Biểu diễn các giá trị ở dạng DataFrame để có so sánh cụ thể hơn. Bạn có thể thử với các thuật toán tối ưu khác.***."
   ]
  },
  {
   "cell_type": "code",
   "execution_count": 88,
   "metadata": {},
   "outputs": [
    {
     "data": {
      "text/plain": [
       "<matplotlib.legend.Legend at 0x3bfeb588>"
      ]
     },
     "execution_count": 88,
     "metadata": {},
     "output_type": "execute_result"
    },
    {
     "data": {
      "image/png": "[encoded data removed]",
      "text/plain": [
       "<Figure size 432x288 with 1 Axes>"
      ]
     },
     "metadata": {},
     "output_type": "display_data"
    }
   ],
   "source": [
    "# YOUR CODE HERE - PLOTTING"
   ]
  },
  {
   "cell_type": "code",
   "execution_count": 90,
   "metadata": {},
   "outputs": [
    {
     "data": {
      "text/html": [
       "<div>\n",
       "<style scoped>\n",
       "    .dataframe tbody tr th:only-of-type {\n",
       "        vertical-align: middle;\n",
       "    }\n",
       "\n",
       "    .dataframe tbody tr th {\n",
       "        vertical-align: top;\n",
       "    }\n",
       "\n",
       "    .dataframe thead th {\n",
       "        text-align: right;\n",
       "    }\n",
       "</style>\n",
       "<table border=\"1\" class=\"dataframe\">\n",
       "  <thead>\n",
       "    <tr style=\"text-align: right;\">\n",
       "      <th></th>\n",
       "      <th>0</th>\n",
       "      <th>1</th>\n",
       "      <th>2</th>\n",
       "      <th>3</th>\n",
       "      <th>4</th>\n",
       "      <th>5</th>\n",
       "      <th>6</th>\n",
       "      <th>7</th>\n",
       "      <th>8</th>\n",
       "      <th>9</th>\n",
       "      <th>10</th>\n",
       "      <th>11</th>\n",
       "      <th>12</th>\n",
       "      <th>13</th>\n",
       "      <th>14</th>\n",
       "      <th>15</th>\n",
       "      <th>16</th>\n",
       "      <th>17</th>\n",
       "      <th>18</th>\n",
       "      <th>19</th>\n",
       "    </tr>\n",
       "  </thead>\n",
       "  <tbody>\n",
       "    <tr>\n",
       "      <th>0</th>\n",
       "      <td>0.695167</td>\n",
       "      <td>0.856875</td>\n",
       "      <td>0.877167</td>\n",
       "      <td>0.887479</td>\n",
       "      <td>0.894708</td>\n",
       "      <td>0.900146</td>\n",
       "      <td>0.904042</td>\n",
       "      <td>0.907062</td>\n",
       "      <td>0.909646</td>\n",
       "      <td>0.912687</td>\n",
       "      <td>0.915042</td>\n",
       "      <td>0.917042</td>\n",
       "      <td>0.918479</td>\n",
       "      <td>0.920979</td>\n",
       "      <td>0.922500</td>\n",
       "      <td>0.924083</td>\n",
       "      <td>0.925521</td>\n",
       "      <td>0.926750</td>\n",
       "      <td>0.928188</td>\n",
       "      <td>0.929438</td>\n",
       "    </tr>\n",
       "    <tr>\n",
       "      <th>1</th>\n",
       "      <td>0.864062</td>\n",
       "      <td>0.919521</td>\n",
       "      <td>0.933375</td>\n",
       "      <td>0.943771</td>\n",
       "      <td>0.950396</td>\n",
       "      <td>0.955917</td>\n",
       "      <td>0.960333</td>\n",
       "      <td>0.964417</td>\n",
       "      <td>0.967083</td>\n",
       "      <td>0.970104</td>\n",
       "      <td>0.972042</td>\n",
       "      <td>0.974396</td>\n",
       "      <td>0.975875</td>\n",
       "      <td>0.977729</td>\n",
       "      <td>0.979333</td>\n",
       "      <td>0.980062</td>\n",
       "      <td>0.981667</td>\n",
       "      <td>0.982812</td>\n",
       "      <td>0.983500</td>\n",
       "      <td>0.984667</td>\n",
       "    </tr>\n",
       "    <tr>\n",
       "      <th>2</th>\n",
       "      <td>0.911292</td>\n",
       "      <td>0.964229</td>\n",
       "      <td>0.975646</td>\n",
       "      <td>0.980771</td>\n",
       "      <td>0.984812</td>\n",
       "      <td>0.988729</td>\n",
       "      <td>0.991021</td>\n",
       "      <td>0.992542</td>\n",
       "      <td>0.994708</td>\n",
       "      <td>0.995667</td>\n",
       "      <td>0.997146</td>\n",
       "      <td>0.998812</td>\n",
       "      <td>0.999396</td>\n",
       "      <td>0.999687</td>\n",
       "      <td>0.999792</td>\n",
       "      <td>0.999938</td>\n",
       "      <td>0.999938</td>\n",
       "      <td>0.999979</td>\n",
       "      <td>1.000000</td>\n",
       "      <td>1.000000</td>\n",
       "    </tr>\n",
       "    <tr>\n",
       "      <th>3</th>\n",
       "      <td>0.889938</td>\n",
       "      <td>0.945583</td>\n",
       "      <td>0.960521</td>\n",
       "      <td>0.969167</td>\n",
       "      <td>0.975625</td>\n",
       "      <td>0.979021</td>\n",
       "      <td>0.982917</td>\n",
       "      <td>0.985688</td>\n",
       "      <td>0.988104</td>\n",
       "      <td>0.990375</td>\n",
       "      <td>0.992146</td>\n",
       "      <td>0.993833</td>\n",
       "      <td>0.994792</td>\n",
       "      <td>0.996083</td>\n",
       "      <td>0.996646</td>\n",
       "      <td>0.997583</td>\n",
       "      <td>0.997708</td>\n",
       "      <td>0.998292</td>\n",
       "      <td>0.998792</td>\n",
       "      <td>0.999021</td>\n",
       "    </tr>\n",
       "    <tr>\n",
       "      <th>4</th>\n",
       "      <td>0.927667</td>\n",
       "      <td>0.964396</td>\n",
       "      <td>0.972854</td>\n",
       "      <td>0.975917</td>\n",
       "      <td>0.979417</td>\n",
       "      <td>0.982313</td>\n",
       "      <td>0.984229</td>\n",
       "      <td>0.982292</td>\n",
       "      <td>0.985417</td>\n",
       "      <td>0.983375</td>\n",
       "      <td>0.987000</td>\n",
       "      <td>0.986208</td>\n",
       "      <td>0.989021</td>\n",
       "      <td>0.989396</td>\n",
       "      <td>0.990708</td>\n",
       "      <td>0.990417</td>\n",
       "      <td>0.990042</td>\n",
       "      <td>0.991896</td>\n",
       "      <td>0.989333</td>\n",
       "      <td>0.991042</td>\n",
       "    </tr>\n",
       "  </tbody>\n",
       "</table>\n",
       "</div>"
      ],
      "text/plain": [
       "         0         1         2         3         4         5         6   \\\n",
       "0  0.695167  0.856875  0.877167  0.887479  0.894708  0.900146  0.904042   \n",
       "1  0.864062  0.919521  0.933375  0.943771  0.950396  0.955917  0.960333   \n",
       "2  0.911292  0.964229  0.975646  0.980771  0.984812  0.988729  0.991021   \n",
       "3  0.889938  0.945583  0.960521  0.969167  0.975625  0.979021  0.982917   \n",
       "4  0.927667  0.964396  0.972854  0.975917  0.979417  0.982313  0.984229   \n",
       "\n",
       "         7         8         9         10        11        12        13  \\\n",
       "0  0.907062  0.909646  0.912687  0.915042  0.917042  0.918479  0.920979   \n",
       "1  0.964417  0.967083  0.970104  0.972042  0.974396  0.975875  0.977729   \n",
       "2  0.992542  0.994708  0.995667  0.997146  0.998812  0.999396  0.999687   \n",
       "3  0.985688  0.988104  0.990375  0.992146  0.993833  0.994792  0.996083   \n",
       "4  0.982292  0.985417  0.983375  0.987000  0.986208  0.989021  0.989396   \n",
       "\n",
       "         14        15        16        17        18        19  \n",
       "0  0.922500  0.924083  0.925521  0.926750  0.928188  0.929438  \n",
       "1  0.979333  0.980062  0.981667  0.982812  0.983500  0.984667  \n",
       "2  0.999792  0.999938  0.999938  0.999979  1.000000  1.000000  \n",
       "3  0.996646  0.997583  0.997708  0.998292  0.998792  0.999021  \n",
       "4  0.990708  0.990417  0.990042  0.991896  0.989333  0.991042  "
      ]
     },
     "execution_count": 90,
     "metadata": {},
     "output_type": "execute_result"
    }
   ],
   "source": [
    "# YOUR CODE HERE - DATAFRAME"
   ]
  },
  {
   "cell_type": "markdown",
   "metadata": {},
   "source": [
    "### Bài 4. Regularization (thực hiện sau Amphi 3)"
   ]
  },
  {
   "cell_type": "markdown",
   "metadata": {},
   "source": [
    "## 1B. Bitcoin"
   ]
  },
  {
   "cell_type": "markdown",
   "metadata": {},
   "source": [
    "### Mô tả\n",
    "\n",
    "Ở TD6 DSC101, ta đã dự đoán độ biến thiên giá Bitcoin sau 1 tuần thông qua Linear và Polynomial Regression trên một số chỉ số tài chính dễ tính. Ta sử dụng file giá bitcoin tại <a href=\"https://raw.githubusercontent.com/riduan91/DSC111/master/Lesson1/TD/Data/BTCPrice.csv\">`Data.csv`</a>. Nhắc lại rằng ở TD6 DSC101 ta đã viết các hàm sau:"
   ]
  },
  {
   "cell_type": "code",
   "execution_count": 4,
   "metadata": {},
   "outputs": [],
   "source": [
    "import stockstats as sts\n",
    "from sklearn.preprocessing import StandardScaler\n",
    "import pandas as pd\n",
    "import numpy as np\n",
    "\n",
    "SHIFT_NUMBER = 7\n",
    "SKIP = 10\n",
    "COLUMNS = ['open', 'high', 'low', 'close', 'volume', 'cr', 'cr-ma1', 'cr-ma2', 'cr-ma3', \n",
    "           'rsv_9', 'kdjk_9', 'kdjj_9', 'macd', 'macds', 'macdh', 'rs_6', 'rsi_6', 'rs_12', \n",
    "           'rsi_12', 'wr_6', 'wr_10', 'cci', 'cci_20', 'tr', 'atr', 'dma', 'high_delta', 'um', \n",
    "           'low_delta', 'dm', 'pdm', 'pdm_14', 'pdi_14', 'mdm_14', 'mdi_14', 'dx_14', \n",
    "           'adx', 'adxr', 'trix', 'change', 'vr', 'vr_6_sma']\n",
    "\n",
    "def addTechnicalIndicators(simple_data):\n",
    "    stock = sts.StockDataFrame(simple_data)\n",
    "    stock['cr']\n",
    "    stock['kdjk']\n",
    "    stock['kdjd']\n",
    "    stock['kdjj']\n",
    "    stock['close_10_sma']\n",
    "    stock['macd']\n",
    "    stock['boll']\n",
    "    stock['rsi_6']\n",
    "    stock['rsi_12']\n",
    "    stock['wr_6']\n",
    "    stock['wr_10']\n",
    "    stock['cci']\n",
    "    stock['cci_20']\n",
    "    stock['tr']\n",
    "    stock['atr']\n",
    "    stock['dma']\n",
    "    stock['adxr']\n",
    "    stock['close_12_ema']\n",
    "    stock['trix']\n",
    "    stock['trix_9_sma']\n",
    "    stock['vr']\n",
    "    stock['vr_6_sma']\n",
    "    new_dataframe = pd.DataFrame(stock).loc[:, COLUMNS]\n",
    "    transformed_dataframe = new_dataframe.iloc[SKIP: len(new_dataframe) - SHIFT_NUMBER] # Bỏ các hàng khuyết dữ liệu\n",
    "    scaler = StandardScaler()\n",
    "    scaler.fit(transformed_dataframe)\n",
    "    return pd.DataFrame(scaler.transform(transformed_dataframe), columns=COLUMNS)\n",
    "\n",
    "def readAsStockDataFrame(filename):\n",
    "    data = pd.read_csv(filename, sep=\",\", names=[\"timestamp\", \"open\", \"high\", \"low\", \"close\", \"volume\", \"volume currency\", \"weighted price\"], skiprows = 1)\n",
    "    data = data.loc[:, [\"timestamp\", \"open\", \"high\", \"low\", \"close\", \"volume\"]]\n",
    "    return addTechnicalIndicators(data)\n",
    "\n",
    "def getPriceDiff(data, shift_number):\n",
    "    return np.concatenate((data.loc[:, \"Close\"].values[shift_number:] * 100 / data.loc[:, \"Close\"].values[: len(data) - shift_number] - 100, [0] * shift_number))"
   ]
  },
  {
   "cell_type": "markdown",
   "metadata": {},
   "source": [
    "Như vậy, khi chạy đoạn code sau, ta được dữ liệu là các chỉ số tài chính tương ứng với các ngày giao dịch của Bitcoin."
   ]
  },
  {
   "cell_type": "code",
   "execution_count": 5,
   "metadata": {},
   "outputs": [
    {
     "name": "stderr",
     "output_type": "stream",
     "text": [
      "D:\\Users\\ndoannguyen\\AppData\\Local\\Continuum\\anaconda2\\envs\\py35\\lib\\site-packages\\pandas\\core\\indexing.py:189: SettingWithCopyWarning: \n",
      "A value is trying to be set on a copy of a slice from a DataFrame\n",
      "\n",
      "See the caveats in the documentation: http://pandas.pydata.org/pandas-docs/stable/indexing.html#indexing-view-versus-copy\n",
      "  self._setitem_with_indexer(indexer, value)\n",
      "D:\\Users\\ndoannguyen\\AppData\\Local\\Continuum\\anaconda2\\envs\\py35\\lib\\site-packages\\stockstats.py:387: FutureWarning: Currently, 'apply' passes the values as ndarrays to the applied function. In the future, this will change to passing it as Series objects. You need to specify 'raw=True' to keep the current behaviour, and you can pass 'raw=False' to silence this warning\n",
      "  lambda x: np.fabs(x - x.mean()).mean())\n"
     ]
    }
   ],
   "source": [
    "DATAFILE = \"Data/BTCPrice.csv\"\n",
    "X = readAsStockDataFrame(DATAFILE)"
   ]
  },
  {
   "cell_type": "code",
   "execution_count": 6,
   "metadata": {},
   "outputs": [
    {
     "data": {
      "text/html": [
       "<div>\n",
       "<style scoped>\n",
       "    .dataframe tbody tr th:only-of-type {\n",
       "        vertical-align: middle;\n",
       "    }\n",
       "\n",
       "    .dataframe tbody tr th {\n",
       "        vertical-align: top;\n",
       "    }\n",
       "\n",
       "    .dataframe thead th {\n",
       "        text-align: right;\n",
       "    }\n",
       "</style>\n",
       "<table border=\"1\" class=\"dataframe\">\n",
       "  <thead>\n",
       "    <tr style=\"text-align: right;\">\n",
       "      <th></th>\n",
       "      <th>open</th>\n",
       "      <th>high</th>\n",
       "      <th>low</th>\n",
       "      <th>close</th>\n",
       "      <th>volume</th>\n",
       "      <th>cr</th>\n",
       "      <th>cr-ma1</th>\n",
       "      <th>cr-ma2</th>\n",
       "      <th>cr-ma3</th>\n",
       "      <th>rsv_9</th>\n",
       "      <th>...</th>\n",
       "      <th>pdi_14</th>\n",
       "      <th>mdm_14</th>\n",
       "      <th>mdi_14</th>\n",
       "      <th>dx_14</th>\n",
       "      <th>adx</th>\n",
       "      <th>adxr</th>\n",
       "      <th>trix</th>\n",
       "      <th>change</th>\n",
       "      <th>vr</th>\n",
       "      <th>vr_6_sma</th>\n",
       "    </tr>\n",
       "  </thead>\n",
       "  <tbody>\n",
       "    <tr>\n",
       "      <th>0</th>\n",
       "      <td>-0.557662</td>\n",
       "      <td>-0.555577</td>\n",
       "      <td>-0.567160</td>\n",
       "      <td>-0.558149</td>\n",
       "      <td>-0.684977</td>\n",
       "      <td>0.254511</td>\n",
       "      <td>-0.054549</td>\n",
       "      <td>2.535630</td>\n",
       "      <td>9.440731</td>\n",
       "      <td>-0.223739</td>\n",
       "      <td>...</td>\n",
       "      <td>0.512639</td>\n",
       "      <td>-0.389301</td>\n",
       "      <td>-0.390922</td>\n",
       "      <td>-0.017700</td>\n",
       "      <td>0.761042</td>\n",
       "      <td>1.047989</td>\n",
       "      <td>-0.435186</td>\n",
       "      <td>-0.146963</td>\n",
       "      <td>-0.961677</td>\n",
       "      <td>-0.787207</td>\n",
       "    </tr>\n",
       "    <tr>\n",
       "      <th>1</th>\n",
       "      <td>-0.557872</td>\n",
       "      <td>-0.555192</td>\n",
       "      <td>-0.568139</td>\n",
       "      <td>-0.558405</td>\n",
       "      <td>-0.154990</td>\n",
       "      <td>0.013675</td>\n",
       "      <td>0.406567</td>\n",
       "      <td>1.990468</td>\n",
       "      <td>6.653909</td>\n",
       "      <td>-0.299411</td>\n",
       "      <td>...</td>\n",
       "      <td>0.109721</td>\n",
       "      <td>-0.386393</td>\n",
       "      <td>-0.291621</td>\n",
       "      <td>-0.491732</td>\n",
       "      <td>0.349655</td>\n",
       "      <td>0.856236</td>\n",
       "      <td>-0.416393</td>\n",
       "      <td>-0.189552</td>\n",
       "      <td>-1.131634</td>\n",
       "      <td>-0.838256</td>\n",
       "    </tr>\n",
       "    <tr>\n",
       "      <th>2</th>\n",
       "      <td>-0.557937</td>\n",
       "      <td>-0.556164</td>\n",
       "      <td>-0.569415</td>\n",
       "      <td>-0.562664</td>\n",
       "      <td>-0.298147</td>\n",
       "      <td>-0.298446</td>\n",
       "      <td>0.591809</td>\n",
       "      <td>1.894016</td>\n",
       "      <td>4.221087</td>\n",
       "      <td>-1.745237</td>\n",
       "      <td>...</td>\n",
       "      <td>-0.216358</td>\n",
       "      <td>-0.381915</td>\n",
       "      <td>-0.136020</td>\n",
       "      <td>-1.063830</td>\n",
       "      <td>-0.155752</td>\n",
       "      <td>0.554994</td>\n",
       "      <td>-0.428084</td>\n",
       "      <td>-0.902234</td>\n",
       "      <td>-1.235631</td>\n",
       "      <td>-0.847340</td>\n",
       "    </tr>\n",
       "    <tr>\n",
       "      <th>3</th>\n",
       "      <td>-0.562264</td>\n",
       "      <td>-0.559159</td>\n",
       "      <td>-0.572859</td>\n",
       "      <td>-0.563380</td>\n",
       "      <td>0.127178</td>\n",
       "      <td>-0.620990</td>\n",
       "      <td>0.687280</td>\n",
       "      <td>1.880327</td>\n",
       "      <td>3.147333</td>\n",
       "      <td>-1.804377</td>\n",
       "      <td>...</td>\n",
       "      <td>-0.477820</td>\n",
       "      <td>-0.363203</td>\n",
       "      <td>0.573056</td>\n",
       "      <td>-0.839978</td>\n",
       "      <td>-0.428006</td>\n",
       "      <td>0.253150</td>\n",
       "      <td>-0.457949</td>\n",
       "      <td>-0.275354</td>\n",
       "      <td>-1.344351</td>\n",
       "      <td>-1.097693</td>\n",
       "    </tr>\n",
       "    <tr>\n",
       "      <th>4</th>\n",
       "      <td>-0.562965</td>\n",
       "      <td>-0.560509</td>\n",
       "      <td>-0.571985</td>\n",
       "      <td>-0.564381</td>\n",
       "      <td>-0.638554</td>\n",
       "      <td>-0.664228</td>\n",
       "      <td>0.828384</td>\n",
       "      <td>1.773829</td>\n",
       "      <td>2.466648</td>\n",
       "      <td>-2.103575</td>\n",
       "      <td>...</td>\n",
       "      <td>-0.617778</td>\n",
       "      <td>-0.371092</td>\n",
       "      <td>0.349826</td>\n",
       "      <td>-0.839978</td>\n",
       "      <td>-0.620778</td>\n",
       "      <td>-0.023577</td>\n",
       "      <td>-0.499683</td>\n",
       "      <td>-0.328561</td>\n",
       "      <td>-1.381465</td>\n",
       "      <td>-1.223595</td>\n",
       "    </tr>\n",
       "    <tr>\n",
       "      <th>5</th>\n",
       "      <td>-0.563976</td>\n",
       "      <td>-0.561813</td>\n",
       "      <td>-0.595409</td>\n",
       "      <td>-0.586909</td>\n",
       "      <td>3.824167</td>\n",
       "      <td>-1.288034</td>\n",
       "      <td>0.511783</td>\n",
       "      <td>1.623167</td>\n",
       "      <td>1.930341</td>\n",
       "      <td>-2.592556</td>\n",
       "      <td>...</td>\n",
       "      <td>-1.126243</td>\n",
       "      <td>-0.221296</td>\n",
       "      <td>3.730147</td>\n",
       "      <td>1.360778</td>\n",
       "      <td>0.066295</td>\n",
       "      <td>0.003966</td>\n",
       "      <td>-0.640604</td>\n",
       "      <td>-4.326138</td>\n",
       "      <td>-1.567069</td>\n",
       "      <td>-1.352342</td>\n",
       "    </tr>\n",
       "    <tr>\n",
       "      <th>6</th>\n",
       "      <td>-0.586539</td>\n",
       "      <td>-0.573525</td>\n",
       "      <td>-0.598206</td>\n",
       "      <td>-0.578192</td>\n",
       "      <td>2.155016</td>\n",
       "      <td>-1.342460</td>\n",
       "      <td>0.037690</td>\n",
       "      <td>0.660938</td>\n",
       "      <td>1.835456</td>\n",
       "      <td>-1.381047</td>\n",
       "      <td>...</td>\n",
       "      <td>-1.280835</td>\n",
       "      <td>-0.231281</td>\n",
       "      <td>2.899891</td>\n",
       "      <td>1.440978</td>\n",
       "      <td>0.584858</td>\n",
       "      <td>0.192286</td>\n",
       "      <td>-0.787193</td>\n",
       "      <td>1.786625</td>\n",
       "      <td>-1.259720</td>\n",
       "      <td>-1.405244</td>\n",
       "    </tr>\n",
       "    <tr>\n",
       "      <th>7</th>\n",
       "      <td>-0.577642</td>\n",
       "      <td>-0.573813</td>\n",
       "      <td>-0.589815</td>\n",
       "      <td>-0.580379</td>\n",
       "      <td>-0.096608</td>\n",
       "      <td>-1.233583</td>\n",
       "      <td>-0.280532</td>\n",
       "      <td>0.230979</td>\n",
       "      <td>1.821989</td>\n",
       "      <td>-1.509907</td>\n",
       "      <td>...</td>\n",
       "      <td>-1.339793</td>\n",
       "      <td>-0.257860</td>\n",
       "      <td>2.363016</td>\n",
       "      <td>1.440978</td>\n",
       "      <td>0.954091</td>\n",
       "      <td>0.446360</td>\n",
       "      <td>-0.933997</td>\n",
       "      <td>-0.594695</td>\n",
       "      <td>-1.307641</td>\n",
       "      <td>-1.436485</td>\n",
       "    </tr>\n",
       "    <tr>\n",
       "      <th>8</th>\n",
       "      <td>-0.580215</td>\n",
       "      <td>-0.574633</td>\n",
       "      <td>-0.590644</td>\n",
       "      <td>-0.578652</td>\n",
       "      <td>-0.286669</td>\n",
       "      <td>-1.223358</td>\n",
       "      <td>-0.604645</td>\n",
       "      <td>0.224193</td>\n",
       "      <td>1.717222</td>\n",
       "      <td>-1.267710</td>\n",
       "      <td>...</td>\n",
       "      <td>-1.391286</td>\n",
       "      <td>-0.275034</td>\n",
       "      <td>2.026806</td>\n",
       "      <td>1.468815</td>\n",
       "      <td>1.227612</td>\n",
       "      <td>0.716232</td>\n",
       "      <td>-1.062485</td>\n",
       "      <td>0.218046</td>\n",
       "      <td>-1.228005</td>\n",
       "      <td>-1.435132</td>\n",
       "    </tr>\n",
       "    <tr>\n",
       "      <th>9</th>\n",
       "      <td>-0.578405</td>\n",
       "      <td>-0.575123</td>\n",
       "      <td>-0.589959</td>\n",
       "      <td>-0.581480</td>\n",
       "      <td>-0.258532</td>\n",
       "      <td>-1.218921</td>\n",
       "      <td>-0.889590</td>\n",
       "      <td>0.154650</td>\n",
       "      <td>1.569007</td>\n",
       "      <td>-1.613064</td>\n",
       "      <td>...</td>\n",
       "      <td>-1.430845</td>\n",
       "      <td>-0.294892</td>\n",
       "      <td>1.652392</td>\n",
       "      <td>1.468815</td>\n",
       "      <td>1.422671</td>\n",
       "      <td>0.971971</td>\n",
       "      <td>-1.181011</td>\n",
       "      <td>-0.729020</td>\n",
       "      <td>-1.268552</td>\n",
       "      <td>-1.421677</td>\n",
       "    </tr>\n",
       "  </tbody>\n",
       "</table>\n",
       "<p>10 rows × 42 columns</p>\n",
       "</div>"
      ],
      "text/plain": [
       "       open      high       low     close    volume        cr    cr-ma1  \\\n",
       "0 -0.557662 -0.555577 -0.567160 -0.558149 -0.684977  0.254511 -0.054549   \n",
       "1 -0.557872 -0.555192 -0.568139 -0.558405 -0.154990  0.013675  0.406567   \n",
       "2 -0.557937 -0.556164 -0.569415 -0.562664 -0.298147 -0.298446  0.591809   \n",
       "3 -0.562264 -0.559159 -0.572859 -0.563380  0.127178 -0.620990  0.687280   \n",
       "4 -0.562965 -0.560509 -0.571985 -0.564381 -0.638554 -0.664228  0.828384   \n",
       "5 -0.563976 -0.561813 -0.595409 -0.586909  3.824167 -1.288034  0.511783   \n",
       "6 -0.586539 -0.573525 -0.598206 -0.578192  2.155016 -1.342460  0.037690   \n",
       "7 -0.577642 -0.573813 -0.589815 -0.580379 -0.096608 -1.233583 -0.280532   \n",
       "8 -0.580215 -0.574633 -0.590644 -0.578652 -0.286669 -1.223358 -0.604645   \n",
       "9 -0.578405 -0.575123 -0.589959 -0.581480 -0.258532 -1.218921 -0.889590   \n",
       "\n",
       "     cr-ma2    cr-ma3     rsv_9    ...       pdi_14    mdm_14    mdi_14  \\\n",
       "0  2.535630  9.440731 -0.223739    ...     0.512639 -0.389301 -0.390922   \n",
       "1  1.990468  6.653909 -0.299411    ...     0.109721 -0.386393 -0.291621   \n",
       "2  1.894016  4.221087 -1.745237    ...    -0.216358 -0.381915 -0.136020   \n",
       "3  1.880327  3.147333 -1.804377    ...    -0.477820 -0.363203  0.573056   \n",
       "4  1.773829  2.466648 -2.103575    ...    -0.617778 -0.371092  0.349826   \n",
       "5  1.623167  1.930341 -2.592556    ...    -1.126243 -0.221296  3.730147   \n",
       "6  0.660938  1.835456 -1.381047    ...    -1.280835 -0.231281  2.899891   \n",
       "7  0.230979  1.821989 -1.509907    ...    -1.339793 -0.257860  2.363016   \n",
       "8  0.224193  1.717222 -1.267710    ...    -1.391286 -0.275034  2.026806   \n",
       "9  0.154650  1.569007 -1.613064    ...    -1.430845 -0.294892  1.652392   \n",
       "\n",
       "      dx_14       adx      adxr      trix    change        vr  vr_6_sma  \n",
       "0 -0.017700  0.761042  1.047989 -0.435186 -0.146963 -0.961677 -0.787207  \n",
       "1 -0.491732  0.349655  0.856236 -0.416393 -0.189552 -1.131634 -0.838256  \n",
       "2 -1.063830 -0.155752  0.554994 -0.428084 -0.902234 -1.235631 -0.847340  \n",
       "3 -0.839978 -0.428006  0.253150 -0.457949 -0.275354 -1.344351 -1.097693  \n",
       "4 -0.839978 -0.620778 -0.023577 -0.499683 -0.328561 -1.381465 -1.223595  \n",
       "5  1.360778  0.066295  0.003966 -0.640604 -4.326138 -1.567069 -1.352342  \n",
       "6  1.440978  0.584858  0.192286 -0.787193  1.786625 -1.259720 -1.405244  \n",
       "7  1.440978  0.954091  0.446360 -0.933997 -0.594695 -1.307641 -1.436485  \n",
       "8  1.468815  1.227612  0.716232 -1.062485  0.218046 -1.228005 -1.435132  \n",
       "9  1.468815  1.422671  0.971971 -1.181011 -0.729020 -1.268552 -1.421677  \n",
       "\n",
       "[10 rows x 42 columns]"
      ]
     },
     "execution_count": 6,
     "metadata": {},
     "output_type": "execute_result"
    }
   ],
   "source": [
    "X.head(10)"
   ]
  },
  {
   "cell_type": "code",
   "execution_count": 8,
   "metadata": {},
   "outputs": [
    {
     "data": {
      "text/plain": [
       "(715, 715)"
      ]
     },
     "execution_count": 8,
     "metadata": {},
     "output_type": "execute_result"
    }
   ],
   "source": [
    "y_raw = getPriceDiff(pd.read_csv(DATAFILE, sep=\",\"), SHIFT_NUMBER)\n",
    "y = y_raw[SKIP: len(y_raw) - 7]\n",
    "len(y), len(X) #Dữ liệu cần có số dòng giống nhau"
   ]
  },
  {
   "cell_type": "markdown",
   "metadata": {},
   "source": [
    "### Bài 1. Polynomial Regression\n",
    "\n",
    "***Thực hiện lại việc train với Polynomial Regression với regularization l1, hệ số phạt `alpha` = 0.1, với `random_state = 0` khi dùng `train_test_split` và dùng 50% dữ liệu để validation. Tính RSE (bình phương của RMSE).*** "
   ]
  },
  {
   "cell_type": "code",
   "execution_count": 15,
   "metadata": {},
   "outputs": [
    {
     "name": "stdout",
     "output_type": "stream",
     "text": [
      "Nb_iterations used:  15170\n",
      "TrainMSE:  29.994188126537928\n",
      "ValidationMSE:  87.41474630003407\n"
     ]
    }
   ],
   "source": [
    "# YOUR CODE HERE. TRAINING WITH VALIDATION SET SIZE = 50%"
   ]
  },
  {
   "cell_type": "markdown",
   "metadata": {},
   "source": [
    "***Giảm size của tập validation còn 20% và tính lại RSE trên các tập train, validation.*** "
   ]
  },
  {
   "cell_type": "code",
   "execution_count": 19,
   "metadata": {},
   "outputs": [
    {
     "name": "stdout",
     "output_type": "stream",
     "text": [
      "Nb_iterations used:  17747\n",
      "TrainMSE:  39.21048873914117\n",
      "ValidationMSE:  59.856822857924\n"
     ]
    }
   ],
   "source": [
    "# YOUR CODE HERE. TRAINING WITH VALIDATION SET SIZE = 20%"
   ]
  },
  {
   "cell_type": "markdown",
   "metadata": {},
   "source": [
    "Nhận xét: Bài toán của ta gặp phải vấn đề thiếu dữ liệu trong khi thuật toán sử dụng phức tạp. Overfitting giảm khi số lượng dữ liệu dùng cho huấn luyện tăng lên. "
   ]
  },
  {
   "cell_type": "markdown",
   "metadata": {},
   "source": [
    "### Bài 2. FFN 2 tầng"
   ]
  },
  {
   "cell_type": "markdown",
   "metadata": {},
   "source": [
    "## References\n",
    "\n",
    "[1] <a href=\"https://toolbox.google.com/datasetsearch/search?query=MNIST%20Database%20(mnist.pkl.gz)&docid=QZBrQgKepkevjOimAAAAAA%3D%3D\">MNIST data set</a>\n",
    "\n",
    "[2] *Antonio Gulli*, Deep Learning with Keras\n",
    "\n",
    "[3] <a href=\"https://keras.io\">Keras Documentation</a>"
   ]
  }
 ],
 "metadata": {
  "kernelspec": {
   "display_name": "Python 3",
   "language": "python",
   "name": "python3"
  },
  "language_info": {
   "codemirror_mode": {
    "name": "ipython",
    "version": 3
   },
   "file_extension": ".py",
   "mimetype": "text/x-python",
   "name": "python",
   "nbconvert_exporter": "python",
   "pygments_lexer": "ipython3",
   "version": "3.5.5"
  }
 },
 "nbformat": 4,
 "nbformat_minor": 2
}
